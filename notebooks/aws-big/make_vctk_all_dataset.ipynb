{
 "cells": [
  {
   "cell_type": "code",
   "execution_count": 1,
   "metadata": {},
   "outputs": [
    {
     "name": "stderr",
     "output_type": "stream",
     "text": [
      "/usr/local/lib/python2.7/dist-packages/pydub/utils.py:165: RuntimeWarning: Couldn't find ffmpeg or avconv - defaulting to ffmpeg, but may not work\n",
      "  warn(\"Couldn't find ffmpeg or avconv - defaulting to ffmpeg, but may not work\", RuntimeWarning)\n"
     ]
    }
   ],
   "source": [
    "%matplotlib inline\n",
    "import IPython.display\n",
    "from ipywidgets import interact, interactive, fixed\n",
    "\n",
    "import numpy as np\n",
    "import matplotlib.pyplot as plt\n",
    "import copy\n",
    "from scipy.io import wavfile\n",
    "#from scipy.signal import butter, lfilter\n",
    "#import scipy.ndimage\n",
    "import os\n",
    "import argparse\n",
    "\n",
    "#import spectrograms.spectrogram_utils as su\n",
    "\n",
    "#import winsound\n",
    "import pandas as pd\n",
    "\n",
    "import glob as gl\n",
    "from IPython.display import display, HTML\n",
    "\n",
    "import pydub as pyd\n",
    "import spectrogram as sp\n",
    "from utils import generate_merlin_wav\n",
    "\n",
    "from data import *\n",
    "\n",
    "import shutil as sh\n",
    "\n",
    "import evaluate_loss_func_for_notebook as el\n",
    "\n",
    "%load_ext autoreload\n",
    "%autoreload 2\n",
    "\n",
    "vctk_raw_folder = '/home/ubuntu/VCTK-Corpus/'\n",
    "vctk_prebuilt_folder = '/home/ubuntu/vctk-16khz-cmu-no-boundaries/'"
   ]
  },
  {
   "cell_type": "code",
   "execution_count": 5,
   "metadata": {},
   "outputs": [],
   "source": [
    "def get_vtck_speaker_info():\n",
    "    # this is the reference data file that comes as part of VCTK\n",
    "    speaker_info_file = os.path.join(vctk_raw_folder, 'speaker-info.txt')\n",
    "\n",
    "   # read file contents\n",
    "    f = open(speaker_info_file, 'r')\n",
    "    x = f.readlines()\n",
    "    f.close()\n",
    "\n",
    "    # extract column headers\n",
    "    cols = x[0].lower().split()\n",
    "    num_cols = len(cols)\n",
    "    del x[0]\n",
    "    num_speaker = len(x)\n",
    "\n",
    "    # parse the data line by line\n",
    "    d = dict()\n",
    "\n",
    "    for idx in range(num_speaker):\n",
    "        this_speaker_id = int(x[idx][:3])\n",
    "        this_age = int(x[idx][5:7])\n",
    "        this_gender = x[idx][9]\n",
    "        residual = x[idx][14:].split()\n",
    "        this_accent = residual[0]\n",
    "        this_region = \" \".join(residual[1:])\n",
    "\n",
    "        # add speakers to a dictionary\n",
    "        d[this_speaker_id] = (this_speaker_id, this_age, this_gender, this_accent, this_region)\n",
    "\n",
    "    # convert to Pandas datafrae\n",
    "    speaker_info = pd.DataFrame.from_dict(d, orient='index', columns=cols)\n",
    "    \n",
    "    return speaker_info"
   ]
  },
  {
   "cell_type": "code",
   "execution_count": 6,
   "metadata": {},
   "outputs": [],
   "source": [
    "# load VCTK speaker_info metadata\n",
    "speaker_info = get_vtck_speaker_info()"
   ]
  },
  {
   "cell_type": "code",
   "execution_count": 7,
   "metadata": {},
   "outputs": [],
   "source": [
    "### Creating a Dataset for all VCTK\n",
    "all_vctk_speakers = speaker_info[speaker_info.id != 280]"
   ]
  },
  {
   "cell_type": "code",
   "execution_count": 8,
   "metadata": {},
   "outputs": [],
   "source": [
    "feat_files = [os.path.basename(g)[:-4] for g in gl.glob(os.path.join('/home/ubuntu/vctk-16khz-cmu-no-boundaries/numpy_features', '*.npz'))]"
   ]
  },
  {
   "cell_type": "code",
   "execution_count": 9,
   "metadata": {},
   "outputs": [
    {
     "data": {
      "text/plain": [
       "44039"
      ]
     },
     "execution_count": 9,
     "metadata": {},
     "output_type": "execute_result"
    }
   ],
   "source": [
    "len(feat_files)"
   ]
  },
  {
   "cell_type": "code",
   "execution_count": 10,
   "metadata": {},
   "outputs": [],
   "source": [
    "all_spkr_id = [int(f.split('_')[0][1:]) for f in feat_files]"
   ]
  },
  {
   "cell_type": "code",
   "execution_count": 11,
   "metadata": {},
   "outputs": [],
   "source": [
    "all_vctk_spkr_id = all_vctk_speakers['id'].values"
   ]
  },
  {
   "cell_type": "code",
   "execution_count": 12,
   "metadata": {},
   "outputs": [],
   "source": [
    "num_all_vctk = len(all_vctk_spkr_id)"
   ]
  },
  {
   "cell_type": "code",
   "execution_count": 13,
   "metadata": {},
   "outputs": [],
   "source": [
    "num_samples_for_speaker = np.zeros(num_all_vctk)\n",
    "num_samples_for_speaker_valid = np.zeros(num_all_vctk, dtype=np.int8)\n",
    "train_samples_for_speaker = []\n",
    "valid_samples_for_speaker = []\n",
    "\n",
    "for i, spkr in enumerate(all_vctk_spkr_id):\n",
    "    idx_this_spkr = np.array([j == spkr for j in all_spkr_id])\n",
    "    num_samples_for_speaker[i] = np.sum(idx_this_spkr)\n",
    "    \n",
    "    num_samples_for_speaker_valid[i] = np.int(np.floor(num_samples_for_speaker[i] * 0.1))\n",
    "    \n",
    "    flat_idx = np.flatnonzero(idx_this_spkr)\n",
    "    np.random.shuffle(flat_idx)\n",
    "    \n",
    "    valid_samples_for_speaker.append(flat_idx[:num_samples_for_speaker_valid[i]])\n",
    "    train_samples_for_speaker.append(flat_idx[num_samples_for_speaker_valid[i]:])    \n",
    "    "
   ]
  },
  {
   "cell_type": "code",
   "execution_count": 14,
   "metadata": {},
   "outputs": [
    {
     "data": {
      "text/plain": [
       "4316"
      ]
     },
     "execution_count": 14,
     "metadata": {},
     "output_type": "execute_result"
    }
   ],
   "source": [
    "np.sum([len(x) for x in valid_samples_for_speaker])"
   ]
  },
  {
   "cell_type": "code",
   "execution_count": 15,
   "metadata": {},
   "outputs": [
    {
     "data": {
      "text/plain": [
       "39313"
      ]
     },
     "execution_count": 15,
     "metadata": {},
     "output_type": "execute_result"
    }
   ],
   "source": [
    "np.sum([len(x) for x in train_samples_for_speaker])"
   ]
  },
  {
   "cell_type": "code",
   "execution_count": 20,
   "metadata": {},
   "outputs": [],
   "source": [
    "src_folder = '/home/ubuntu/vctk-16khz-cmu-no-boundaries/numpy_features'\n",
    "dest_folder = '/home/ubuntu/loop/data/vctk-16khz-cmu-no-boundaries-all'\n",
    "feat_files_array = np.array(feat_files)\n",
    "\n",
    "for i, spkr in enumerate(all_vctk_spkr_id):\n",
    "    f = 'numpy_features'\n",
    "    #f = 'numpy_features_valid'\n",
    "    this_dest = os.path.join(dest_folder, f)\n",
    "    \n",
    "    try:\n",
    "        os.makedirs(this_dest)\n",
    "    except:\n",
    "        pass\n",
    "    \n",
    "    for t in feat_files_array[train_samples_for_speaker[i]]:\n",
    "    #for t in feat_files_array[valid_samples_for_speaker[i]]:\n",
    "        this_src = os.path.join(src_folder, t+'.npz')\n",
    "        this_dest_file = os.path.join(this_dest, t+'.npz')\n",
    "        #print this_src, this_dest\n",
    "        # also need to convert the floats... then copy\n",
    "        \n",
    "        try:\n",
    "            tmp = dict(np.load(this_src))\n",
    "            tmp['audio_features'] = tmp['audio_features'].astype(np.float32)\n",
    "            tmp['audio_norminfo'] = tmp['audio_norminfo'].astype(np.float32)\n",
    "            \n",
    "            save_dict = {\n",
    "                    'audio_features': tmp['audio_features'],\n",
    "                    'code2phone': tmp['code2phone'],\n",
    "                    'phonemes': tmp['phonemes'],\n",
    "                    'language': tmp['language'],\n",
    "                    'audio_norminfo': tmp['audio_norminfo'],\n",
    "                }\n",
    "            \n",
    "            np.savez_compressed(this_dest_file, **tmp)\n",
    "            #np.savez(dest_file, tmp)\n",
    "        except:\n",
    "            print \"Couldn't copy: \" + src_file"
   ]
  },
  {
   "cell_type": "code",
   "execution_count": 23,
   "metadata": {},
   "outputs": [
    {
     "name": "stdout",
     "output_type": "stream",
     "text": [
      "39313\n",
      "4316\n"
     ]
    }
   ],
   "source": [
    "print len(os.listdir(os.path.join(dest_folder, 'numpy_features')))\n",
    "print len(os.listdir(os.path.join(dest_folder, 'numpy_features_valid')))"
   ]
  },
  {
   "cell_type": "code",
   "execution_count": null,
   "metadata": {},
   "outputs": [],
   "source": [
    "print 6856 + 751"
   ]
  },
  {
   "cell_type": "code",
   "execution_count": null,
   "metadata": {},
   "outputs": [],
   "source": [
    "len(feat_files)"
   ]
  },
  {
   "cell_type": "code",
   "execution_count": 27,
   "metadata": {},
   "outputs": [
    {
     "data": {
      "text/plain": [
       "43629"
      ]
     },
     "execution_count": 27,
     "metadata": {},
     "output_type": "execute_result"
    }
   ],
   "source": [
    "np.sum([np.sum(all_vctk_spkr_id == s) for s in all_spkr_id])"
   ]
  },
  {
   "cell_type": "code",
   "execution_count": 35,
   "metadata": {},
   "outputs": [
    {
     "data": {
      "text/plain": [
       "[]"
      ]
     },
     "execution_count": 35,
     "metadata": {},
     "output_type": "execute_result"
    }
   ],
   "source": [
    "gl.glob(os.path.join('/home/ubuntu/loop/data/vctk-16khz-cmu-no-boundaries-us/numpy_features', 'p315*.npz'))"
   ]
  },
  {
   "cell_type": "markdown",
   "metadata": {},
   "source": [
    "#### Copy norm_info file"
   ]
  },
  {
   "cell_type": "code",
   "execution_count": 17,
   "metadata": {},
   "outputs": [],
   "source": [
    "sh.copytree('/home/ubuntu/loop/data/vctk-16khz-cmu-no-boundaries-us/norm_info', '/home/ubuntu/loop/data/vctk-16khz-cmu-no-boundaries-all/norm_info')"
   ]
  }
 ],
 "metadata": {
  "kernelspec": {
   "display_name": "Python 2",
   "language": "python",
   "name": "python2"
  },
  "language_info": {
   "codemirror_mode": {
    "name": "ipython",
    "version": 2
   },
   "file_extension": ".py",
   "mimetype": "text/x-python",
   "name": "python",
   "nbconvert_exporter": "python",
   "pygments_lexer": "ipython2",
   "version": "2.7.12"
  }
 },
 "nbformat": 4,
 "nbformat_minor": 2
}
