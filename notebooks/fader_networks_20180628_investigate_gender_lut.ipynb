{
 "cells": [
  {
   "cell_type": "markdown",
   "metadata": {},
   "source": [
    "## Investigating Fader Network using Gender LUT\n",
    "Thu 28-Jun-18\n",
    "\n",
    "Overnight, I began training a very hacky version of a fader network that trains with a gender discrimination network based on a gender LUT that gives a 256-dim embedding.\n",
    "\n",
    "\n",
    "Fri 29-Jun-18\n",
    "Ran through again to help produce the update presentation for Mark Herbster.\n",
    "Notebook is still very messy unfortunately."
   ]
  },
  {
   "cell_type": "markdown",
   "metadata": {},
   "source": [
    "Runs in:\n",
    "* /home/ubuntu/msc-projects-fader-networks\n",
    "\n",
    "on:\n",
    "* aws-big"
   ]
  },
  {
   "cell_type": "code",
   "execution_count": 1,
   "metadata": {},
   "outputs": [
    {
     "data": {
      "text/plain": [
       "'/home/ubuntu/msc-project-fader-networks'"
      ]
     },
     "execution_count": 1,
     "metadata": {},
     "output_type": "execute_result"
    }
   ],
   "source": [
    "import os\n",
    "import sys\n",
    "\n",
    "os.chdir('../')\n",
    "os.getcwd()"
   ]
  },
  {
   "cell_type": "code",
   "execution_count": 51,
   "metadata": {},
   "outputs": [
    {
     "name": "stdout",
     "output_type": "stream",
     "text": [
      "The autoreload extension is already loaded. To reload it, use:\n",
      "  %reload_ext autoreload\n"
     ]
    }
   ],
   "source": [
    "import argparse\n",
    "import visdom\n",
    "import numpy as np\n",
    "from tqdm import tqdm\n",
    "\n",
    "import torch\n",
    "import torch.optim as optim\n",
    "import torch.nn as nn\n",
    "from torch.autograd import Variable\n",
    "import torch.nn.functional as F\n",
    "\n",
    "from data import NpzFolder, NpzLoader, TBPTTIter\n",
    "from model import Loop, MaskedMSE\n",
    "from utils import create_output_dir, wrap, check_grad\n",
    "\n",
    "import matplotlib.pyplot as plt\n",
    "\n",
    "import pandas as pd\n",
    "\n",
    "import notebook_utils as nu\n",
    "\n",
    "import speaker_recognition as sr\n",
    "\n",
    "import evaluate_loss_func_for_notebook as el\n",
    "\n",
    "from sklearn.decomposition import PCA\n",
    "\n",
    "from sklearn.manifold import TSNE\n",
    "\n",
    "import sklearn.metrics.pairwise as pw\n",
    "\n",
    "from IPython.display import Audio\n",
    "import IPython.display\n",
    "\n",
    "%load_ext autoreload\n",
    "%autoreload 2"
   ]
  },
  {
   "cell_type": "code",
   "execution_count": 3,
   "metadata": {},
   "outputs": [],
   "source": [
    "# location of the VCTK dataset\n",
    "vctk_folder = '/home/ubuntu/VCTK-Corpus/'\n",
    "\n",
    "# location of the raw pre-calculated feature files for VCTK from Jiameng\n",
    "vctk_prebuilt_raw_folder = '/home/ubuntu/vctk-16khz-cmu-no-boundaries/'\n",
    "\n",
    "# location of the float32, train/validation files for VCTK-all\n",
    "vctk_precalc_folder = '/home/ubuntu/loop/data/vctk-16khz-cmu-no-boundaries-all'\n",
    "\n",
    "#vctk_raw_folder = '/home/ubuntu/VCTK-Corpus/'"
   ]
  },
  {
   "cell_type": "code",
   "execution_count": 4,
   "metadata": {},
   "outputs": [],
   "source": [
    "gpu = 0\n",
    "seed = 1\n",
    "#data = '/home/ubuntu/loop/data/vctk'\n",
    "#nspk = 22\n",
    "#max_seq_len = 1000\n",
    "#seq_len = 100\n",
    "#batch_size = 64"
   ]
  },
  {
   "cell_type": "code",
   "execution_count": 5,
   "metadata": {},
   "outputs": [],
   "source": [
    "torch.cuda.set_device(gpu)\n",
    "torch.manual_seed(seed)\n",
    "torch.cuda.manual_seed(seed)"
   ]
  },
  {
   "cell_type": "code",
   "execution_count": 6,
   "metadata": {},
   "outputs": [],
   "source": [
    "#checkpoint = 'models/vctk/bestmodel.pth'\n",
    "\n",
    "# model checkpoint\n",
    "#checkpoint_file = '/home/ubuntu/loop/checkpoints/vctk-16khz-cmu-no-boundaries-all-noise-2/bestmodel.pth'\n",
    "checkpoint_file = '/home/ubuntu/msc-project-fader-networks/checkpoints/discriminator_test/minmodel.pth'\n",
    "\n",
    "# data for this model\n",
    "data='/home/ubuntu/loop/data/vctk-16khz-cmu-no-boundaries-all'\n",
    "\n",
    "# WORLD feature normalisation data\n",
    "norm_path = '/home/ubuntu/loop/data/vctk-16khz-cmu-no-boundaries-all/norm_info/norm.dat'\n",
    "\n",
    "# output embeddings to a file\n",
    "output_file = '/tmp/embedding_file.npy'"
   ]
  },
  {
   "cell_type": "code",
   "execution_count": 7,
   "metadata": {},
   "outputs": [],
   "source": [
    "speaker_info = nu.get_vctk_speaker_info()"
   ]
  },
  {
   "cell_type": "code",
   "execution_count": 8,
   "metadata": {},
   "outputs": [
    {
     "data": {
      "text/html": [
       "<div>\n",
       "<style scoped>\n",
       "    .dataframe tbody tr th:only-of-type {\n",
       "        vertical-align: middle;\n",
       "    }\n",
       "\n",
       "    .dataframe tbody tr th {\n",
       "        vertical-align: top;\n",
       "    }\n",
       "\n",
       "    .dataframe thead th {\n",
       "        text-align: right;\n",
       "    }\n",
       "</style>\n",
       "<table border=\"1\" class=\"dataframe\">\n",
       "  <thead>\n",
       "    <tr style=\"text-align: right;\">\n",
       "      <th></th>\n",
       "      <th>id</th>\n",
       "      <th>age</th>\n",
       "      <th>gender</th>\n",
       "      <th>accents</th>\n",
       "      <th>region</th>\n",
       "    </tr>\n",
       "  </thead>\n",
       "  <tbody>\n",
       "    <tr>\n",
       "      <th>0</th>\n",
       "      <td>225</td>\n",
       "      <td>23</td>\n",
       "      <td>F</td>\n",
       "      <td>English</td>\n",
       "      <td>Southern England</td>\n",
       "    </tr>\n",
       "    <tr>\n",
       "      <th>1</th>\n",
       "      <td>226</td>\n",
       "      <td>22</td>\n",
       "      <td>M</td>\n",
       "      <td>English</td>\n",
       "      <td>Surrey</td>\n",
       "    </tr>\n",
       "    <tr>\n",
       "      <th>2</th>\n",
       "      <td>227</td>\n",
       "      <td>38</td>\n",
       "      <td>M</td>\n",
       "      <td>English</td>\n",
       "      <td>Cumbria</td>\n",
       "    </tr>\n",
       "    <tr>\n",
       "      <th>3</th>\n",
       "      <td>228</td>\n",
       "      <td>22</td>\n",
       "      <td>F</td>\n",
       "      <td>English</td>\n",
       "      <td>Southern England</td>\n",
       "    </tr>\n",
       "    <tr>\n",
       "      <th>4</th>\n",
       "      <td>229</td>\n",
       "      <td>23</td>\n",
       "      <td>F</td>\n",
       "      <td>English</td>\n",
       "      <td>Southern England</td>\n",
       "    </tr>\n",
       "  </tbody>\n",
       "</table>\n",
       "</div>"
      ],
      "text/plain": [
       "    id  age gender  accents            region\n",
       "0  225   23      F  English  Southern England\n",
       "1  226   22      M  English            Surrey\n",
       "2  227   38      M  English           Cumbria\n",
       "3  228   22      F  English  Southern England\n",
       "4  229   23      F  English  Southern England"
      ]
     },
     "execution_count": 8,
     "metadata": {},
     "output_type": "execute_result"
    }
   ],
   "source": [
    "loader = el.get_loader(data_path = vctk_precalc_folder)\n",
    "\n",
    "loop_speaker_lookup = loader.dataset.speakers # dict['p330'] = 88\n",
    "\n",
    "# Create dict from IDs used inside VoiceLoop to VCTK speaker IDs\n",
    "speaker_list_vctk = [int(k[1:])for k in loop_speaker_lookup.keys()] # list of VCTK speaker IDs; strip out the 'p'\n",
    "speaker_dict_vctk_to_loop = dict(zip(speaker_list_vctk, loop_speaker_lookup.values())) # dict['vctk_id] = sim_id\n",
    "speaker_dict_loop_to_vctk = dict(zip(loop_speaker_lookup.values(), speaker_list_vctk)) # dict['sim_id] = vctk_id\n",
    "\n",
    "# get dataframe for VCTK reference data indexed by VoiceLoop speaker ID\n",
    "tmp = pd.DataFrame.from_dict(speaker_dict_loop_to_vctk, orient='index', columns=['id'])\n",
    "speaker_info_loop = pd.merge(speaker_info, tmp)\n",
    "\n",
    "# examples\n",
    "speaker_info_loop.head()"
   ]
  },
  {
   "cell_type": "code",
   "execution_count": 9,
   "metadata": {},
   "outputs": [],
   "source": [
    "checkpoint_args_path = os.path.join(os.path.dirname(checkpoint_file), 'args.pth')\n",
    "checkpoint_args = torch.load(checkpoint_args_path)\n",
    "\n",
    "# restore the model from the checkpoint\n",
    "checkpoint = torch.load(checkpoint_file,\n",
    "                     map_location=lambda storage, loc: storage)\n",
    "\n",
    "model = Loop(checkpoint_args[0])\n",
    "\n",
    "model.load_state_dict(checkpoint)\n",
    "\n",
    "# extract the speaker embeddings from the model\n",
    "embeddings = model.encoder.lut_s.weight.data.numpy()\n",
    "\n",
    "# save the embeddings\n",
    "np.save(output_file, embeddings)"
   ]
  },
  {
   "cell_type": "code",
   "execution_count": 10,
   "metadata": {},
   "outputs": [
    {
     "data": {
      "text/plain": [
       "Namespace(K=10, attention_alignment=0.05, batch_size=64, checkpoint='', clip_grad=0.5, data='/home/ubuntu/loop/data/vctk-16khz-cmu-no-boundaries-all', epochs=92, expName='checkpoints/discriminator_test', gpu=0, hidden_size=256, ignore_grad=10000.0, lr=0.0001, max_seq_len=1000, mem_size=20, noise=4, nspk=108, output_size=63, seed=1, seq_len=100, visualize=False, vocabulary_size=44)"
      ]
     },
     "execution_count": 10,
     "metadata": {},
     "output_type": "execute_result"
    }
   ],
   "source": [
    "# view parameters used the train the model\n",
    "checkpoint_args[0]"
   ]
  },
  {
   "cell_type": "code",
   "execution_count": 11,
   "metadata": {},
   "outputs": [
    {
     "data": {
      "text/plain": [
       "Loop(\n",
       "  (encoder): Encoder(\n",
       "    (lut_p): Embedding(44, 256, max_norm=1.0)\n",
       "    (lut_s): Embedding(108, 256, max_norm=1.0)\n",
       "    (lut_g): Embedding(2, 256, max_norm=1.0)\n",
       "  )\n",
       "  (decoder): Decoder(\n",
       "    (attn): GravesAttention(\n",
       "      (sm): Softmax()\n",
       "      (N_a): Sequential(\n",
       "        (0): Linear(in_features=6380, out_features=638, bias=True)\n",
       "        (1): ReLU()\n",
       "        (2): Linear(in_features=638, out_features=30, bias=True)\n",
       "      )\n",
       "    )\n",
       "    (N_o): Sequential(\n",
       "      (0): Linear(in_features=6380, out_features=638, bias=True)\n",
       "      (1): ReLU()\n",
       "      (2): Linear(in_features=638, out_features=256, bias=True)\n",
       "    )\n",
       "    (output): Linear(in_features=256, out_features=63, bias=True)\n",
       "    (N_u): Sequential(\n",
       "      (0): Linear(in_features=6380, out_features=638, bias=True)\n",
       "      (1): ReLU()\n",
       "      (2): Linear(in_features=638, out_features=319, bias=True)\n",
       "    )\n",
       "    (F_u): Linear(in_features=256, out_features=256, bias=True)\n",
       "    (F_o): Linear(in_features=256, out_features=256, bias=True)\n",
       "  )\n",
       ")"
      ]
     },
     "execution_count": 11,
     "metadata": {},
     "output_type": "execute_result"
    }
   ],
   "source": [
    "# view model structure\n",
    "# NOTE: now has lut_g as well\n",
    "model"
   ]
  },
  {
   "cell_type": "code",
   "execution_count": 12,
   "metadata": {},
   "outputs": [],
   "source": [
    "if embeddings.shape[0] == 108:\n",
    "    embeddings = np.delete(embeddings, -1, axis=0)"
   ]
  },
  {
   "cell_type": "code",
   "execution_count": 13,
   "metadata": {},
   "outputs": [
    {
     "data": {
      "text/plain": [
       "(107, 256)"
      ]
     },
     "execution_count": 13,
     "metadata": {},
     "output_type": "execute_result"
    }
   ],
   "source": [
    "embeddings.shape"
   ]
  },
  {
   "cell_type": "code",
   "execution_count": 14,
   "metadata": {},
   "outputs": [],
   "source": [
    "num_examples = embeddings.shape[0]"
   ]
  },
  {
   "cell_type": "code",
   "execution_count": 15,
   "metadata": {},
   "outputs": [],
   "source": [
    "b_male = np.array(speaker_info_loop.gender == 'M')\n",
    "all_data = (embeddings, b_male)"
   ]
  },
  {
   "cell_type": "code",
   "execution_count": 16,
   "metadata": {},
   "outputs": [],
   "source": [
    "b_male = np.full(num_examples, False)\n",
    "b_male = np.random.choice([True, False], num_examples)\n",
    "b_male = np.array(speaker_info_loop.gender == 'M')\n",
    "\n",
    "idx_rand = np.random.permutation(num_examples)\n",
    "cutoff = 50\n",
    "idx_train = idx_rand[:cutoff]\n",
    "idx_valid = idx_rand[cutoff:]\n",
    "train_data =  (embeddings[idx_train], b_male[idx_train])\n",
    "valid_data = (embeddings[idx_valid], b_male[idx_valid])"
   ]
  },
  {
   "cell_type": "code",
   "execution_count": 17,
   "metadata": {},
   "outputs": [],
   "source": [
    "import model_discriminator as md"
   ]
  },
  {
   "cell_type": "code",
   "execution_count": 598,
   "metadata": {},
   "outputs": [],
   "source": [
    "speaker_loop_info = md.get_speaker_info_for_discriminator()"
   ]
  },
  {
   "cell_type": "code",
   "execution_count": 599,
   "metadata": {},
   "outputs": [],
   "source": [
    "embeddings = md.get_speaker_embeddings()"
   ]
  },
  {
   "cell_type": "code",
   "execution_count": 632,
   "metadata": {},
   "outputs": [],
   "source": [
    "train_data, valid_data = md.get_train_valid_split(embeddings, speaker_info_loop)"
   ]
  },
  {
   "cell_type": "code",
   "execution_count": 633,
   "metadata": {},
   "outputs": [],
   "source": [
    "net, criterion, optimizer = md.build_discriminator()"
   ]
  },
  {
   "cell_type": "code",
   "execution_count": 634,
   "metadata": {},
   "outputs": [
    {
     "name": "stdout",
     "output_type": "stream",
     "text": [
      "Initialized: train 0.600 / validation 0.333\n",
      "Epoch 0: loss 0.691281, train 0.600 / validation 0.333\n",
      "Epoch 1: loss 0.690143, train 0.600 / validation 0.333\n",
      "Epoch 2: loss 0.689019, train 0.600 / validation 0.333\n",
      "Epoch 3: loss 0.687899, train 0.600 / validation 0.333\n",
      "Epoch 4: loss 0.686791, train 0.600 / validation 0.333\n",
      "Epoch 5: loss 0.685687, train 0.600 / validation 0.333\n",
      "Epoch 6: loss 0.684586, train 0.600 / validation 0.333\n",
      "Epoch 7: loss 0.683491, train 0.600 / validation 0.333\n",
      "Epoch 8: loss 0.682390, train 0.600 / validation 0.333\n",
      "Epoch 9: loss 0.681278, train 0.600 / validation 0.333\n",
      "Epoch 10: loss 0.680182, train 0.600 / validation 0.333\n",
      "Epoch 11: loss 0.679096, train 0.600 / validation 0.333\n",
      "Epoch 12: loss 0.678014, train 0.600 / validation 0.333\n",
      "Epoch 13: loss 0.676944, train 0.600 / validation 0.333\n",
      "Epoch 14: loss 0.675831, train 0.600 / validation 0.333\n",
      "Epoch 15: loss 0.674656, train 0.600 / validation 0.333\n",
      "Epoch 16: loss 0.673420, train 0.600 / validation 0.333\n",
      "Epoch 17: loss 0.672129, train 0.600 / validation 0.333\n",
      "Epoch 18: loss 0.670787, train 0.600 / validation 0.333\n",
      "Epoch 19: loss 0.669400, train 0.600 / validation 0.333\n",
      "Epoch 20: loss 0.667963, train 0.600 / validation 0.333\n",
      "Epoch 21: loss 0.666473, train 0.600 / validation 0.333\n",
      "Epoch 22: loss 0.664933, train 0.600 / validation 0.333\n",
      "Epoch 23: loss 0.663338, train 0.600 / validation 0.333\n",
      "Epoch 24: loss 0.661686, train 0.600 / validation 0.333\n",
      "Epoch 25: loss 0.659973, train 0.600 / validation 0.333\n",
      "Epoch 26: loss 0.658195, train 0.600 / validation 0.333\n",
      "Epoch 27: loss 0.656355, train 0.600 / validation 0.333\n",
      "Epoch 28: loss 0.654436, train 0.600 / validation 0.333\n",
      "Epoch 29: loss 0.652427, train 0.600 / validation 0.333\n",
      "Epoch 30: loss 0.650346, train 0.600 / validation 0.333\n",
      "Epoch 31: loss 0.648224, train 0.600 / validation 0.333\n",
      "Epoch 32: loss 0.646050, train 0.600 / validation 0.333\n",
      "Epoch 33: loss 0.643825, train 0.600 / validation 0.333\n",
      "Epoch 34: loss 0.641516, train 0.600 / validation 0.333\n",
      "Epoch 35: loss 0.639154, train 0.600 / validation 0.333\n",
      "Epoch 36: loss 0.636731, train 0.600 / validation 0.333\n",
      "Epoch 37: loss 0.634237, train 0.600 / validation 0.333\n",
      "Epoch 38: loss 0.631639, train 0.600 / validation 0.333\n",
      "Epoch 39: loss 0.628971, train 0.600 / validation 0.333\n",
      "Epoch 40: loss 0.626211, train 0.611 / validation 0.333\n",
      "Epoch 41: loss 0.623357, train 0.611 / validation 0.333\n",
      "Epoch 42: loss 0.620415, train 0.611 / validation 0.333\n",
      "Epoch 43: loss 0.617403, train 0.621 / validation 0.333\n",
      "Epoch 44: loss 0.614317, train 0.653 / validation 0.333\n",
      "Epoch 45: loss 0.611150, train 0.705 / validation 0.333\n",
      "Epoch 46: loss 0.607899, train 0.716 / validation 0.333\n",
      "Epoch 47: loss 0.604553, train 0.747 / validation 0.333\n",
      "Epoch 48: loss 0.601120, train 0.800 / validation 0.333\n",
      "Epoch 49: loss 0.597593, train 0.811 / validation 0.333\n",
      "Epoch 50: loss 0.593961, train 0.863 / validation 0.417\n",
      "Epoch 51: loss 0.590211, train 0.895 / validation 0.417\n",
      "Epoch 52: loss 0.586340, train 0.926 / validation 0.500\n",
      "Epoch 53: loss 0.582337, train 0.958 / validation 0.500\n",
      "Epoch 54: loss 0.578210, train 0.958 / validation 0.500\n",
      "Epoch 55: loss 0.573946, train 0.958 / validation 0.500\n",
      "Epoch 56: loss 0.569566, train 0.979 / validation 0.583\n",
      "Epoch 57: loss 0.565057, train 0.979 / validation 0.583\n",
      "Epoch 58: loss 0.560408, train 0.979 / validation 0.667\n",
      "Epoch 59: loss 0.555633, train 0.979 / validation 0.833\n",
      "Epoch 60: loss 0.550728, train 1.000 / validation 0.833\n",
      "Epoch 61: loss 0.545691, train 1.000 / validation 0.833\n",
      "Epoch 62: loss 0.540523, train 1.000 / validation 0.833\n",
      "Epoch 63: loss 0.535213, train 1.000 / validation 0.833\n",
      "Epoch 64: loss 0.529771, train 1.000 / validation 0.833\n",
      "Epoch 65: loss 0.524199, train 1.000 / validation 0.833\n",
      "Epoch 66: loss 0.518498, train 1.000 / validation 0.917\n",
      "Epoch 67: loss 0.512675, train 1.000 / validation 0.917\n",
      "Epoch 68: loss 0.506761, train 1.000 / validation 0.917\n",
      "Epoch 69: loss 0.500749, train 1.000 / validation 0.917\n",
      "Epoch 70: loss 0.494624, train 1.000 / validation 0.917\n",
      "Epoch 71: loss 0.488388, train 1.000 / validation 0.917\n",
      "Epoch 72: loss 0.482058, train 1.000 / validation 0.917\n",
      "Epoch 73: loss 0.475656, train 1.000 / validation 0.917\n",
      "Epoch 74: loss 0.469173, train 1.000 / validation 0.917\n",
      "Epoch 75: loss 0.462604, train 1.000 / validation 0.917\n",
      "Epoch 76: loss 0.455939, train 1.000 / validation 0.917\n",
      "Epoch 77: loss 0.449187, train 1.000 / validation 0.917\n",
      "Epoch 78: loss 0.442346, train 1.000 / validation 1.000\n",
      "Epoch 79: loss 0.435412, train 1.000 / validation 1.000\n",
      "Epoch 80: loss 0.428393, train 1.000 / validation 1.000\n",
      "Epoch 81: loss 0.421301, train 1.000 / validation 1.000\n",
      "Epoch 82: loss 0.414144, train 1.000 / validation 1.000\n",
      "Epoch 83: loss 0.406922, train 1.000 / validation 1.000\n",
      "Epoch 84: loss 0.399633, train 1.000 / validation 1.000\n",
      "Epoch 85: loss 0.392278, train 1.000 / validation 1.000\n",
      "Epoch 86: loss 0.384870, train 1.000 / validation 1.000\n",
      "Epoch 87: loss 0.377417, train 1.000 / validation 1.000\n",
      "Epoch 88: loss 0.369917, train 1.000 / validation 1.000\n",
      "Epoch 89: loss 0.362376, train 1.000 / validation 1.000\n",
      "Epoch 90: loss 0.354805, train 1.000 / validation 1.000\n",
      "Epoch 91: loss 0.347205, train 1.000 / validation 1.000\n",
      "Epoch 92: loss 0.339587, train 1.000 / validation 1.000\n",
      "Epoch 93: loss 0.331956, train 1.000 / validation 1.000\n",
      "Epoch 94: loss 0.324321, train 1.000 / validation 1.000\n",
      "Epoch 95: loss 0.316695, train 1.000 / validation 1.000\n",
      "Epoch 96: loss 0.309107, train 1.000 / validation 1.000\n",
      "Epoch 97: loss 0.301548, train 1.000 / validation 1.000\n",
      "Epoch 98: loss 0.294018, train 1.000 / validation 1.000\n",
      "Epoch 99: loss 0.286518, train 1.000 / validation 1.000\n",
      "Epoch 100: loss 0.279060, train 1.000 / validation 1.000\n",
      "Epoch 101: loss 0.271654, train 1.000 / validation 1.000\n",
      "Epoch 102: loss 0.264308, train 1.000 / validation 1.000\n",
      "Epoch 103: loss 0.257034, train 1.000 / validation 1.000\n",
      "Epoch 104: loss 0.249840, train 1.000 / validation 1.000\n",
      "Epoch 105: loss 0.242733, train 1.000 / validation 1.000\n",
      "Epoch 106: loss 0.235722, train 1.000 / validation 1.000\n",
      "Epoch 107: loss 0.228812, train 1.000 / validation 1.000\n",
      "Epoch 108: loss 0.222009, train 1.000 / validation 1.000\n",
      "Epoch 109: loss 0.215317, train 1.000 / validation 1.000\n",
      "Epoch 110: loss 0.208741, train 1.000 / validation 1.000\n",
      "Epoch 111: loss 0.202287, train 1.000 / validation 1.000\n",
      "Epoch 112: loss 0.195961, train 1.000 / validation 1.000\n",
      "Epoch 113: loss 0.189768, train 1.000 / validation 1.000\n",
      "Epoch 114: loss 0.183711, train 1.000 / validation 1.000\n",
      "Epoch 115: loss 0.177790, train 1.000 / validation 1.000\n",
      "Epoch 116: loss 0.172011, train 1.000 / validation 1.000\n",
      "Epoch 117: loss 0.166376, train 1.000 / validation 1.000\n",
      "Epoch 118: loss 0.160888, train 1.000 / validation 1.000\n",
      "Epoch 119: loss 0.155547, train 1.000 / validation 1.000\n",
      "Epoch 120: loss 0.150354, train 1.000 / validation 1.000\n",
      "Epoch 121: loss 0.145309, train 1.000 / validation 1.000\n",
      "Epoch 122: loss 0.140412, train 1.000 / validation 1.000\n",
      "Epoch 123: loss 0.135664, train 1.000 / validation 1.000\n",
      "Epoch 124: loss 0.131060, train 1.000 / validation 1.000\n",
      "Epoch 125: loss 0.126598, train 1.000 / validation 1.000\n",
      "Epoch 126: loss 0.122266, train 1.000 / validation 1.000\n",
      "Epoch 127: loss 0.118053, train 1.000 / validation 1.000\n",
      "Epoch 128: loss 0.113945, train 1.000 / validation 1.000\n",
      "Epoch 129: loss 0.109931, train 1.000 / validation 1.000\n",
      "Epoch 130: loss 0.106001, train 1.000 / validation 1.000\n",
      "Epoch 131: loss 0.102154, train 1.000 / validation 1.000\n",
      "Epoch 132: loss 0.098389, train 1.000 / validation 1.000\n",
      "Epoch 133: loss 0.094715, train 1.000 / validation 1.000\n",
      "Epoch 134: loss 0.091129, train 1.000 / validation 1.000\n",
      "Epoch 135: loss 0.087654, train 1.000 / validation 1.000\n",
      "Epoch 136: loss 0.084314, train 1.000 / validation 1.000\n",
      "Epoch 137: loss 0.081117, train 1.000 / validation 1.000\n",
      "Epoch 138: loss 0.078036, train 1.000 / validation 1.000\n",
      "Epoch 139: loss 0.075070, train 1.000 / validation 1.000\n",
      "Epoch 140: loss 0.072218, train 1.000 / validation 1.000\n",
      "Epoch 141: loss 0.069479, train 1.000 / validation 1.000\n",
      "Epoch 142: loss 0.066851, train 1.000 / validation 1.000\n",
      "Epoch 143: loss 0.064335, train 1.000 / validation 1.000\n",
      "Epoch 144: loss 0.061939, train 1.000 / validation 1.000\n",
      "Epoch 145: loss 0.059698, train 1.000 / validation 1.000\n",
      "Epoch 146: loss 0.057579, train 1.000 / validation 1.000\n",
      "Epoch 147: loss 0.055568, train 1.000 / validation 1.000\n",
      "Epoch 148: loss 0.053637, train 1.000 / validation 1.000\n",
      "Epoch 149: loss 0.051778, train 1.000 / validation 1.000\n",
      "Epoch 150: loss 0.049991, train 1.000 / validation 1.000\n",
      "Epoch 151: loss 0.048274, train 1.000 / validation 1.000\n",
      "Epoch 152: loss 0.046627, train 1.000 / validation 1.000\n",
      "Epoch 153: loss 0.045048, train 1.000 / validation 1.000\n",
      "Epoch 154: loss 0.043541, train 1.000 / validation 1.000\n",
      "Epoch 155: loss 0.042103, train 1.000 / validation 1.000\n",
      "Epoch 156: loss 0.040731, train 1.000 / validation 1.000\n",
      "Epoch 157: loss 0.039421, train 1.000 / validation 1.000\n",
      "Epoch 158: loss 0.038172, train 1.000 / validation 1.000\n",
      "Epoch 159: loss 0.036979, train 1.000 / validation 1.000\n",
      "Epoch 160: loss 0.035841, train 1.000 / validation 1.000\n",
      "Epoch 161: loss 0.034754, train 1.000 / validation 1.000\n",
      "Epoch 162: loss 0.033715, train 1.000 / validation 1.000\n",
      "Epoch 163: loss 0.032721, train 1.000 / validation 1.000\n",
      "Epoch 164: loss 0.031768, train 1.000 / validation 1.000\n",
      "Epoch 165: loss 0.030855, train 1.000 / validation 1.000\n",
      "Epoch 166: loss 0.029977, train 1.000 / validation 1.000\n",
      "Epoch 167: loss 0.029135, train 1.000 / validation 1.000\n",
      "Epoch 168: loss 0.028327, train 1.000 / validation 1.000\n",
      "Epoch 169: loss 0.027551, train 1.000 / validation 1.000\n",
      "Epoch 170: loss 0.026807, train 1.000 / validation 1.000\n",
      "Epoch 171: loss 0.026094, train 1.000 / validation 1.000\n",
      "Epoch 172: loss 0.025409, train 1.000 / validation 1.000\n",
      "Epoch 173: loss 0.024751, train 1.000 / validation 1.000\n",
      "Epoch 174: loss 0.024120, train 1.000 / validation 1.000\n",
      "Epoch 175: loss 0.023513, train 1.000 / validation 1.000\n",
      "Epoch 176: loss 0.022930, train 1.000 / validation 1.000\n",
      "Epoch 177: loss 0.022369, train 1.000 / validation 1.000\n",
      "Epoch 178: loss 0.021829, train 1.000 / validation 1.000\n",
      "Epoch 179: loss 0.021310, train 1.000 / validation 1.000\n"
     ]
    },
    {
     "name": "stdout",
     "output_type": "stream",
     "text": [
      "Epoch 180: loss 0.020808, train 1.000 / validation 1.000\n",
      "Epoch 181: loss 0.020325, train 1.000 / validation 1.000\n",
      "Epoch 182: loss 0.019860, train 1.000 / validation 1.000\n",
      "Epoch 183: loss 0.019411, train 1.000 / validation 1.000\n",
      "Epoch 184: loss 0.018977, train 1.000 / validation 1.000\n",
      "Epoch 185: loss 0.018559, train 1.000 / validation 1.000\n",
      "Epoch 186: loss 0.018154, train 1.000 / validation 1.000\n",
      "Epoch 187: loss 0.017764, train 1.000 / validation 1.000\n",
      "Epoch 188: loss 0.017387, train 1.000 / validation 1.000\n",
      "Epoch 189: loss 0.017022, train 1.000 / validation 1.000\n",
      "Epoch 190: loss 0.016670, train 1.000 / validation 1.000\n",
      "Epoch 191: loss 0.016330, train 1.000 / validation 1.000\n",
      "Epoch 192: loss 0.016000, train 1.000 / validation 1.000\n",
      "Epoch 193: loss 0.015681, train 1.000 / validation 1.000\n",
      "Epoch 194: loss 0.015372, train 1.000 / validation 1.000\n",
      "Epoch 195: loss 0.015073, train 1.000 / validation 1.000\n",
      "Epoch 196: loss 0.014782, train 1.000 / validation 1.000\n",
      "Epoch 197: loss 0.014501, train 1.000 / validation 1.000\n",
      "Epoch 198: loss 0.014228, train 1.000 / validation 1.000\n",
      "Epoch 199: loss 0.013963, train 1.000 / validation 1.000\n",
      "Epoch 200: loss 0.013706, train 1.000 / validation 1.000\n",
      "Epoch 201: loss 0.013457, train 1.000 / validation 1.000\n",
      "Epoch 202: loss 0.013214, train 1.000 / validation 1.000\n",
      "Epoch 203: loss 0.012979, train 1.000 / validation 1.000\n",
      "Epoch 204: loss 0.012750, train 1.000 / validation 1.000\n",
      "Epoch 205: loss 0.012528, train 1.000 / validation 1.000\n",
      "Epoch 206: loss 0.012312, train 1.000 / validation 1.000\n",
      "Epoch 207: loss 0.012102, train 1.000 / validation 1.000\n",
      "Epoch 208: loss 0.011898, train 1.000 / validation 1.000\n",
      "Epoch 209: loss 0.011698, train 1.000 / validation 1.000\n",
      "Epoch 210: loss 0.011504, train 1.000 / validation 1.000\n",
      "Epoch 211: loss 0.011316, train 1.000 / validation 1.000\n",
      "Epoch 212: loss 0.011132, train 1.000 / validation 1.000\n",
      "Epoch 213: loss 0.010953, train 1.000 / validation 1.000\n",
      "Epoch 214: loss 0.010779, train 1.000 / validation 1.000\n",
      "Epoch 215: loss 0.010609, train 1.000 / validation 1.000\n",
      "Epoch 216: loss 0.010443, train 1.000 / validation 1.000\n",
      "Epoch 217: loss 0.010281, train 1.000 / validation 1.000\n",
      "Epoch 218: loss 0.010123, train 1.000 / validation 1.000\n",
      "Epoch 219: loss 0.009969, train 1.000 / validation 1.000\n",
      "Epoch 220: loss 0.009819, train 1.000 / validation 1.000\n",
      "Epoch 221: loss 0.009673, train 1.000 / validation 1.000\n",
      "Epoch 222: loss 0.009530, train 1.000 / validation 1.000\n",
      "Epoch 223: loss 0.009390, train 1.000 / validation 1.000\n",
      "Epoch 224: loss 0.009253, train 1.000 / validation 1.000\n",
      "Epoch 225: loss 0.009120, train 1.000 / validation 1.000\n",
      "Epoch 226: loss 0.008989, train 1.000 / validation 1.000\n",
      "Epoch 227: loss 0.008862, train 1.000 / validation 1.000\n",
      "Epoch 228: loss 0.008737, train 1.000 / validation 1.000\n",
      "Epoch 229: loss 0.008616, train 1.000 / validation 1.000\n",
      "Epoch 230: loss 0.008496, train 1.000 / validation 1.000\n",
      "Epoch 231: loss 0.008380, train 1.000 / validation 1.000\n",
      "Epoch 232: loss 0.008266, train 1.000 / validation 1.000\n",
      "Epoch 233: loss 0.008154, train 1.000 / validation 1.000\n",
      "Epoch 234: loss 0.008045, train 1.000 / validation 1.000\n",
      "Epoch 235: loss 0.007938, train 1.000 / validation 1.000\n",
      "Epoch 236: loss 0.007834, train 1.000 / validation 1.000\n",
      "Epoch 237: loss 0.007731, train 1.000 / validation 1.000\n",
      "Epoch 238: loss 0.007631, train 1.000 / validation 1.000\n",
      "Epoch 239: loss 0.007532, train 1.000 / validation 1.000\n",
      "Epoch 240: loss 0.007436, train 1.000 / validation 1.000\n",
      "Epoch 241: loss 0.007342, train 1.000 / validation 1.000\n",
      "Epoch 242: loss 0.007249, train 1.000 / validation 1.000\n",
      "Epoch 243: loss 0.007158, train 1.000 / validation 1.000\n",
      "Epoch 244: loss 0.007070, train 1.000 / validation 1.000\n",
      "Epoch 245: loss 0.006982, train 1.000 / validation 1.000\n",
      "Epoch 246: loss 0.006897, train 1.000 / validation 1.000\n",
      "Epoch 247: loss 0.006813, train 1.000 / validation 1.000\n",
      "Epoch 248: loss 0.006731, train 1.000 / validation 1.000\n",
      "Epoch 249: loss 0.006650, train 1.000 / validation 1.000\n",
      "Epoch 250: loss 0.006571, train 1.000 / validation 1.000\n",
      "Epoch 251: loss 0.006493, train 1.000 / validation 1.000\n",
      "Epoch 252: loss 0.006417, train 1.000 / validation 1.000\n",
      "Epoch 253: loss 0.006342, train 1.000 / validation 1.000\n",
      "Epoch 254: loss 0.006269, train 1.000 / validation 1.000\n",
      "Epoch 255: loss 0.006197, train 1.000 / validation 1.000\n",
      "Epoch 256: loss 0.006126, train 1.000 / validation 1.000\n",
      "Epoch 257: loss 0.006056, train 1.000 / validation 1.000\n",
      "Epoch 258: loss 0.005988, train 1.000 / validation 1.000\n",
      "Epoch 259: loss 0.005921, train 1.000 / validation 1.000\n",
      "Epoch 260: loss 0.005855, train 1.000 / validation 1.000\n",
      "Epoch 261: loss 0.005790, train 1.000 / validation 1.000\n",
      "Epoch 262: loss 0.005726, train 1.000 / validation 1.000\n",
      "Epoch 263: loss 0.005663, train 1.000 / validation 1.000\n",
      "Epoch 264: loss 0.005602, train 1.000 / validation 1.000\n",
      "Epoch 265: loss 0.005541, train 1.000 / validation 1.000\n",
      "Epoch 266: loss 0.005482, train 1.000 / validation 1.000\n",
      "Epoch 267: loss 0.005423, train 1.000 / validation 1.000\n",
      "Epoch 268: loss 0.005366, train 1.000 / validation 1.000\n",
      "Epoch 269: loss 0.005309, train 1.000 / validation 1.000\n",
      "Epoch 270: loss 0.005254, train 1.000 / validation 1.000\n",
      "Epoch 271: loss 0.005199, train 1.000 / validation 1.000\n",
      "Epoch 272: loss 0.005145, train 1.000 / validation 1.000\n",
      "Epoch 273: loss 0.005092, train 1.000 / validation 1.000\n",
      "Epoch 274: loss 0.005040, train 1.000 / validation 1.000\n",
      "Epoch 275: loss 0.004989, train 1.000 / validation 1.000\n",
      "Epoch 276: loss 0.004938, train 1.000 / validation 1.000\n",
      "Epoch 277: loss 0.004889, train 1.000 / validation 1.000\n",
      "Epoch 278: loss 0.004840, train 1.000 / validation 1.000\n",
      "Epoch 279: loss 0.004792, train 1.000 / validation 1.000\n",
      "Epoch 280: loss 0.004744, train 1.000 / validation 1.000\n",
      "Epoch 281: loss 0.004698, train 1.000 / validation 1.000\n",
      "Epoch 282: loss 0.004652, train 1.000 / validation 1.000\n",
      "Epoch 283: loss 0.004607, train 1.000 / validation 1.000\n",
      "Epoch 284: loss 0.004562, train 1.000 / validation 1.000\n",
      "Epoch 285: loss 0.004518, train 1.000 / validation 1.000\n",
      "Epoch 286: loss 0.004475, train 1.000 / validation 1.000\n",
      "Epoch 287: loss 0.004432, train 1.000 / validation 1.000\n",
      "Epoch 288: loss 0.004390, train 1.000 / validation 1.000\n",
      "Epoch 289: loss 0.004349, train 1.000 / validation 1.000\n",
      "Epoch 290: loss 0.004308, train 1.000 / validation 1.000\n",
      "Epoch 291: loss 0.004268, train 1.000 / validation 1.000\n",
      "Epoch 292: loss 0.004229, train 1.000 / validation 1.000\n",
      "Epoch 293: loss 0.004189, train 1.000 / validation 1.000\n",
      "Epoch 294: loss 0.004151, train 1.000 / validation 1.000\n",
      "Epoch 295: loss 0.004113, train 1.000 / validation 1.000\n",
      "Epoch 296: loss 0.004076, train 1.000 / validation 1.000\n",
      "Epoch 297: loss 0.004039, train 1.000 / validation 1.000\n",
      "Epoch 298: loss 0.004003, train 1.000 / validation 1.000\n",
      "Epoch 299: loss 0.003967, train 1.000 / validation 1.000\n",
      "Epoch 300: loss 0.003931, train 1.000 / validation 1.000\n",
      "Epoch 301: loss 0.003897, train 1.000 / validation 1.000\n",
      "Epoch 302: loss 0.003862, train 1.000 / validation 1.000\n",
      "Epoch 303: loss 0.003828, train 1.000 / validation 1.000\n",
      "Epoch 304: loss 0.003795, train 1.000 / validation 1.000\n",
      "Epoch 305: loss 0.003762, train 1.000 / validation 1.000\n",
      "Epoch 306: loss 0.003729, train 1.000 / validation 1.000\n",
      "Epoch 307: loss 0.003697, train 1.000 / validation 1.000\n",
      "Epoch 308: loss 0.003666, train 1.000 / validation 1.000\n",
      "Epoch 309: loss 0.003634, train 1.000 / validation 1.000\n",
      "Epoch 310: loss 0.003604, train 1.000 / validation 1.000\n",
      "Epoch 311: loss 0.003573, train 1.000 / validation 1.000\n",
      "Epoch 312: loss 0.003543, train 1.000 / validation 1.000\n",
      "Epoch 313: loss 0.003514, train 1.000 / validation 1.000\n",
      "Epoch 314: loss 0.003484, train 1.000 / validation 1.000\n",
      "Epoch 315: loss 0.003455, train 1.000 / validation 1.000\n",
      "Epoch 316: loss 0.003427, train 1.000 / validation 1.000\n",
      "Epoch 317: loss 0.003399, train 1.000 / validation 1.000\n",
      "Epoch 318: loss 0.003371, train 1.000 / validation 1.000\n",
      "Epoch 319: loss 0.003344, train 1.000 / validation 1.000\n",
      "Epoch 320: loss 0.003317, train 1.000 / validation 1.000\n",
      "Epoch 321: loss 0.003290, train 1.000 / validation 1.000\n",
      "Epoch 322: loss 0.003263, train 1.000 / validation 1.000\n",
      "Epoch 323: loss 0.003237, train 1.000 / validation 1.000\n",
      "Epoch 324: loss 0.003212, train 1.000 / validation 1.000\n",
      "Epoch 325: loss 0.003186, train 1.000 / validation 1.000\n",
      "Epoch 326: loss 0.003161, train 1.000 / validation 1.000\n",
      "Epoch 327: loss 0.003136, train 1.000 / validation 1.000\n",
      "Epoch 328: loss 0.003112, train 1.000 / validation 1.000\n",
      "Epoch 329: loss 0.003087, train 1.000 / validation 1.000\n",
      "Epoch 330: loss 0.003063, train 1.000 / validation 1.000\n",
      "Epoch 331: loss 0.003040, train 1.000 / validation 1.000\n",
      "Epoch 332: loss 0.003016, train 1.000 / validation 1.000\n",
      "Epoch 333: loss 0.002993, train 1.000 / validation 1.000\n",
      "Epoch 334: loss 0.002970, train 1.000 / validation 1.000\n",
      "Epoch 335: loss 0.002948, train 1.000 / validation 1.000\n",
      "Epoch 336: loss 0.002926, train 1.000 / validation 1.000\n",
      "Epoch 337: loss 0.002904, train 1.000 / validation 1.000\n",
      "Epoch 338: loss 0.002882, train 1.000 / validation 1.000\n",
      "Epoch 339: loss 0.002860, train 1.000 / validation 1.000\n",
      "Epoch 340: loss 0.002839, train 1.000 / validation 1.000\n",
      "Epoch 341: loss 0.002818, train 1.000 / validation 1.000\n",
      "Epoch 342: loss 0.002797, train 1.000 / validation 1.000\n",
      "Epoch 343: loss 0.002777, train 1.000 / validation 1.000\n",
      "Epoch 344: loss 0.002756, train 1.000 / validation 1.000\n",
      "Epoch 345: loss 0.002736, train 1.000 / validation 1.000\n",
      "Epoch 346: loss 0.002716, train 1.000 / validation 1.000\n",
      "Epoch 347: loss 0.002697, train 1.000 / validation 1.000\n",
      "Epoch 348: loss 0.002677, train 1.000 / validation 1.000\n",
      "Epoch 349: loss 0.002658, train 1.000 / validation 1.000\n",
      "Epoch 350: loss 0.002639, train 1.000 / validation 1.000\n",
      "Epoch 351: loss 0.002620, train 1.000 / validation 1.000\n",
      "Epoch 352: loss 0.002602, train 1.000 / validation 1.000\n",
      "Epoch 353: loss 0.002583, train 1.000 / validation 1.000\n",
      "Epoch 354: loss 0.002565, train 1.000 / validation 1.000\n",
      "Epoch 355: loss 0.002547, train 1.000 / validation 1.000\n",
      "Epoch 356: loss 0.002529, train 1.000 / validation 1.000\n",
      "Epoch 357: loss 0.002512, train 1.000 / validation 1.000\n",
      "Epoch 358: loss 0.002494, train 1.000 / validation 1.000\n",
      "Epoch 359: loss 0.002477, train 1.000 / validation 1.000\n",
      "Epoch 360: loss 0.002460, train 1.000 / validation 1.000\n",
      "Epoch 361: loss 0.002443, train 1.000 / validation 1.000\n"
     ]
    },
    {
     "name": "stdout",
     "output_type": "stream",
     "text": [
      "Epoch 362: loss 0.002426, train 1.000 / validation 1.000\n",
      "Epoch 363: loss 0.002410, train 1.000 / validation 1.000\n",
      "Epoch 364: loss 0.002394, train 1.000 / validation 1.000\n",
      "Epoch 365: loss 0.002377, train 1.000 / validation 1.000\n",
      "Epoch 366: loss 0.002361, train 1.000 / validation 1.000\n",
      "Epoch 367: loss 0.002346, train 1.000 / validation 1.000\n",
      "Epoch 368: loss 0.002330, train 1.000 / validation 1.000\n",
      "Epoch 369: loss 0.002314, train 1.000 / validation 1.000\n",
      "Epoch 370: loss 0.002299, train 1.000 / validation 1.000\n",
      "Epoch 371: loss 0.002284, train 1.000 / validation 1.000\n",
      "Epoch 372: loss 0.002269, train 1.000 / validation 1.000\n",
      "Epoch 373: loss 0.002254, train 1.000 / validation 1.000\n",
      "Epoch 374: loss 0.002239, train 1.000 / validation 1.000\n",
      "Epoch 375: loss 0.002225, train 1.000 / validation 1.000\n",
      "Epoch 376: loss 0.002210, train 1.000 / validation 1.000\n",
      "Epoch 377: loss 0.002196, train 1.000 / validation 1.000\n",
      "Epoch 378: loss 0.002182, train 1.000 / validation 1.000\n",
      "Epoch 379: loss 0.002168, train 1.000 / validation 1.000\n",
      "Epoch 380: loss 0.002154, train 1.000 / validation 1.000\n",
      "Epoch 381: loss 0.002140, train 1.000 / validation 1.000\n",
      "Epoch 382: loss 0.002126, train 1.000 / validation 1.000\n",
      "Epoch 383: loss 0.002113, train 1.000 / validation 1.000\n",
      "Epoch 384: loss 0.002099, train 1.000 / validation 1.000\n",
      "Epoch 385: loss 0.002086, train 1.000 / validation 1.000\n",
      "Epoch 386: loss 0.002073, train 1.000 / validation 1.000\n",
      "Epoch 387: loss 0.002060, train 1.000 / validation 1.000\n",
      "Epoch 388: loss 0.002047, train 1.000 / validation 1.000\n",
      "Epoch 389: loss 0.002035, train 1.000 / validation 1.000\n",
      "Epoch 390: loss 0.002022, train 1.000 / validation 1.000\n",
      "Epoch 391: loss 0.002010, train 1.000 / validation 1.000\n",
      "Epoch 392: loss 0.001997, train 1.000 / validation 1.000\n",
      "Epoch 393: loss 0.001985, train 1.000 / validation 1.000\n",
      "Epoch 394: loss 0.001973, train 1.000 / validation 1.000\n",
      "Epoch 395: loss 0.001961, train 1.000 / validation 1.000\n",
      "Epoch 396: loss 0.001949, train 1.000 / validation 1.000\n",
      "Epoch 397: loss 0.001937, train 1.000 / validation 1.000\n",
      "Epoch 398: loss 0.001925, train 1.000 / validation 1.000\n",
      "Epoch 399: loss 0.001914, train 1.000 / validation 1.000\n",
      "Epoch 400: loss 0.001902, train 1.000 / validation 1.000\n",
      "Epoch 401: loss 0.001891, train 1.000 / validation 1.000\n",
      "Epoch 402: loss 0.001880, train 1.000 / validation 1.000\n",
      "Epoch 403: loss 0.001869, train 1.000 / validation 1.000\n",
      "Epoch 404: loss 0.001857, train 1.000 / validation 1.000\n",
      "Epoch 405: loss 0.001847, train 1.000 / validation 1.000\n",
      "Epoch 406: loss 0.001836, train 1.000 / validation 1.000\n",
      "Epoch 407: loss 0.001825, train 1.000 / validation 1.000\n",
      "Epoch 408: loss 0.001814, train 1.000 / validation 1.000\n",
      "Epoch 409: loss 0.001804, train 1.000 / validation 1.000\n",
      "Epoch 410: loss 0.001793, train 1.000 / validation 1.000\n",
      "Epoch 411: loss 0.001783, train 1.000 / validation 1.000\n",
      "Epoch 412: loss 0.001772, train 1.000 / validation 1.000\n",
      "Epoch 413: loss 0.001762, train 1.000 / validation 1.000\n",
      "Epoch 414: loss 0.001752, train 1.000 / validation 1.000\n",
      "Epoch 415: loss 0.001742, train 1.000 / validation 1.000\n",
      "Epoch 416: loss 0.001732, train 1.000 / validation 1.000\n",
      "Epoch 417: loss 0.001722, train 1.000 / validation 1.000\n",
      "Epoch 418: loss 0.001713, train 1.000 / validation 1.000\n",
      "Epoch 419: loss 0.001703, train 1.000 / validation 1.000\n",
      "Epoch 420: loss 0.001693, train 1.000 / validation 1.000\n",
      "Epoch 421: loss 0.001684, train 1.000 / validation 1.000\n",
      "Epoch 422: loss 0.001674, train 1.000 / validation 1.000\n",
      "Epoch 423: loss 0.001665, train 1.000 / validation 1.000\n",
      "Epoch 424: loss 0.001656, train 1.000 / validation 1.000\n",
      "Epoch 425: loss 0.001647, train 1.000 / validation 1.000\n",
      "Epoch 426: loss 0.001637, train 1.000 / validation 1.000\n",
      "Epoch 427: loss 0.001628, train 1.000 / validation 1.000\n",
      "Epoch 428: loss 0.001619, train 1.000 / validation 1.000\n",
      "Epoch 429: loss 0.001611, train 1.000 / validation 1.000\n",
      "Epoch 430: loss 0.001602, train 1.000 / validation 1.000\n",
      "Epoch 431: loss 0.001593, train 1.000 / validation 1.000\n",
      "Epoch 432: loss 0.001584, train 1.000 / validation 1.000\n",
      "Epoch 433: loss 0.001576, train 1.000 / validation 1.000\n",
      "Epoch 434: loss 0.001567, train 1.000 / validation 1.000\n",
      "Epoch 435: loss 0.001559, train 1.000 / validation 1.000\n",
      "Epoch 436: loss 0.001550, train 1.000 / validation 1.000\n",
      "Epoch 437: loss 0.001542, train 1.000 / validation 1.000\n",
      "Epoch 438: loss 0.001534, train 1.000 / validation 1.000\n",
      "Epoch 439: loss 0.001526, train 1.000 / validation 1.000\n",
      "Epoch 440: loss 0.001517, train 1.000 / validation 1.000\n",
      "Epoch 441: loss 0.001509, train 1.000 / validation 1.000\n",
      "Epoch 442: loss 0.001501, train 1.000 / validation 1.000\n",
      "Epoch 443: loss 0.001494, train 1.000 / validation 1.000\n",
      "Epoch 444: loss 0.001486, train 1.000 / validation 1.000\n",
      "Epoch 445: loss 0.001478, train 1.000 / validation 1.000\n",
      "Epoch 446: loss 0.001470, train 1.000 / validation 1.000\n",
      "Epoch 447: loss 0.001462, train 1.000 / validation 1.000\n",
      "Epoch 448: loss 0.001455, train 1.000 / validation 1.000\n",
      "Epoch 449: loss 0.001447, train 1.000 / validation 1.000\n",
      "Epoch 450: loss 0.001440, train 1.000 / validation 1.000\n",
      "Epoch 451: loss 0.001432, train 1.000 / validation 1.000\n",
      "Epoch 452: loss 0.001425, train 1.000 / validation 1.000\n",
      "Epoch 453: loss 0.001418, train 1.000 / validation 1.000\n",
      "Epoch 454: loss 0.001410, train 1.000 / validation 1.000\n",
      "Epoch 455: loss 0.001403, train 1.000 / validation 1.000\n",
      "Epoch 456: loss 0.001396, train 1.000 / validation 1.000\n",
      "Epoch 457: loss 0.001389, train 1.000 / validation 1.000\n",
      "Epoch 458: loss 0.001382, train 1.000 / validation 1.000\n",
      "Epoch 459: loss 0.001375, train 1.000 / validation 1.000\n",
      "Epoch 460: loss 0.001368, train 1.000 / validation 1.000\n",
      "Epoch 461: loss 0.001361, train 1.000 / validation 1.000\n",
      "Epoch 462: loss 0.001354, train 1.000 / validation 1.000\n",
      "Epoch 463: loss 0.001348, train 1.000 / validation 1.000\n",
      "Epoch 464: loss 0.001341, train 1.000 / validation 1.000\n",
      "Epoch 465: loss 0.001334, train 1.000 / validation 1.000\n",
      "Epoch 466: loss 0.001328, train 1.000 / validation 1.000\n",
      "Epoch 467: loss 0.001321, train 1.000 / validation 1.000\n",
      "Epoch 468: loss 0.001314, train 1.000 / validation 1.000\n",
      "Epoch 469: loss 0.001308, train 1.000 / validation 1.000\n",
      "Epoch 470: loss 0.001302, train 1.000 / validation 1.000\n",
      "Epoch 471: loss 0.001295, train 1.000 / validation 1.000\n",
      "Epoch 472: loss 0.001289, train 1.000 / validation 1.000\n",
      "Epoch 473: loss 0.001283, train 1.000 / validation 1.000\n",
      "Epoch 474: loss 0.001276, train 1.000 / validation 1.000\n",
      "Epoch 475: loss 0.001270, train 1.000 / validation 1.000\n",
      "Epoch 476: loss 0.001264, train 1.000 / validation 1.000\n",
      "Epoch 477: loss 0.001258, train 1.000 / validation 1.000\n",
      "Epoch 478: loss 0.001252, train 1.000 / validation 1.000\n",
      "Epoch 479: loss 0.001246, train 1.000 / validation 1.000\n",
      "Epoch 480: loss 0.001240, train 1.000 / validation 1.000\n",
      "Epoch 481: loss 0.001234, train 1.000 / validation 1.000\n",
      "Epoch 482: loss 0.001228, train 1.000 / validation 1.000\n",
      "Epoch 483: loss 0.001222, train 1.000 / validation 1.000\n",
      "Epoch 484: loss 0.001217, train 1.000 / validation 1.000\n",
      "Epoch 485: loss 0.001211, train 1.000 / validation 1.000\n",
      "Epoch 486: loss 0.001205, train 1.000 / validation 1.000\n",
      "Epoch 487: loss 0.001199, train 1.000 / validation 1.000\n",
      "Epoch 488: loss 0.001194, train 1.000 / validation 1.000\n",
      "Epoch 489: loss 0.001188, train 1.000 / validation 1.000\n",
      "Epoch 490: loss 0.001183, train 1.000 / validation 1.000\n",
      "Epoch 491: loss 0.001177, train 1.000 / validation 1.000\n",
      "Epoch 492: loss 0.001172, train 1.000 / validation 1.000\n",
      "Epoch 493: loss 0.001166, train 1.000 / validation 1.000\n",
      "Epoch 494: loss 0.001161, train 1.000 / validation 1.000\n",
      "Epoch 495: loss 0.001155, train 1.000 / validation 1.000\n",
      "Epoch 496: loss 0.001150, train 1.000 / validation 1.000\n",
      "Epoch 497: loss 0.001145, train 1.000 / validation 1.000\n",
      "Epoch 498: loss 0.001140, train 1.000 / validation 1.000\n",
      "Epoch 499: loss 0.001134, train 1.000 / validation 1.000\n"
     ]
    }
   ],
   "source": [
    "num_epochs = 500\n",
    "net, train_accuracy, valid_accuracy, train_loss, valid_loss = md.train_discriminator(net, train_data, valid_data, criterion, optimizer, num_epochs=num_epochs)"
   ]
  },
  {
   "cell_type": "code",
   "execution_count": null,
   "metadata": {},
   "outputs": [],
   "source": [
    "plt.figure(figsize=(14,4))\n",
    "plt.subplot(1,2,1)\n",
    "plt.plot(range(num_epochs), train_accuracy)\n",
    "plt.plot(range(num_epochs), valid_accuracy)\n",
    "plt.grid(True)\n",
    "plt.legend(('train', 'valid'))\n",
    "\n",
    "plt.subplot(1,2,2)\n",
    "plt.plot(range(num_epochs), train_loss)\n",
    "plt.plot(range(num_epochs), valid_loss)\n",
    "plt.grid(True)\n",
    "plt.legend(('train', 'valid'))\n",
    "\n",
    "plt.show()"
   ]
  },
  {
   "cell_type": "code",
   "execution_count": 45,
   "metadata": {},
   "outputs": [],
   "source": [
    "r = torch.LongTensor(10).random_(2)"
   ]
  },
  {
   "cell_type": "code",
   "execution_count": 46,
   "metadata": {},
   "outputs": [
    {
     "data": {
      "text/plain": [
       "\n",
       " 0\n",
       " 1\n",
       " 0\n",
       " 0\n",
       " 1\n",
       " 0\n",
       " 1\n",
       " 0\n",
       " 1\n",
       " 0\n",
       "[torch.LongTensor of size 10]"
      ]
     },
     "execution_count": 46,
     "metadata": {},
     "output_type": "execute_result"
    }
   ],
   "source": [
    "r"
   ]
  },
  {
   "cell_type": "code",
   "execution_count": 47,
   "metadata": {},
   "outputs": [
    {
     "data": {
      "text/plain": [
       "\n",
       " 1\n",
       " 0\n",
       " 1\n",
       " 1\n",
       " 0\n",
       " 1\n",
       " 0\n",
       " 1\n",
       " 0\n",
       " 1\n",
       "[torch.LongTensor of size 10]"
      ]
     },
     "execution_count": 47,
     "metadata": {},
     "output_type": "execute_result"
    }
   ],
   "source": [
    "(r + torch.LongTensor(10).random_(2 - 1) + 1) % 2"
   ]
  },
  {
   "cell_type": "code",
   "execution_count": 64,
   "metadata": {},
   "outputs": [
    {
     "data": {
      "text/plain": [
       "array([False, False, False, False, False,  True,  True,  True, False,\n",
       "        True,  True,  True,  True,  True,  True,  True,  True, False,\n",
       "       False,  True,  True,  True,  True, False, False, False, False,\n",
       "       False,  True,  True,  True, False, False, False, False, False,\n",
       "       False,  True,  True,  True,  True,  True, False, False,  True,\n",
       "       False, False, False, False, False,  True,  True, False, False,\n",
       "        True,  True, False, False, False, False,  True,  True, False,\n",
       "       False, False, False,  True, False, False, False,  True, False,\n",
       "       False, False, False, False,  True, False, False, False,  True,\n",
       "        True, False, False,  True, False,  True,  True, False, False,\n",
       "       False,  True, False,  True,  True,  True,  True, False,  True, False], dtype=bool)"
      ]
     },
     "execution_count": 64,
     "metadata": {},
     "output_type": "execute_result"
    }
   ],
   "source": [
    "train_data[1]"
   ]
  },
  {
   "cell_type": "code",
   "execution_count": 63,
   "metadata": {},
   "outputs": [
    {
     "data": {
      "text/plain": [
       "array([1, 1, 1, 1, 1, 0, 0, 0, 1, 0, 0, 0, 0, 0, 0, 0, 0, 1, 1, 0, 0, 0, 0,\n",
       "       1, 1, 1, 1, 1, 0, 0, 0, 1, 1, 1, 1, 1, 1, 0, 0, 0, 0, 0, 1, 1, 0, 1,\n",
       "       1, 1, 1, 1, 0, 0, 1, 1, 0, 0, 1, 1, 1, 1, 0, 0, 1, 1, 1, 1, 0, 1, 1,\n",
       "       1, 0, 1, 1, 1, 1, 1, 0, 1, 1, 1, 0, 0, 1, 1, 0, 1, 0, 0, 1, 1, 1, 0,\n",
       "       1, 0, 0, 0, 0, 1, 0, 1])"
      ]
     },
     "execution_count": 63,
     "metadata": {},
     "output_type": "execute_result"
    }
   ],
   "source": [
    "(train_data[1] + 1) % 2"
   ]
  },
  {
   "cell_type": "code",
   "execution_count": 64,
   "metadata": {},
   "outputs": [],
   "source": [
    "tmp = speaker_info_loop[10:11].copy()"
   ]
  },
  {
   "cell_type": "code",
   "execution_count": 44,
   "metadata": {},
   "outputs": [
    {
     "data": {
      "text/html": [
       "<div>\n",
       "<style scoped>\n",
       "    .dataframe tbody tr th:only-of-type {\n",
       "        vertical-align: middle;\n",
       "    }\n",
       "\n",
       "    .dataframe tbody tr th {\n",
       "        vertical-align: top;\n",
       "    }\n",
       "\n",
       "    .dataframe thead th {\n",
       "        text-align: right;\n",
       "    }\n",
       "</style>\n",
       "<table border=\"1\" class=\"dataframe\">\n",
       "  <thead>\n",
       "    <tr style=\"text-align: right;\">\n",
       "      <th></th>\n",
       "      <th>id</th>\n",
       "      <th>age</th>\n",
       "      <th>gender</th>\n",
       "      <th>accents</th>\n",
       "      <th>region</th>\n",
       "    </tr>\n",
       "  </thead>\n",
       "  <tbody>\n",
       "    <tr>\n",
       "      <th>107</th>\n",
       "      <td>236</td>\n",
       "      <td>25</td>\n",
       "      <td>F</td>\n",
       "      <td>English</td>\n",
       "      <td>Manchester</td>\n",
       "    </tr>\n",
       "  </tbody>\n",
       "</table>\n",
       "</div>"
      ],
      "text/plain": [
       "      id  age gender  accents      region\n",
       "107  236   25      F  English  Manchester"
      ]
     },
     "execution_count": 44,
     "metadata": {},
     "output_type": "execute_result"
    }
   ],
   "source": [
    "tmp.age = 25\n",
    "tmp.index.set_value(tmp.index, 10, 107)\n",
    "tmp"
   ]
  },
  {
   "cell_type": "code",
   "execution_count": 61,
   "metadata": {},
   "outputs": [],
   "source": [
    "tmp.reset_index(inplace=True)"
   ]
  },
  {
   "cell_type": "code",
   "execution_count": null,
   "metadata": {},
   "outputs": [],
   "source": [
    "tmp.drop('index', axis = 1, inplace=True)\n",
    "df[\"Country\"].replace(\"Republic of Korea\", value=\"South Korea\", inplace=True)\n",
    "df.set_index(\"Country\", inplace=True)"
   ]
  },
  {
   "cell_type": "code",
   "execution_count": 56,
   "metadata": {},
   "outputs": [],
   "source": [
    "tmp.reset_index(inplace=True)"
   ]
  },
  {
   "cell_type": "code",
   "execution_count": 68,
   "metadata": {},
   "outputs": [
    {
     "ename": "TypeError",
     "evalue": "set_value() takes exactly 4 arguments (2 given)",
     "output_type": "error",
     "traceback": [
      "\u001b[0;31m---------------------------------------------------------------------------\u001b[0m",
      "\u001b[0;31mTypeError\u001b[0m                                 Traceback (most recent call last)",
      "\u001b[0;32m<ipython-input-68-2a2b79fbaa89>\u001b[0m in \u001b[0;36m<module>\u001b[0;34m()\u001b[0m\n\u001b[0;32m----> 1\u001b[0;31m \u001b[0mtmp\u001b[0m\u001b[0;34m.\u001b[0m\u001b[0mindex\u001b[0m\u001b[0;34m.\u001b[0m\u001b[0mset_value\u001b[0m\u001b[0;34m(\u001b[0m\u001b[0;36m107\u001b[0m\u001b[0;34m)\u001b[0m\u001b[0;34m\u001b[0m\u001b[0m\n\u001b[0m",
      "\u001b[0;31mTypeError\u001b[0m: set_value() takes exactly 4 arguments (2 given)"
     ]
    }
   ],
   "source": [
    "tmp.index.set_value(107)"
   ]
  },
  {
   "cell_type": "code",
   "execution_count": 70,
   "metadata": {},
   "outputs": [
    {
     "data": {
      "text/html": [
       "<div>\n",
       "<style scoped>\n",
       "    .dataframe tbody tr th:only-of-type {\n",
       "        vertical-align: middle;\n",
       "    }\n",
       "\n",
       "    .dataframe tbody tr th {\n",
       "        vertical-align: top;\n",
       "    }\n",
       "\n",
       "    .dataframe thead th {\n",
       "        text-align: right;\n",
       "    }\n",
       "</style>\n",
       "<table border=\"1\" class=\"dataframe\">\n",
       "  <thead>\n",
       "    <tr style=\"text-align: right;\">\n",
       "      <th></th>\n",
       "      <th>id</th>\n",
       "      <th>age</th>\n",
       "      <th>gender</th>\n",
       "      <th>accents</th>\n",
       "      <th>region</th>\n",
       "    </tr>\n",
       "  </thead>\n",
       "  <tbody>\n",
       "    <tr>\n",
       "      <th>0</th>\n",
       "      <td>225</td>\n",
       "      <td>23</td>\n",
       "      <td>F</td>\n",
       "      <td>English</td>\n",
       "      <td>Southern England</td>\n",
       "    </tr>\n",
       "    <tr>\n",
       "      <th>1</th>\n",
       "      <td>226</td>\n",
       "      <td>22</td>\n",
       "      <td>M</td>\n",
       "      <td>English</td>\n",
       "      <td>Surrey</td>\n",
       "    </tr>\n",
       "    <tr>\n",
       "      <th>2</th>\n",
       "      <td>227</td>\n",
       "      <td>38</td>\n",
       "      <td>M</td>\n",
       "      <td>English</td>\n",
       "      <td>Cumbria</td>\n",
       "    </tr>\n",
       "    <tr>\n",
       "      <th>3</th>\n",
       "      <td>228</td>\n",
       "      <td>22</td>\n",
       "      <td>F</td>\n",
       "      <td>English</td>\n",
       "      <td>Southern England</td>\n",
       "    </tr>\n",
       "    <tr>\n",
       "      <th>4</th>\n",
       "      <td>229</td>\n",
       "      <td>23</td>\n",
       "      <td>F</td>\n",
       "      <td>English</td>\n",
       "      <td>Southern England</td>\n",
       "    </tr>\n",
       "    <tr>\n",
       "      <th>5</th>\n",
       "      <td>230</td>\n",
       "      <td>22</td>\n",
       "      <td>F</td>\n",
       "      <td>English</td>\n",
       "      <td>Stockton-on-tees</td>\n",
       "    </tr>\n",
       "    <tr>\n",
       "      <th>6</th>\n",
       "      <td>231</td>\n",
       "      <td>23</td>\n",
       "      <td>F</td>\n",
       "      <td>English</td>\n",
       "      <td>Southern England</td>\n",
       "    </tr>\n",
       "    <tr>\n",
       "      <th>7</th>\n",
       "      <td>232</td>\n",
       "      <td>23</td>\n",
       "      <td>M</td>\n",
       "      <td>English</td>\n",
       "      <td>Southern England</td>\n",
       "    </tr>\n",
       "    <tr>\n",
       "      <th>8</th>\n",
       "      <td>233</td>\n",
       "      <td>23</td>\n",
       "      <td>F</td>\n",
       "      <td>English</td>\n",
       "      <td>Staffordshire</td>\n",
       "    </tr>\n",
       "    <tr>\n",
       "      <th>9</th>\n",
       "      <td>234</td>\n",
       "      <td>22</td>\n",
       "      <td>F</td>\n",
       "      <td>Scottish</td>\n",
       "      <td>West Dumfries</td>\n",
       "    </tr>\n",
       "    <tr>\n",
       "      <th>10</th>\n",
       "      <td>236</td>\n",
       "      <td>23</td>\n",
       "      <td>F</td>\n",
       "      <td>English</td>\n",
       "      <td>Manchester</td>\n",
       "    </tr>\n",
       "    <tr>\n",
       "      <th>11</th>\n",
       "      <td>237</td>\n",
       "      <td>22</td>\n",
       "      <td>M</td>\n",
       "      <td>Scottish</td>\n",
       "      <td>Fife</td>\n",
       "    </tr>\n",
       "    <tr>\n",
       "      <th>12</th>\n",
       "      <td>238</td>\n",
       "      <td>22</td>\n",
       "      <td>F</td>\n",
       "      <td>NorthernIrish</td>\n",
       "      <td>Belfast</td>\n",
       "    </tr>\n",
       "    <tr>\n",
       "      <th>13</th>\n",
       "      <td>239</td>\n",
       "      <td>22</td>\n",
       "      <td>F</td>\n",
       "      <td>English</td>\n",
       "      <td>SW England</td>\n",
       "    </tr>\n",
       "    <tr>\n",
       "      <th>14</th>\n",
       "      <td>240</td>\n",
       "      <td>21</td>\n",
       "      <td>F</td>\n",
       "      <td>English</td>\n",
       "      <td>Southern England</td>\n",
       "    </tr>\n",
       "    <tr>\n",
       "      <th>15</th>\n",
       "      <td>241</td>\n",
       "      <td>21</td>\n",
       "      <td>M</td>\n",
       "      <td>Scottish</td>\n",
       "      <td>Perth</td>\n",
       "    </tr>\n",
       "    <tr>\n",
       "      <th>16</th>\n",
       "      <td>243</td>\n",
       "      <td>22</td>\n",
       "      <td>M</td>\n",
       "      <td>English</td>\n",
       "      <td>London</td>\n",
       "    </tr>\n",
       "    <tr>\n",
       "      <th>17</th>\n",
       "      <td>244</td>\n",
       "      <td>22</td>\n",
       "      <td>F</td>\n",
       "      <td>English</td>\n",
       "      <td>Manchester</td>\n",
       "    </tr>\n",
       "    <tr>\n",
       "      <th>18</th>\n",
       "      <td>245</td>\n",
       "      <td>25</td>\n",
       "      <td>M</td>\n",
       "      <td>Irish</td>\n",
       "      <td>Dublin</td>\n",
       "    </tr>\n",
       "    <tr>\n",
       "      <th>19</th>\n",
       "      <td>246</td>\n",
       "      <td>22</td>\n",
       "      <td>M</td>\n",
       "      <td>Scottish</td>\n",
       "      <td>Selkirk</td>\n",
       "    </tr>\n",
       "    <tr>\n",
       "      <th>20</th>\n",
       "      <td>247</td>\n",
       "      <td>22</td>\n",
       "      <td>M</td>\n",
       "      <td>Scottish</td>\n",
       "      <td>Argyll</td>\n",
       "    </tr>\n",
       "    <tr>\n",
       "      <th>21</th>\n",
       "      <td>248</td>\n",
       "      <td>23</td>\n",
       "      <td>F</td>\n",
       "      <td>Indian</td>\n",
       "      <td></td>\n",
       "    </tr>\n",
       "    <tr>\n",
       "      <th>22</th>\n",
       "      <td>249</td>\n",
       "      <td>22</td>\n",
       "      <td>F</td>\n",
       "      <td>Scottish</td>\n",
       "      <td>Aberdeen</td>\n",
       "    </tr>\n",
       "    <tr>\n",
       "      <th>23</th>\n",
       "      <td>250</td>\n",
       "      <td>22</td>\n",
       "      <td>F</td>\n",
       "      <td>English</td>\n",
       "      <td>SE England</td>\n",
       "    </tr>\n",
       "    <tr>\n",
       "      <th>24</th>\n",
       "      <td>251</td>\n",
       "      <td>26</td>\n",
       "      <td>M</td>\n",
       "      <td>Indian</td>\n",
       "      <td></td>\n",
       "    </tr>\n",
       "    <tr>\n",
       "      <th>25</th>\n",
       "      <td>252</td>\n",
       "      <td>22</td>\n",
       "      <td>M</td>\n",
       "      <td>Scottish</td>\n",
       "      <td>Edinburgh</td>\n",
       "    </tr>\n",
       "    <tr>\n",
       "      <th>26</th>\n",
       "      <td>253</td>\n",
       "      <td>22</td>\n",
       "      <td>F</td>\n",
       "      <td>Welsh</td>\n",
       "      <td>Cardiff</td>\n",
       "    </tr>\n",
       "    <tr>\n",
       "      <th>27</th>\n",
       "      <td>254</td>\n",
       "      <td>21</td>\n",
       "      <td>M</td>\n",
       "      <td>English</td>\n",
       "      <td>Surrey</td>\n",
       "    </tr>\n",
       "    <tr>\n",
       "      <th>28</th>\n",
       "      <td>255</td>\n",
       "      <td>19</td>\n",
       "      <td>M</td>\n",
       "      <td>Scottish</td>\n",
       "      <td>Galloway</td>\n",
       "    </tr>\n",
       "    <tr>\n",
       "      <th>29</th>\n",
       "      <td>256</td>\n",
       "      <td>24</td>\n",
       "      <td>M</td>\n",
       "      <td>English</td>\n",
       "      <td>Birmingham</td>\n",
       "    </tr>\n",
       "    <tr>\n",
       "      <th>...</th>\n",
       "      <td>...</td>\n",
       "      <td>...</td>\n",
       "      <td>...</td>\n",
       "      <td>...</td>\n",
       "      <td>...</td>\n",
       "    </tr>\n",
       "    <tr>\n",
       "      <th>78</th>\n",
       "      <td>311</td>\n",
       "      <td>21</td>\n",
       "      <td>M</td>\n",
       "      <td>American</td>\n",
       "      <td>Iowa</td>\n",
       "    </tr>\n",
       "    <tr>\n",
       "      <th>79</th>\n",
       "      <td>312</td>\n",
       "      <td>19</td>\n",
       "      <td>F</td>\n",
       "      <td>Canadian</td>\n",
       "      <td>Hamilton</td>\n",
       "    </tr>\n",
       "    <tr>\n",
       "      <th>80</th>\n",
       "      <td>313</td>\n",
       "      <td>24</td>\n",
       "      <td>F</td>\n",
       "      <td>Irish</td>\n",
       "      <td>County Down</td>\n",
       "    </tr>\n",
       "    <tr>\n",
       "      <th>81</th>\n",
       "      <td>314</td>\n",
       "      <td>26</td>\n",
       "      <td>F</td>\n",
       "      <td>SouthAfrican</td>\n",
       "      <td>Cape Town</td>\n",
       "    </tr>\n",
       "    <tr>\n",
       "      <th>82</th>\n",
       "      <td>316</td>\n",
       "      <td>20</td>\n",
       "      <td>M</td>\n",
       "      <td>Canadian</td>\n",
       "      <td>Alberta</td>\n",
       "    </tr>\n",
       "    <tr>\n",
       "      <th>83</th>\n",
       "      <td>317</td>\n",
       "      <td>23</td>\n",
       "      <td>F</td>\n",
       "      <td>Canadian</td>\n",
       "      <td>Hamilton</td>\n",
       "    </tr>\n",
       "    <tr>\n",
       "      <th>84</th>\n",
       "      <td>318</td>\n",
       "      <td>32</td>\n",
       "      <td>F</td>\n",
       "      <td>American</td>\n",
       "      <td>Napa</td>\n",
       "    </tr>\n",
       "    <tr>\n",
       "      <th>85</th>\n",
       "      <td>323</td>\n",
       "      <td>19</td>\n",
       "      <td>F</td>\n",
       "      <td>SouthAfrican</td>\n",
       "      <td>Pretoria</td>\n",
       "    </tr>\n",
       "    <tr>\n",
       "      <th>86</th>\n",
       "      <td>326</td>\n",
       "      <td>26</td>\n",
       "      <td>M</td>\n",
       "      <td>Australian</td>\n",
       "      <td>English Sydney</td>\n",
       "    </tr>\n",
       "    <tr>\n",
       "      <th>87</th>\n",
       "      <td>329</td>\n",
       "      <td>23</td>\n",
       "      <td>F</td>\n",
       "      <td>American</td>\n",
       "      <td></td>\n",
       "    </tr>\n",
       "    <tr>\n",
       "      <th>88</th>\n",
       "      <td>330</td>\n",
       "      <td>26</td>\n",
       "      <td>F</td>\n",
       "      <td>American</td>\n",
       "      <td></td>\n",
       "    </tr>\n",
       "    <tr>\n",
       "      <th>89</th>\n",
       "      <td>333</td>\n",
       "      <td>19</td>\n",
       "      <td>F</td>\n",
       "      <td>American</td>\n",
       "      <td>Indiana</td>\n",
       "    </tr>\n",
       "    <tr>\n",
       "      <th>90</th>\n",
       "      <td>334</td>\n",
       "      <td>18</td>\n",
       "      <td>M</td>\n",
       "      <td>American</td>\n",
       "      <td>Chicago</td>\n",
       "    </tr>\n",
       "    <tr>\n",
       "      <th>91</th>\n",
       "      <td>335</td>\n",
       "      <td>25</td>\n",
       "      <td>F</td>\n",
       "      <td>NewZealand</td>\n",
       "      <td>English</td>\n",
       "    </tr>\n",
       "    <tr>\n",
       "      <th>92</th>\n",
       "      <td>336</td>\n",
       "      <td>18</td>\n",
       "      <td>F</td>\n",
       "      <td>SouthAfrican</td>\n",
       "      <td>Johannesburg</td>\n",
       "    </tr>\n",
       "    <tr>\n",
       "      <th>93</th>\n",
       "      <td>339</td>\n",
       "      <td>21</td>\n",
       "      <td>F</td>\n",
       "      <td>American</td>\n",
       "      <td>Pennsylvania</td>\n",
       "    </tr>\n",
       "    <tr>\n",
       "      <th>94</th>\n",
       "      <td>340</td>\n",
       "      <td>18</td>\n",
       "      <td>F</td>\n",
       "      <td>Irish</td>\n",
       "      <td>Dublin</td>\n",
       "    </tr>\n",
       "    <tr>\n",
       "      <th>95</th>\n",
       "      <td>341</td>\n",
       "      <td>26</td>\n",
       "      <td>F</td>\n",
       "      <td>American</td>\n",
       "      <td>Ohio</td>\n",
       "    </tr>\n",
       "    <tr>\n",
       "      <th>96</th>\n",
       "      <td>343</td>\n",
       "      <td>27</td>\n",
       "      <td>F</td>\n",
       "      <td>Canadian</td>\n",
       "      <td>Alberta</td>\n",
       "    </tr>\n",
       "    <tr>\n",
       "      <th>97</th>\n",
       "      <td>345</td>\n",
       "      <td>22</td>\n",
       "      <td>M</td>\n",
       "      <td>American</td>\n",
       "      <td>Florida</td>\n",
       "    </tr>\n",
       "    <tr>\n",
       "      <th>98</th>\n",
       "      <td>347</td>\n",
       "      <td>26</td>\n",
       "      <td>M</td>\n",
       "      <td>SouthAfrican</td>\n",
       "      <td>Johannesburg</td>\n",
       "    </tr>\n",
       "    <tr>\n",
       "      <th>99</th>\n",
       "      <td>351</td>\n",
       "      <td>21</td>\n",
       "      <td>F</td>\n",
       "      <td>NorthernIrish</td>\n",
       "      <td>Derry</td>\n",
       "    </tr>\n",
       "    <tr>\n",
       "      <th>100</th>\n",
       "      <td>360</td>\n",
       "      <td>19</td>\n",
       "      <td>M</td>\n",
       "      <td>American</td>\n",
       "      <td>New Jersey</td>\n",
       "    </tr>\n",
       "    <tr>\n",
       "      <th>101</th>\n",
       "      <td>361</td>\n",
       "      <td>19</td>\n",
       "      <td>F</td>\n",
       "      <td>American</td>\n",
       "      <td>New Jersey</td>\n",
       "    </tr>\n",
       "    <tr>\n",
       "      <th>102</th>\n",
       "      <td>362</td>\n",
       "      <td>29</td>\n",
       "      <td>F</td>\n",
       "      <td>American</td>\n",
       "      <td></td>\n",
       "    </tr>\n",
       "    <tr>\n",
       "      <th>103</th>\n",
       "      <td>363</td>\n",
       "      <td>22</td>\n",
       "      <td>M</td>\n",
       "      <td>Canadian</td>\n",
       "      <td>Toronto</td>\n",
       "    </tr>\n",
       "    <tr>\n",
       "      <th>104</th>\n",
       "      <td>364</td>\n",
       "      <td>23</td>\n",
       "      <td>M</td>\n",
       "      <td>Irish</td>\n",
       "      <td>Donegal</td>\n",
       "    </tr>\n",
       "    <tr>\n",
       "      <th>105</th>\n",
       "      <td>374</td>\n",
       "      <td>28</td>\n",
       "      <td>M</td>\n",
       "      <td>Australian</td>\n",
       "      <td>English</td>\n",
       "    </tr>\n",
       "    <tr>\n",
       "      <th>106</th>\n",
       "      <td>376</td>\n",
       "      <td>22</td>\n",
       "      <td>M</td>\n",
       "      <td>Indian</td>\n",
       "      <td></td>\n",
       "    </tr>\n",
       "    <tr>\n",
       "      <th>107</th>\n",
       "      <td>236</td>\n",
       "      <td>23</td>\n",
       "      <td>F</td>\n",
       "      <td>English</td>\n",
       "      <td>Manchester</td>\n",
       "    </tr>\n",
       "  </tbody>\n",
       "</table>\n",
       "<p>108 rows × 5 columns</p>\n",
       "</div>"
      ],
      "text/plain": [
       "      id  age gender        accents            region\n",
       "0    225   23      F        English  Southern England\n",
       "1    226   22      M        English            Surrey\n",
       "2    227   38      M        English           Cumbria\n",
       "3    228   22      F        English  Southern England\n",
       "4    229   23      F        English  Southern England\n",
       "5    230   22      F        English  Stockton-on-tees\n",
       "6    231   23      F        English  Southern England\n",
       "7    232   23      M        English  Southern England\n",
       "8    233   23      F        English     Staffordshire\n",
       "9    234   22      F       Scottish     West Dumfries\n",
       "10   236   23      F        English        Manchester\n",
       "11   237   22      M       Scottish              Fife\n",
       "12   238   22      F  NorthernIrish           Belfast\n",
       "13   239   22      F        English        SW England\n",
       "14   240   21      F        English  Southern England\n",
       "15   241   21      M       Scottish             Perth\n",
       "16   243   22      M        English            London\n",
       "17   244   22      F        English        Manchester\n",
       "18   245   25      M          Irish            Dublin\n",
       "19   246   22      M       Scottish           Selkirk\n",
       "20   247   22      M       Scottish            Argyll\n",
       "21   248   23      F         Indian                  \n",
       "22   249   22      F       Scottish          Aberdeen\n",
       "23   250   22      F        English        SE England\n",
       "24   251   26      M         Indian                  \n",
       "25   252   22      M       Scottish         Edinburgh\n",
       "26   253   22      F          Welsh           Cardiff\n",
       "27   254   21      M        English            Surrey\n",
       "28   255   19      M       Scottish          Galloway\n",
       "29   256   24      M        English        Birmingham\n",
       "..   ...  ...    ...            ...               ...\n",
       "78   311   21      M       American              Iowa\n",
       "79   312   19      F       Canadian          Hamilton\n",
       "80   313   24      F          Irish       County Down\n",
       "81   314   26      F   SouthAfrican         Cape Town\n",
       "82   316   20      M       Canadian           Alberta\n",
       "83   317   23      F       Canadian          Hamilton\n",
       "84   318   32      F       American              Napa\n",
       "85   323   19      F   SouthAfrican          Pretoria\n",
       "86   326   26      M     Australian    English Sydney\n",
       "87   329   23      F       American                  \n",
       "88   330   26      F       American                  \n",
       "89   333   19      F       American           Indiana\n",
       "90   334   18      M       American           Chicago\n",
       "91   335   25      F     NewZealand           English\n",
       "92   336   18      F   SouthAfrican      Johannesburg\n",
       "93   339   21      F       American      Pennsylvania\n",
       "94   340   18      F          Irish            Dublin\n",
       "95   341   26      F       American              Ohio\n",
       "96   343   27      F       Canadian           Alberta\n",
       "97   345   22      M       American           Florida\n",
       "98   347   26      M   SouthAfrican      Johannesburg\n",
       "99   351   21      F  NorthernIrish             Derry\n",
       "100  360   19      M       American        New Jersey\n",
       "101  361   19      F       American        New Jersey\n",
       "102  362   29      F       American                  \n",
       "103  363   22      M       Canadian           Toronto\n",
       "104  364   23      M          Irish           Donegal\n",
       "105  374   28      M     Australian           English\n",
       "106  376   22      M         Indian                  \n",
       "107  236   23      F        English        Manchester\n",
       "\n",
       "[108 rows x 5 columns]"
      ]
     },
     "execution_count": 70,
     "metadata": {},
     "output_type": "execute_result"
    }
   ],
   "source": [
    "pd.concat([speaker_info_loop, tmp], ignore_index=True)"
   ]
  },
  {
   "cell_type": "code",
   "execution_count": 37,
   "metadata": {},
   "outputs": [],
   "source": [
    "tmp.index.set_value(tmp.index, 10, 107)"
   ]
  },
  {
   "cell_type": "markdown",
   "metadata": {},
   "source": [
    "### Look at saved speaker embeddings"
   ]
  },
  {
   "cell_type": "code",
   "execution_count": 331,
   "metadata": {},
   "outputs": [],
   "source": [
    "saved_embeddings = np.load('start_embeddings.npy')\n",
    "#saved_embeddings = np.load('train_embeddings_random.npy')\n",
    "saved_embeddings = np.load('train_embeddings_min.npy')\n",
    "#saved_embeddings = np.load('train_embeddings_last.npy')"
   ]
  },
  {
   "cell_type": "code",
   "execution_count": 332,
   "metadata": {},
   "outputs": [],
   "source": [
    "embeddings = saved_embeddings[0]\n",
    "speaker_info = saved_embeddings[1]"
   ]
  },
  {
   "cell_type": "code",
   "execution_count": 333,
   "metadata": {},
   "outputs": [
    {
     "name": "stdout",
     "output_type": "stream",
     "text": [
      "accuracy: 0.389\n"
     ]
    }
   ],
   "source": [
    "print \"accuracy: %.3f\" % saved_embeddings[2]"
   ]
  },
  {
   "cell_type": "code",
   "execution_count": 334,
   "metadata": {},
   "outputs": [],
   "source": [
    "if embeddings.shape[0] == 108:\n",
    "    embeddings = np.delete(embeddings, -1, axis=0)"
   ]
  },
  {
   "cell_type": "code",
   "execution_count": 335,
   "metadata": {},
   "outputs": [
    {
     "data": {
      "image/png": "[encoded data removed]",
      "text/plain": [
       "<matplotlib.figure.Figure at 0x7fc590770910>"
      ]
     },
     "metadata": {},
     "output_type": "display_data"
    }
   ],
   "source": [
    "# plot norm of speaker embeddings\n",
    "plt.barh(range(embeddings.shape[0]), np.sum(embeddings**2,1))\n",
    "plt.grid(True)\n",
    "plt.xlabel('L2 Norm')\n",
    "plt.ylabel('Speaker ID')\n",
    "plt.title('Norm of Speaker Embedding Vectors')\n",
    "plt.show()"
   ]
  },
  {
   "cell_type": "code",
   "execution_count": 336,
   "metadata": {},
   "outputs": [],
   "source": [
    "# PCA\n",
    "pca = PCA(n_components=2)\n",
    "pca_fit = pca.fit_transform(embeddings)\n",
    "\n",
    "# t-sne\n",
    "tsne = TSNE(n_components=2)\n",
    "tsne_fit = tsne.fit_transform(embeddings)"
   ]
  },
  {
   "cell_type": "code",
   "execution_count": 337,
   "metadata": {},
   "outputs": [
    {
     "data": {
      "text/plain": [
       "array([ 0.03189931,  0.02902083], dtype=float32)"
      ]
     },
     "execution_count": 337,
     "metadata": {},
     "output_type": "execute_result"
    }
   ],
   "source": [
    "pca.explained_variance_ratio_"
   ]
  },
  {
   "cell_type": "code",
   "execution_count": 338,
   "metadata": {},
   "outputs": [],
   "source": [
    "idx_m = speaker_info['gender'] == 'M'\n",
    "idx_f = speaker_info['gender'] == 'F'"
   ]
  },
  {
   "cell_type": "code",
   "execution_count": 339,
   "metadata": {},
   "outputs": [
    {
     "data": {
      "image/png": "[encoded data removed]",
      "text/plain": [
       "<matplotlib.figure.Figure at 0x7fc5906b3450>"
      ]
     },
     "metadata": {},
     "output_type": "display_data"
    }
   ],
   "source": [
    "plt.figure(figsize=(10,6))\n",
    "m_plot = plt.scatter(pca_fit[idx_m, 0], pca_fit[idx_m, 1], c='b', label='male')\n",
    "f_plot = plt.scatter(pca_fit[idx_f, 0], pca_fit[idx_f, 1], c='r', label='female')\n",
    "leg = plt.legend(handles=[m_plot, f_plot])\n",
    "plt.grid(True)\n",
    "plt.title('PCA: Speakers by Gender')\n",
    "plt.show()"
   ]
  },
  {
   "cell_type": "code",
   "execution_count": 340,
   "metadata": {},
   "outputs": [
    {
     "data": {
      "image/png": "[encoded data removed]",
      "text/plain": [
       "<matplotlib.figure.Figure at 0x7fc4fe047c50>"
      ]
     },
     "metadata": {},
     "output_type": "display_data"
    }
   ],
   "source": [
    "plt.figure(figsize=(10,6))\n",
    "m_plot = plt.scatter(tsne_fit[idx_m, 0], tsne_fit[idx_m, 1], c='b', label='male')\n",
    "f_plot = plt.scatter(tsne_fit[idx_f, 0], tsne_fit[idx_f, 1], c='r', label='female')\n",
    "leg = plt.legend(handles=[m_plot, f_plot])\n",
    "plt.grid(True)\n",
    "plt.title('T-SNE: Speakers by Gender')\n",
    "plt.show()"
   ]
  },
  {
   "cell_type": "markdown",
   "metadata": {},
   "source": [
    "### Investigate gender embedding"
   ]
  },
  {
   "cell_type": "code",
   "execution_count": 341,
   "metadata": {},
   "outputs": [],
   "source": [
    "# extract the gender embeddings from the model\n",
    "embedding_g = model.encoder.lut_g.weight.data.numpy()"
   ]
  },
  {
   "cell_type": "code",
   "execution_count": 342,
   "metadata": {},
   "outputs": [
    {
     "data": {
      "text/plain": [
       "(2, 256)"
      ]
     },
     "execution_count": 342,
     "metadata": {},
     "output_type": "execute_result"
    }
   ],
   "source": [
    "embedding_g.shape"
   ]
  },
  {
   "cell_type": "code",
   "execution_count": 343,
   "metadata": {},
   "outputs": [
    {
     "name": "stdout",
     "output_type": "stream",
     "text": [
      "[[ 1.          0.78827477]\n",
      " [ 0.78827477  1.00000024]]\n"
     ]
    }
   ],
   "source": [
    "cosine_sim = pw.cosine_similarity(embedding_g)\n",
    "print cosine_sim"
   ]
  },
  {
   "cell_type": "code",
   "execution_count": 344,
   "metadata": {},
   "outputs": [],
   "source": [
    "gender_trans = np.zeros_like(embeddings)\n",
    "gender_trans[idx_m, :] = embedding_g[0, :]\n",
    "gender_trans[idx_f, :] = embedding_g[1, :]"
   ]
  },
  {
   "cell_type": "code",
   "execution_count": 345,
   "metadata": {},
   "outputs": [],
   "source": [
    "embeddings_transformed = embeddings + gender_trans"
   ]
  },
  {
   "cell_type": "code",
   "execution_count": 346,
   "metadata": {},
   "outputs": [],
   "source": [
    "# PCA\n",
    "pca_g = PCA(n_components=2)\n",
    "pca_fit_g = pca.fit_transform(embeddings_transformed)\n",
    "\n",
    "# t-sne\n",
    "tsne_g = TSNE(n_components=2)\n",
    "tsne_fit_g = tsne.fit_transform(embeddings_transformed)"
   ]
  },
  {
   "cell_type": "code",
   "execution_count": 347,
   "metadata": {},
   "outputs": [
    {
     "data": {
      "image/png": "[encoded data removed]",
      "text/plain": [
       "<matplotlib.figure.Figure at 0x7fc4fe01bd10>"
      ]
     },
     "metadata": {},
     "output_type": "display_data"
    }
   ],
   "source": [
    "plt.figure(figsize=(10,6))\n",
    "m_plot = plt.scatter(pca_fit_g[idx_m, 0], pca_fit_g[idx_m, 1], c='b', label='male')\n",
    "f_plot = plt.scatter(pca_fit_g[idx_f, 0], pca_fit_g[idx_f, 1], c='r', label='female')\n",
    "leg = plt.legend(handles=[m_plot, f_plot])\n",
    "plt.grid(True)\n",
    "plt.title('PCA: Speakers by Gender')\n",
    "plt.show()"
   ]
  },
  {
   "cell_type": "markdown",
   "metadata": {},
   "source": [
    "## Synthesize and play samples"
   ]
  },
  {
   "cell_type": "code",
   "execution_count": 153,
   "metadata": {},
   "outputs": [],
   "source": [
    "def gen_gender_swap():\n",
    "    \n",
    "    gender_orig = idx_m[spkr_id].astype(float)\n",
    "\n",
    "    gender_swap = 1 - gender_orig\n",
    "        \n",
    "    loop_dict = nu.generate_sample_with_loop(spkr_id=spkr_id, \n",
    "                                      npz=npz, \n",
    "                                      text=text, \n",
    "                                        gender=gender_orig,\n",
    "                                      checkpoint=checkpoint_file, \n",
    "                                      output_dir ='./',\n",
    "                                      npz_path = '/home/ubuntu/loop/data/vctk-16khz-cmu-no-boundaries-all/numpy_features')\n",
    "    #if not gender_swap:\n",
    "    if 'output_orig_fname' in loop_dict:\n",
    "        IPython.display.display(Audio(loop_dict['output_orig_fname'] + '.wav', autoplay=True))\n",
    "        \n",
    "    IPython.display.display(Audio(loop_dict['output_file'] + '.wav', autoplay=False))\n",
    "    \n",
    "    \n",
    "    loop_dict = nu.generate_sample_with_loop(spkr_id=spkr_id, \n",
    "                                      npz=npz, \n",
    "                                      text=text, \n",
    "                                        gender=gender_swap,\n",
    "                                      checkpoint=checkpoint_file, \n",
    "                                      output_dir ='./',\n",
    "                                      npz_path = '/home/ubuntu/loop/data/vctk-16khz-cmu-no-boundaries-all/numpy_features')\n",
    "    IPython.display.display(Audio(loop_dict['output_file'] + '.wav', autoplay=False))"
   ]
  },
  {
   "cell_type": "code",
   "execution_count": 349,
   "metadata": {},
   "outputs": [],
   "source": [
    "checkpoint_file = '/home/ubuntu/msc-project-fader-networks/checkpoints/discriminator_test/minmodel.pth'"
   ]
  },
  {
   "cell_type": "code",
   "execution_count": 286,
   "metadata": {},
   "outputs": [],
   "source": [
    "checkpoint_file = '/home/ubuntu/msc-project-fader-networks/checkpoints/discriminator_test/bestmodel.pth'"
   ]
  },
  {
   "cell_type": "code",
   "execution_count": 388,
   "metadata": {},
   "outputs": [
    {
     "data": {
      "text/html": [
       "<div>\n",
       "<style scoped>\n",
       "    .dataframe tbody tr th:only-of-type {\n",
       "        vertical-align: middle;\n",
       "    }\n",
       "\n",
       "    .dataframe tbody tr th {\n",
       "        vertical-align: top;\n",
       "    }\n",
       "\n",
       "    .dataframe thead th {\n",
       "        text-align: right;\n",
       "    }\n",
       "</style>\n",
       "<table border=\"1\" class=\"dataframe\">\n",
       "  <thead>\n",
       "    <tr style=\"text-align: right;\">\n",
       "      <th></th>\n",
       "      <th>id</th>\n",
       "      <th>age</th>\n",
       "      <th>gender</th>\n",
       "      <th>accents</th>\n",
       "      <th>region</th>\n",
       "    </tr>\n",
       "  </thead>\n",
       "  <tbody>\n",
       "    <tr>\n",
       "      <th>55</th>\n",
       "      <td>283</td>\n",
       "      <td>24</td>\n",
       "      <td>F</td>\n",
       "      <td>Irish</td>\n",
       "      <td>Cork</td>\n",
       "    </tr>\n",
       "  </tbody>\n",
       "</table>\n",
       "</div>"
      ],
      "text/plain": [
       "     id  age gender accents region\n",
       "55  283   24      F   Irish   Cork"
      ]
     },
     "execution_count": 388,
     "metadata": {},
     "output_type": "execute_result"
    }
   ],
   "source": [
    "# generate the sample\n",
    "spkr_id = 55\n",
    "sentence_id = 337\n",
    "# (33, 196, 201, 209)\n",
    "# (34, 217)\n",
    "# (45, 295)\n",
    "# (55, 307)\n",
    "#text = 'The threats would be a major escalation of the dispute and sparked further falls on stock markets.'\n",
    "text = 'China responded by accusing the US of blackmail'\n",
    "text = 'How trying to stay cool could make the world even hotter'\n",
    "text = \"The question on the lips of every England fan\"\n",
    "text = 'either a tomato or a schedule in progress'\n",
    "npz = \"p%d_%d.npz\" % (speaker_info.loc[spkr_id].id, sentence_id)\n",
    "\n",
    "#npz = ''\n",
    "\n",
    "speaker_info[spkr_id:spkr_id+1]"
   ]
  },
  {
   "cell_type": "code",
   "execution_count": 389,
   "metadata": {},
   "outputs": [
    {
     "name": "stdout",
     "output_type": "stream",
     "text": [
      "complete p283_337_55.wav.\n",
      "complete p283_337.orig.wav.\n"
     ]
    },
    {
     "data": {
      "text/html": [
       "\n",
       "                <audio controls=\"controls\" autoplay=\"autoplay\">\n",
       "                    <source src=\"data:audio/x-wav;base64,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\" type=\"audio/x-wav\" />\n",
       "                    Your browser does not support the audio element.\n",
       "                </audio>\n",
       "              "
      ],
      "text/plain": [
       "<IPython.lib.display.Audio object>"
      ]
     },
     "metadata": {},
     "output_type": "display_data"
    },
    {
     "data": {
      "text/html": [
       "\n",
       "                <audio controls=\"controls\" >\n",
       "                    <source src=\"data:audio/x-wav;base64,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\" type=\"audio/x-wav\" />\n",
       "                    Your browser does not support the audio element.\n",
       "                </audio>\n",
       "              "
      ],
      "text/plain": [
       "<IPython.lib.display.Audio object>"
      ]
     },
     "metadata": {},
     "output_type": "display_data"
    },
    {
     "name": "stdout",
     "output_type": "stream",
     "text": [
      "complete p283_337_55.wav.\n",
      "complete p283_337.orig.wav.\n"
     ]
    },
    {
     "data": {
      "text/html": [
       "\n",
       "                <audio controls=\"controls\" >\n",
       "                    <source src=\"data:audio/x-wav;base64,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\" type=\"audio/x-wav\" />\n",
       "                    Your browser does not support the audio element.\n",
       "                </audio>\n",
       "              "
      ],
      "text/plain": [
       "<IPython.lib.display.Audio object>"
      ]
     },
     "metadata": {},
     "output_type": "display_data"
    }
   ],
   "source": [
    "gen_gender_swap()"
   ]
  },
  {
   "cell_type": "markdown",
   "metadata": {},
   "source": [
    "### TODO\n",
    "* Get original loop vctk-all notebook working again!!\n",
    "* Try the pronounciation test on this model\n",
    "* Try matching sentences across speaker and listening to the differences...\n"
   ]
  }
 ],
 "metadata": {
  "kernelspec": {
   "display_name": "Python 2",
   "language": "python",
   "name": "python2"
  },
  "language_info": {
   "codemirror_mode": {
    "name": "ipython",
    "version": 2
   },
   "file_extension": ".py",
   "mimetype": "text/x-python",
   "name": "python",
   "nbconvert_exporter": "python",
   "pygments_lexer": "ipython2",
   "version": "2.7.12"
  }
 },
 "nbformat": 4,
 "nbformat_minor": 2
}
