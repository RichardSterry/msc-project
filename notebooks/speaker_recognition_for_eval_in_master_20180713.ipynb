{
 "cells": [
  {
   "cell_type": "markdown",
   "metadata": {},
   "source": [
    "## Notes\n",
    "* Script written on 13-Jul-18\n",
    "* in the master branch\n",
    "* based on new speaker_recongition.py, copied/modified from the speaker-recognition branch\n",
    "* aim is to give a clean interface to an acceptable version of a speaker classifier (not necessarily the best possible - will continue to work on that in the speaker-recognition branch)\n",
    "* first, want to be able to train and save a speaker recognition model\n",
    "* then reload saved model inside same object\n",
    "* then evaluate speaker recognition on a bunch of samples\n",
    "* then analyse results\n",
    "\n"
   ]
  },
  {
   "cell_type": "code",
   "execution_count": null,
   "metadata": {},
   "outputs": [],
   "source": []
  },
  {
   "cell_type": "code",
   "execution_count": 1,
   "metadata": {},
   "outputs": [
    {
     "data": {
      "text/plain": [
       "'/home/ubuntu/msc-project-master/msc-project-master'"
      ]
     },
     "execution_count": 1,
     "metadata": {},
     "output_type": "execute_result"
    }
   ],
   "source": [
    "import os\n",
    "import sys\n",
    "\n",
    "os.chdir('/home/ubuntu/msc-project-master/msc-project-master')\n",
    "os.getcwd()"
   ]
  },
  {
   "cell_type": "code",
   "execution_count": 3,
   "metadata": {},
   "outputs": [
    {
     "name": "stdout",
     "output_type": "stream",
     "text": [
      "The autoreload extension is already loaded. To reload it, use:\n",
      "  %reload_ext autoreload\n"
     ]
    }
   ],
   "source": [
    "import argparse\n",
    "import visdom\n",
    "import numpy as np\n",
    "from tqdm import tqdm\n",
    "\n",
    "import torch\n",
    "import torch.optim as optim\n",
    "import torch.nn as nn\n",
    "from torch.autograd import Variable\n",
    "import torch.nn.functional as F\n",
    "\n",
    "from data import NpzFolder, NpzLoader, TBPTTIter\n",
    "from model import Loop, MaskedMSE\n",
    "from utils import create_output_dir, wrap, check_grad\n",
    "\n",
    "import matplotlib.pyplot as plt\n",
    "\n",
    "import pandas as pd\n",
    "\n",
    "import notebook_utils as nu\n",
    "\n",
    "import speaker_recognition as sr\n",
    "\n",
    "%load_ext autoreload\n",
    "%autoreload 2"
   ]
  },
  {
   "cell_type": "code",
   "execution_count": 4,
   "metadata": {},
   "outputs": [],
   "source": [
    "gpu = 0\n",
    "seed = 1"
   ]
  },
  {
   "cell_type": "code",
   "execution_count": 5,
   "metadata": {},
   "outputs": [],
   "source": [
    "torch.manual_seed(seed)\n",
    "torch.cuda.set_device(gpu)\n",
    "torch.cuda.manual_seed(seed)"
   ]
  },
  {
   "cell_type": "markdown",
   "metadata": {},
   "source": [
    "### Train on 22 US speaker dataset\n",
    "Smaller and quicker for evaluation purposes"
   ]
  },
  {
   "cell_type": "code",
   "execution_count": 39,
   "metadata": {},
   "outputs": [],
   "source": [
    "speaker_recog = sr.SpeakerRecognition(data_path='/home/ubuntu/loop/data/vctk',\n",
    "                        checkpoint=None,\n",
    "                        seq_len=300,\n",
    "                        nspk=22,\n",
    "                        max_seq_len=1000,\n",
    "                        batch_size=64,\n",
    "                        gpu=gpu,\n",
    "                        exp_name='notebook_test')"
   ]
  },
  {
   "cell_type": "code",
   "execution_count": 40,
   "metadata": {},
   "outputs": [
    {
     "name": "stderr",
     "output_type": "stream",
     "text": [
      "Train (loss 0.056) epoch 1: 100%|██████████| 126/126 [00:36<00:00,  3.45it/s]\n",
      "Evaluation train (loss 0.17) epoch 1: 100%|██████████| 126/126 [00:07<00:00, 16.76it/s]\n",
      "Eval epoch 1:   0%|          | 0/11 [00:00<?, ?it/s]"
     ]
    },
    {
     "name": "stdout",
     "output_type": "stream",
     "text": [
      "Training accuracy (epoch 1): 0.966\n"
     ]
    },
    {
     "name": "stderr",
     "output_type": "stream",
     "text": [
      "Evaluation Valid (loss 0.03) epoch 1: 100%|██████████| 11/11 [00:00<00:00, 11.65it/s]\n",
      "Train epoch 2:   0%|          | 0/126 [00:00<?, ?it/s]"
     ]
    },
    {
     "name": "stdout",
     "output_type": "stream",
     "text": [
      "Validation accuracy (epoch 1): 0.964\n"
     ]
    },
    {
     "name": "stderr",
     "output_type": "stream",
     "text": [
      "Train (loss 0.307) epoch 2: 100%|██████████| 126/126 [00:36<00:00,  3.45it/s]\n",
      "Evaluation train (loss 0.00) epoch 2: 100%|██████████| 126/126 [00:07<00:00, 16.71it/s]\n",
      "Eval epoch 2:   0%|          | 0/11 [00:00<?, ?it/s]"
     ]
    },
    {
     "name": "stdout",
     "output_type": "stream",
     "text": [
      "Training accuracy (epoch 2): 0.989\n"
     ]
    },
    {
     "name": "stderr",
     "output_type": "stream",
     "text": [
      "Evaluation Valid (loss 0.02) epoch 2: 100%|██████████| 11/11 [00:00<00:00, 11.67it/s]\n",
      "Train epoch 3:   0%|          | 0/126 [00:00<?, ?it/s]"
     ]
    },
    {
     "name": "stdout",
     "output_type": "stream",
     "text": [
      "Validation accuracy (epoch 2): 0.987\n"
     ]
    },
    {
     "name": "stderr",
     "output_type": "stream",
     "text": [
      "Train (loss 0.001) epoch 3: 100%|██████████| 126/126 [00:36<00:00,  3.46it/s]\n",
      "Evaluation train (loss 0.00) epoch 3: 100%|██████████| 126/126 [00:07<00:00, 16.56it/s]\n",
      "Eval epoch 3:   0%|          | 0/11 [00:00<?, ?it/s]"
     ]
    },
    {
     "name": "stdout",
     "output_type": "stream",
     "text": [
      "Training accuracy (epoch 3): 0.998\n"
     ]
    },
    {
     "name": "stderr",
     "output_type": "stream",
     "text": [
      "Evaluation Valid (loss 0.00) epoch 3: 100%|██████████| 11/11 [00:00<00:00, 12.22it/s]\n",
      "Train epoch 4:   0%|          | 0/126 [00:00<?, ?it/s]"
     ]
    },
    {
     "name": "stdout",
     "output_type": "stream",
     "text": [
      "Validation accuracy (epoch 3): 0.997\n"
     ]
    },
    {
     "name": "stderr",
     "output_type": "stream",
     "text": [
      "Train (loss 0.001) epoch 4: 100%|██████████| 126/126 [00:36<00:00,  3.45it/s]\n",
      "Evaluation train (loss 0.00) epoch 4: 100%|██████████| 126/126 [00:07<00:00, 16.52it/s]\n",
      "Eval epoch 4:   0%|          | 0/11 [00:00<?, ?it/s]"
     ]
    },
    {
     "name": "stdout",
     "output_type": "stream",
     "text": [
      "Training accuracy (epoch 4): 0.997\n"
     ]
    },
    {
     "name": "stderr",
     "output_type": "stream",
     "text": [
      "Evaluation Valid (loss 0.01) epoch 4: 100%|██████████| 11/11 [00:00<00:00, 11.65it/s]\n",
      "Train epoch 5:   0%|          | 0/126 [00:00<?, ?it/s]"
     ]
    },
    {
     "name": "stdout",
     "output_type": "stream",
     "text": [
      "Validation accuracy (epoch 4): 0.994\n"
     ]
    },
    {
     "name": "stderr",
     "output_type": "stream",
     "text": [
      "Train (loss 0.001) epoch 5: 100%|██████████| 126/126 [00:36<00:00,  3.45it/s]\n",
      "Evaluation train (loss 0.00) epoch 5: 100%|██████████| 126/126 [00:07<00:00, 16.52it/s]\n",
      "Eval epoch 5:   0%|          | 0/11 [00:00<?, ?it/s]"
     ]
    },
    {
     "name": "stdout",
     "output_type": "stream",
     "text": [
      "Training accuracy (epoch 5): 0.996\n"
     ]
    },
    {
     "name": "stderr",
     "output_type": "stream",
     "text": [
      "Evaluation Valid (loss 0.01) epoch 5: 100%|██████████| 11/11 [00:00<00:00, 11.74it/s]\n",
      "Train epoch 6:   0%|          | 0/126 [00:00<?, ?it/s]"
     ]
    },
    {
     "name": "stdout",
     "output_type": "stream",
     "text": [
      "Validation accuracy (epoch 5): 0.994\n"
     ]
    },
    {
     "name": "stderr",
     "output_type": "stream",
     "text": [
      "Train (loss 0.099) epoch 6: 100%|██████████| 126/126 [00:36<00:00,  3.45it/s]\n",
      "Evaluation train (loss 0.00) epoch 6: 100%|██████████| 126/126 [00:07<00:00, 16.55it/s]\n",
      "Eval epoch 6:   0%|          | 0/11 [00:00<?, ?it/s]"
     ]
    },
    {
     "name": "stdout",
     "output_type": "stream",
     "text": [
      "Training accuracy (epoch 6): 0.984\n"
     ]
    },
    {
     "name": "stderr",
     "output_type": "stream",
     "text": [
      "Evaluation Valid (loss 0.01) epoch 6: 100%|██████████| 11/11 [00:00<00:00, 11.34it/s]\n",
      "Train epoch 7:   0%|          | 0/126 [00:00<?, ?it/s]"
     ]
    },
    {
     "name": "stdout",
     "output_type": "stream",
     "text": [
      "Validation accuracy (epoch 6): 0.980\n"
     ]
    },
    {
     "name": "stderr",
     "output_type": "stream",
     "text": [
      "Train (loss 0.041) epoch 7: 100%|██████████| 126/126 [00:36<00:00,  3.45it/s]\n",
      "Evaluation train (loss 0.00) epoch 7: 100%|██████████| 126/126 [00:07<00:00, 16.74it/s]\n",
      "Eval epoch 7:   0%|          | 0/11 [00:00<?, ?it/s]"
     ]
    },
    {
     "name": "stdout",
     "output_type": "stream",
     "text": [
      "Training accuracy (epoch 7): 0.997\n"
     ]
    },
    {
     "name": "stderr",
     "output_type": "stream",
     "text": [
      "Evaluation Valid (loss 0.00) epoch 7: 100%|██████████| 11/11 [00:00<00:00, 11.87it/s]\n",
      "Train epoch 8:   0%|          | 0/126 [00:00<?, ?it/s]"
     ]
    },
    {
     "name": "stdout",
     "output_type": "stream",
     "text": [
      "Validation accuracy (epoch 7): 0.997\n"
     ]
    },
    {
     "name": "stderr",
     "output_type": "stream",
     "text": [
      "Train (loss 0.000) epoch 8: 100%|██████████| 126/126 [00:36<00:00,  3.45it/s]\n",
      "Evaluation train (loss 0.00) epoch 8: 100%|██████████| 126/126 [00:07<00:00, 16.62it/s]\n",
      "Eval epoch 8:   0%|          | 0/11 [00:00<?, ?it/s]"
     ]
    },
    {
     "name": "stdout",
     "output_type": "stream",
     "text": [
      "Training accuracy (epoch 8): 0.999\n"
     ]
    },
    {
     "name": "stderr",
     "output_type": "stream",
     "text": [
      "Evaluation Valid (loss 0.00) epoch 8: 100%|██████████| 11/11 [00:00<00:00, 11.19it/s]\n",
      "Train epoch 9:   0%|          | 0/126 [00:00<?, ?it/s]"
     ]
    },
    {
     "name": "stdout",
     "output_type": "stream",
     "text": [
      "Validation accuracy (epoch 8): 1.000\n"
     ]
    },
    {
     "name": "stderr",
     "output_type": "stream",
     "text": [
      "Train (loss 0.001) epoch 9: 100%|██████████| 126/126 [00:36<00:00,  3.45it/s]\n",
      "Evaluation train (loss 0.00) epoch 9: 100%|██████████| 126/126 [00:07<00:00, 16.76it/s]\n",
      "Eval epoch 9:   0%|          | 0/11 [00:00<?, ?it/s]"
     ]
    },
    {
     "name": "stdout",
     "output_type": "stream",
     "text": [
      "Training accuracy (epoch 9): 1.000\n"
     ]
    },
    {
     "name": "stderr",
     "output_type": "stream",
     "text": [
      "Evaluation Valid (loss 0.00) epoch 9: 100%|██████████| 11/11 [00:00<00:00, 11.50it/s]\n",
      "Train epoch 10:   0%|          | 0/126 [00:00<?, ?it/s]"
     ]
    },
    {
     "name": "stdout",
     "output_type": "stream",
     "text": [
      "Validation accuracy (epoch 9): 1.000\n"
     ]
    },
    {
     "name": "stderr",
     "output_type": "stream",
     "text": [
      "Train (loss 0.005) epoch 10: 100%|██████████| 126/126 [00:36<00:00,  3.44it/s]\n",
      "Evaluation train (loss 0.00) epoch 10: 100%|██████████| 126/126 [00:07<00:00, 16.69it/s]\n",
      "Eval epoch 10:   0%|          | 0/11 [00:00<?, ?it/s]"
     ]
    },
    {
     "name": "stdout",
     "output_type": "stream",
     "text": [
      "Training accuracy (epoch 10): 1.000\n"
     ]
    },
    {
     "name": "stderr",
     "output_type": "stream",
     "text": [
      "Evaluation Valid (loss 0.00) epoch 10: 100%|██████████| 11/11 [00:00<00:00, 12.13it/s]\n",
      "Eval epoch 1:   0%|          | 0/126 [00:00<?, ?it/s]"
     ]
    },
    {
     "name": "stdout",
     "output_type": "stream",
     "text": [
      "Validation accuracy (epoch 10): 1.000\n"
     ]
    },
    {
     "name": "stderr",
     "output_type": "stream",
     "text": [
      "Evaluation Valid (loss 0.00) epoch 1: 100%|██████████| 126/126 [00:07<00:00, 16.62it/s]\n",
      "Evaluation Valid (loss 0.00) epoch 1: 100%|██████████| 11/11 [00:00<00:00, 11.47it/s]\n"
     ]
    }
   ],
   "source": [
    "eval_dict = speaker_recog.train(num_epochs=10)"
   ]
  },
  {
   "cell_type": "code",
   "execution_count": 41,
   "metadata": {},
   "outputs": [
    {
     "data": {
      "image/png": "[encoded data removed]",
      "text/plain": [
       "<matplotlib.figure.Figure at 0x7fbfd20bef10>"
      ]
     },
     "metadata": {},
     "output_type": "display_data"
    }
   ],
   "source": [
    "speaker_recog.training_monitor.plot()"
   ]
  },
  {
   "cell_type": "code",
   "execution_count": 43,
   "metadata": {},
   "outputs": [],
   "source": [
    "speaker_recog_load = sr.SpeakerRecognition(data_path='/home/ubuntu/loop/data/vctk',\n",
    "                        checkpoint='checkpoints/notebook_test/bestmodel.pth',\n",
    "                        seq_len=300,\n",
    "                        nspk=22,\n",
    "                        max_seq_len=1000,\n",
    "                        batch_size=64,\n",
    "                        gpu=gpu,\n",
    "                        exp_name='notebook_test')"
   ]
  },
  {
   "cell_type": "code",
   "execution_count": 44,
   "metadata": {},
   "outputs": [],
   "source": [
    "speaker_recog_load.reload_checkpoint()"
   ]
  },
  {
   "cell_type": "code",
   "execution_count": 45,
   "metadata": {},
   "outputs": [
    {
     "name": "stderr",
     "output_type": "stream",
     "text": [
      "Evaluation Valid (loss 0.00) epoch 1: 100%|██████████| 11/11 [00:00<00:00, 11.77it/s]\n"
     ]
    }
   ],
   "source": [
    "out = speaker_recog_load.evaluate()"
   ]
  },
  {
   "cell_type": "code",
   "execution_count": 46,
   "metadata": {},
   "outputs": [
    {
     "data": {
      "text/plain": [
       "1.0"
      ]
     },
     "execution_count": 46,
     "metadata": {},
     "output_type": "execute_result"
    }
   ],
   "source": [
    "out[1]"
   ]
  },
  {
   "cell_type": "markdown",
   "metadata": {},
   "source": [
    "#### Build again on Mon 16-Jul-18 for use in coding eval_curves.py"
   ]
  },
  {
   "cell_type": "code",
   "execution_count": 6,
   "metadata": {},
   "outputs": [
    {
     "name": "stderr",
     "output_type": "stream",
     "text": [
      "/usr/local/lib/python2.7/dist-packages/torch/backends/cudnn/__init__.py:48: UserWarning: PyTorch was compiled without cuDNN support. To use cuDNN, rebuild PyTorch making sure the library is visible to the build system.\n",
      "  \"PyTorch was compiled without cuDNN support. To use cuDNN, rebuild \"\n"
     ]
    }
   ],
   "source": [
    "speaker_recog = sr.SpeakerRecognition(data_path='/home/ubuntu/loop/data/vctk',\n",
    "                        checkpoint=None,\n",
    "                        seq_len=300,\n",
    "                        nspk=22,\n",
    "                        max_seq_len=1000,\n",
    "                        batch_size=64,\n",
    "                        gpu=gpu,\n",
    "                        exp_name='speaker-recognition-vctk-us')"
   ]
  },
  {
   "cell_type": "code",
   "execution_count": 7,
   "metadata": {
    "scrolled": true
   },
   "outputs": [
    {
     "name": "stderr",
     "output_type": "stream",
     "text": [
      "Train (loss 0.012) epoch 1: 100%|██████████| 126/126 [00:36<00:00,  3.42it/s]\n",
      "Evaluation train (loss 0.01) epoch 1: 100%|██████████| 126/126 [00:07<00:00, 16.48it/s]\n",
      "Eval epoch 1:   0%|          | 0/11 [00:00<?, ?it/s]"
     ]
    },
    {
     "name": "stdout",
     "output_type": "stream",
     "text": [
      "Training accuracy (epoch 1): 0.986\n"
     ]
    },
    {
     "name": "stderr",
     "output_type": "stream",
     "text": [
      "Evaluation Valid (loss 0.02) epoch 1: 100%|██████████| 11/11 [00:00<00:00, 11.39it/s]\n",
      "Train epoch 2:   0%|          | 0/126 [00:00<?, ?it/s]"
     ]
    },
    {
     "name": "stdout",
     "output_type": "stream",
     "text": [
      "Validation accuracy (epoch 1): 0.990\n"
     ]
    },
    {
     "name": "stderr",
     "output_type": "stream",
     "text": [
      "Train (loss 0.006) epoch 2: 100%|██████████| 126/126 [00:36<00:00,  3.44it/s]\n",
      "Evaluation train (loss 0.04) epoch 2: 100%|██████████| 126/126 [00:07<00:00, 16.49it/s]\n",
      "Eval epoch 2:   0%|          | 0/11 [00:00<?, ?it/s]"
     ]
    },
    {
     "name": "stdout",
     "output_type": "stream",
     "text": [
      "Training accuracy (epoch 2): 0.991\n"
     ]
    },
    {
     "name": "stderr",
     "output_type": "stream",
     "text": [
      "Evaluation Valid (loss 0.03) epoch 2: 100%|██████████| 11/11 [00:00<00:00, 11.61it/s]\n",
      "Train epoch 3:   0%|          | 0/126 [00:00<?, ?it/s]"
     ]
    },
    {
     "name": "stdout",
     "output_type": "stream",
     "text": [
      "Validation accuracy (epoch 2): 0.993\n"
     ]
    },
    {
     "name": "stderr",
     "output_type": "stream",
     "text": [
      "Train (loss 0.006) epoch 3: 100%|██████████| 126/126 [00:36<00:00,  3.44it/s]\n",
      "Evaluation train (loss 0.00) epoch 3: 100%|██████████| 126/126 [00:07<00:00, 16.66it/s]\n",
      "Eval epoch 3:   0%|          | 0/11 [00:00<?, ?it/s]"
     ]
    },
    {
     "name": "stdout",
     "output_type": "stream",
     "text": [
      "Training accuracy (epoch 3): 0.993\n"
     ]
    },
    {
     "name": "stderr",
     "output_type": "stream",
     "text": [
      "Evaluation Valid (loss 0.06) epoch 3: 100%|██████████| 11/11 [00:00<00:00, 11.09it/s]\n",
      "Train epoch 4:   0%|          | 0/126 [00:00<?, ?it/s]"
     ]
    },
    {
     "name": "stdout",
     "output_type": "stream",
     "text": [
      "Validation accuracy (epoch 3): 0.991\n"
     ]
    },
    {
     "name": "stderr",
     "output_type": "stream",
     "text": [
      "Train (loss 0.002) epoch 4: 100%|██████████| 126/126 [00:36<00:00,  3.45it/s]\n",
      "Evaluation train (loss 0.00) epoch 4: 100%|██████████| 126/126 [00:07<00:00, 16.43it/s]\n",
      "Eval epoch 4:   0%|          | 0/11 [00:00<?, ?it/s]"
     ]
    },
    {
     "name": "stdout",
     "output_type": "stream",
     "text": [
      "Training accuracy (epoch 4): 0.998\n"
     ]
    },
    {
     "name": "stderr",
     "output_type": "stream",
     "text": [
      "Evaluation Valid (loss 0.00) epoch 4: 100%|██████████| 11/11 [00:00<00:00, 11.59it/s]\n",
      "Train epoch 5:   0%|          | 0/126 [00:00<?, ?it/s]"
     ]
    },
    {
     "name": "stdout",
     "output_type": "stream",
     "text": [
      "Validation accuracy (epoch 4): 0.996\n"
     ]
    },
    {
     "name": "stderr",
     "output_type": "stream",
     "text": [
      "Train (loss 0.018) epoch 5: 100%|██████████| 126/126 [00:36<00:00,  3.45it/s]\n",
      "Evaluation train (loss 0.00) epoch 5: 100%|██████████| 126/126 [00:07<00:00, 16.52it/s]\n",
      "Eval epoch 5:   0%|          | 0/11 [00:00<?, ?it/s]"
     ]
    },
    {
     "name": "stdout",
     "output_type": "stream",
     "text": [
      "Training accuracy (epoch 5): 0.991\n"
     ]
    },
    {
     "name": "stderr",
     "output_type": "stream",
     "text": [
      "Evaluation Valid (loss 0.00) epoch 5: 100%|██████████| 11/11 [00:00<00:00, 11.54it/s]\n",
      "Train epoch 6:   0%|          | 0/126 [00:00<?, ?it/s]"
     ]
    },
    {
     "name": "stdout",
     "output_type": "stream",
     "text": [
      "Validation accuracy (epoch 5): 0.990\n"
     ]
    },
    {
     "name": "stderr",
     "output_type": "stream",
     "text": [
      "Train (loss 0.000) epoch 6: 100%|██████████| 126/126 [00:36<00:00,  3.44it/s]\n",
      "Evaluation train (loss 0.00) epoch 6: 100%|██████████| 126/126 [00:07<00:00, 16.68it/s]\n",
      "Eval epoch 6:   0%|          | 0/11 [00:00<?, ?it/s]"
     ]
    },
    {
     "name": "stdout",
     "output_type": "stream",
     "text": [
      "Training accuracy (epoch 6): 0.999\n"
     ]
    },
    {
     "name": "stderr",
     "output_type": "stream",
     "text": [
      "Evaluation Valid (loss 0.00) epoch 6: 100%|██████████| 11/11 [00:00<00:00, 11.00it/s]\n",
      "Train epoch 7:   0%|          | 0/126 [00:00<?, ?it/s]"
     ]
    },
    {
     "name": "stdout",
     "output_type": "stream",
     "text": [
      "Validation accuracy (epoch 6): 0.994\n"
     ]
    },
    {
     "name": "stderr",
     "output_type": "stream",
     "text": [
      "Train (loss 0.003) epoch 7: 100%|██████████| 126/126 [00:36<00:00,  3.45it/s]\n",
      "Evaluation train (loss 0.00) epoch 7: 100%|██████████| 126/126 [00:07<00:00, 16.57it/s]\n",
      "Eval epoch 7:   0%|          | 0/11 [00:00<?, ?it/s]"
     ]
    },
    {
     "name": "stdout",
     "output_type": "stream",
     "text": [
      "Training accuracy (epoch 7): 0.999\n"
     ]
    },
    {
     "name": "stderr",
     "output_type": "stream",
     "text": [
      "Evaluation Valid (loss 0.00) epoch 7: 100%|██████████| 11/11 [00:01<00:00, 10.76it/s]\n",
      "Train epoch 8:   0%|          | 0/126 [00:00<?, ?it/s]"
     ]
    },
    {
     "name": "stdout",
     "output_type": "stream",
     "text": [
      "Validation accuracy (epoch 7): 0.991\n"
     ]
    },
    {
     "name": "stderr",
     "output_type": "stream",
     "text": [
      "Train (loss 0.000) epoch 8: 100%|██████████| 126/126 [00:36<00:00,  3.44it/s]\n",
      "Evaluation train (loss 0.00) epoch 8: 100%|██████████| 126/126 [00:07<00:00, 16.57it/s]\n",
      "Eval epoch 8:   0%|          | 0/11 [00:00<?, ?it/s]"
     ]
    },
    {
     "name": "stdout",
     "output_type": "stream",
     "text": [
      "Training accuracy (epoch 8): 0.999\n"
     ]
    },
    {
     "name": "stderr",
     "output_type": "stream",
     "text": [
      "Evaluation Valid (loss 0.00) epoch 8: 100%|██████████| 11/11 [00:01<00:00, 10.75it/s]\n",
      "Train epoch 9:   0%|          | 0/126 [00:00<?, ?it/s]"
     ]
    },
    {
     "name": "stdout",
     "output_type": "stream",
     "text": [
      "Validation accuracy (epoch 8): 0.999\n"
     ]
    },
    {
     "name": "stderr",
     "output_type": "stream",
     "text": [
      "Train (loss 0.000) epoch 9: 100%|██████████| 126/126 [00:36<00:00,  3.45it/s]\n",
      "Evaluation train (loss 0.00) epoch 9: 100%|██████████| 126/126 [00:07<00:00, 16.47it/s]\n",
      "Eval epoch 9:   0%|          | 0/11 [00:00<?, ?it/s]"
     ]
    },
    {
     "name": "stdout",
     "output_type": "stream",
     "text": [
      "Training accuracy (epoch 9): 1.000\n"
     ]
    },
    {
     "name": "stderr",
     "output_type": "stream",
     "text": [
      "Evaluation Valid (loss 0.00) epoch 9: 100%|██████████| 11/11 [00:00<00:00, 11.82it/s]\n",
      "Train epoch 10:   0%|          | 0/126 [00:00<?, ?it/s]"
     ]
    },
    {
     "name": "stdout",
     "output_type": "stream",
     "text": [
      "Validation accuracy (epoch 9): 0.999\n"
     ]
    },
    {
     "name": "stderr",
     "output_type": "stream",
     "text": [
      "Train (loss 0.000) epoch 10: 100%|██████████| 126/126 [00:36<00:00,  3.44it/s]\n",
      "Evaluation train (loss 0.00) epoch 10: 100%|██████████| 126/126 [00:07<00:00, 16.74it/s]\n",
      "Eval epoch 10:   0%|          | 0/11 [00:00<?, ?it/s]"
     ]
    },
    {
     "name": "stdout",
     "output_type": "stream",
     "text": [
      "Training accuracy (epoch 10): 1.000\n"
     ]
    },
    {
     "name": "stderr",
     "output_type": "stream",
     "text": [
      "Evaluation Valid (loss 0.00) epoch 10: 100%|██████████| 11/11 [00:00<00:00, 11.61it/s]\n",
      "Eval epoch 1:   0%|          | 0/126 [00:00<?, ?it/s]"
     ]
    },
    {
     "name": "stdout",
     "output_type": "stream",
     "text": [
      "Validation accuracy (epoch 10): 0.999\n"
     ]
    },
    {
     "name": "stderr",
     "output_type": "stream",
     "text": [
      "Evaluation Valid (loss 0.00) epoch 1: 100%|██████████| 126/126 [00:07<00:00, 16.68it/s]\n",
      "Evaluation Valid (loss 0.00) epoch 1: 100%|██████████| 11/11 [00:01<00:00, 10.88it/s]\n"
     ]
    }
   ],
   "source": [
    "eval_dict = speaker_recog.train(num_epochs=10)"
   ]
  },
  {
   "cell_type": "code",
   "execution_count": 13,
   "metadata": {},
   "outputs": [],
   "source": [
    "speaker_recog_load = sr.SpeakerRecognition(data_path='/home/ubuntu/loop/data/vctk',\n",
    "                        checkpoint='checkpoints/speaker-recognition-vctk-us/bestmodel.pth',\n",
    "                        seq_len=300,\n",
    "                        nspk=22,\n",
    "                        max_seq_len=1000,\n",
    "                        batch_size=64,\n",
    "                        gpu=gpu,\n",
    "                        exp_name='speaker-recognition-vctk-us')"
   ]
  },
  {
   "cell_type": "code",
   "execution_count": 16,
   "metadata": {},
   "outputs": [],
   "source": [
    "speaker_recog_load.reload_checkpoint()"
   ]
  },
  {
   "cell_type": "code",
   "execution_count": 17,
   "metadata": {},
   "outputs": [
    {
     "name": "stderr",
     "output_type": "stream",
     "text": [
      "Evaluation Valid (loss 0.00) epoch 1: 100%|██████████| 11/11 [00:00<00:00, 12.02it/s]\n"
     ]
    }
   ],
   "source": [
    "out = speaker_recog_load.evaluate()"
   ]
  },
  {
   "cell_type": "code",
   "execution_count": 18,
   "metadata": {},
   "outputs": [
    {
     "data": {
      "text/plain": [
       "0.9985443959243085"
      ]
     },
     "execution_count": 18,
     "metadata": {},
     "output_type": "execute_result"
    }
   ],
   "source": [
    "out[1]"
   ]
  },
  {
   "cell_type": "markdown",
   "metadata": {},
   "source": [
    "### Train on full VCTK-all dataset\n",
    "This is the one that matters"
   ]
  },
  {
   "cell_type": "code",
   "execution_count": 40,
   "metadata": {},
   "outputs": [],
   "source": [
    "speaker_recog = sr.SpeakerRecognition(data_path='/home/ubuntu/loop/data/vctk-16khz-cmu-no-boundaries-all',\n",
    "                        checkpoint=None,\n",
    "                        seq_len=300,\n",
    "                        nspk=107,\n",
    "                        max_seq_len=1000,\n",
    "                        batch_size=64,\n",
    "                        gpu=gpu,\n",
    "                        exp_name='speaker_recognition_vctk_all')"
   ]
  },
  {
   "cell_type": "code",
   "execution_count": 41,
   "metadata": {},
   "outputs": [
    {
     "name": "stderr",
     "output_type": "stream",
     "text": [
      "Train (loss 0.373) epoch 1: 100%|██████████| 615/615 [02:55<00:00,  3.50it/s]\n",
      "Evaluation train (loss 0.53) epoch 1: 100%|██████████| 615/615 [00:35<00:00, 17.20it/s]\n",
      "Eval epoch 1:   0%|          | 0/68 [00:00<?, ?it/s]"
     ]
    },
    {
     "name": "stdout",
     "output_type": "stream",
     "text": [
      "Training accuracy (epoch 1): 0.875\n"
     ]
    },
    {
     "name": "stderr",
     "output_type": "stream",
     "text": [
      "Evaluation Valid (loss 0.30) epoch 1: 100%|██████████| 68/68 [00:04<00:00, 16.17it/s]\n",
      "Train epoch 2:   0%|          | 0/615 [00:00<?, ?it/s]"
     ]
    },
    {
     "name": "stdout",
     "output_type": "stream",
     "text": [
      "Validation accuracy (epoch 1): 0.869\n"
     ]
    },
    {
     "name": "stderr",
     "output_type": "stream",
     "text": [
      "Train (loss 0.262) epoch 2: 100%|██████████| 615/615 [02:55<00:00,  3.50it/s]\n",
      "Evaluation train (loss 0.08) epoch 2: 100%|██████████| 615/615 [00:35<00:00, 17.16it/s]\n",
      "Eval epoch 2:   0%|          | 0/68 [00:00<?, ?it/s]"
     ]
    },
    {
     "name": "stdout",
     "output_type": "stream",
     "text": [
      "Training accuracy (epoch 2): 0.955\n"
     ]
    },
    {
     "name": "stderr",
     "output_type": "stream",
     "text": [
      "Evaluation Valid (loss 0.03) epoch 2: 100%|██████████| 68/68 [00:04<00:00, 16.25it/s]\n",
      "Train epoch 3:   0%|          | 0/615 [00:00<?, ?it/s]"
     ]
    },
    {
     "name": "stdout",
     "output_type": "stream",
     "text": [
      "Validation accuracy (epoch 2): 0.940\n"
     ]
    },
    {
     "name": "stderr",
     "output_type": "stream",
     "text": [
      "Train (loss 0.013) epoch 3: 100%|██████████| 615/615 [02:55<00:00,  3.50it/s]\n",
      "Evaluation train (loss 0.04) epoch 3: 100%|██████████| 615/615 [00:35<00:00, 17.15it/s]\n",
      "Eval epoch 3:   0%|          | 0/68 [00:00<?, ?it/s]"
     ]
    },
    {
     "name": "stdout",
     "output_type": "stream",
     "text": [
      "Training accuracy (epoch 3): 0.966\n"
     ]
    },
    {
     "name": "stderr",
     "output_type": "stream",
     "text": [
      "Evaluation Valid (loss 0.06) epoch 3: 100%|██████████| 68/68 [00:04<00:00, 16.23it/s]\n",
      "Train epoch 4:   0%|          | 0/615 [00:00<?, ?it/s]"
     ]
    },
    {
     "name": "stdout",
     "output_type": "stream",
     "text": [
      "Validation accuracy (epoch 3): 0.952\n"
     ]
    },
    {
     "name": "stderr",
     "output_type": "stream",
     "text": [
      "Train (loss 0.038) epoch 4: 100%|██████████| 615/615 [02:55<00:00,  3.50it/s]\n",
      "Evaluation train (loss 0.12) epoch 4: 100%|██████████| 615/615 [00:35<00:00, 17.16it/s]\n",
      "Eval epoch 4:   0%|          | 0/68 [00:00<?, ?it/s]"
     ]
    },
    {
     "name": "stdout",
     "output_type": "stream",
     "text": [
      "Training accuracy (epoch 4): 0.971\n"
     ]
    },
    {
     "name": "stderr",
     "output_type": "stream",
     "text": [
      "Evaluation Valid (loss 0.03) epoch 4: 100%|██████████| 68/68 [00:04<00:00, 16.09it/s]\n",
      "Train epoch 5:   0%|          | 0/615 [00:00<?, ?it/s]"
     ]
    },
    {
     "name": "stdout",
     "output_type": "stream",
     "text": [
      "Validation accuracy (epoch 4): 0.959\n"
     ]
    },
    {
     "name": "stderr",
     "output_type": "stream",
     "text": [
      "Train (loss 0.062) epoch 5: 100%|██████████| 615/615 [02:55<00:00,  3.50it/s]\n",
      "Evaluation train (loss 0.10) epoch 5: 100%|██████████| 615/615 [00:35<00:00, 17.19it/s]\n",
      "Eval epoch 5:   0%|          | 0/68 [00:00<?, ?it/s]"
     ]
    },
    {
     "name": "stdout",
     "output_type": "stream",
     "text": [
      "Training accuracy (epoch 5): 0.977\n"
     ]
    },
    {
     "name": "stderr",
     "output_type": "stream",
     "text": [
      "Evaluation Valid (loss 0.15) epoch 5: 100%|██████████| 68/68 [00:04<00:00, 16.12it/s]\n",
      "Train epoch 6:   0%|          | 0/615 [00:00<?, ?it/s]"
     ]
    },
    {
     "name": "stdout",
     "output_type": "stream",
     "text": [
      "Validation accuracy (epoch 5): 0.964\n"
     ]
    },
    {
     "name": "stderr",
     "output_type": "stream",
     "text": [
      "Train (loss 0.021) epoch 6: 100%|██████████| 615/615 [02:55<00:00,  3.50it/s]\n",
      "Evaluation train (loss 0.00) epoch 6: 100%|██████████| 615/615 [00:35<00:00, 17.17it/s]\n",
      "Eval epoch 6:   0%|          | 0/68 [00:00<?, ?it/s]"
     ]
    },
    {
     "name": "stdout",
     "output_type": "stream",
     "text": [
      "Training accuracy (epoch 6): 0.983\n"
     ]
    },
    {
     "name": "stderr",
     "output_type": "stream",
     "text": [
      "Evaluation Valid (loss 0.00) epoch 6: 100%|██████████| 68/68 [00:04<00:00, 16.39it/s]\n",
      "Train epoch 7:   0%|          | 0/615 [00:00<?, ?it/s]"
     ]
    },
    {
     "name": "stdout",
     "output_type": "stream",
     "text": [
      "Validation accuracy (epoch 6): 0.967\n"
     ]
    },
    {
     "name": "stderr",
     "output_type": "stream",
     "text": [
      "Train (loss 0.541) epoch 7: 100%|██████████| 615/615 [02:55<00:00,  3.50it/s]\n",
      "Evaluation train (loss 0.00) epoch 7: 100%|██████████| 615/615 [00:35<00:00, 17.16it/s]\n",
      "Eval epoch 7:   0%|          | 0/68 [00:00<?, ?it/s]"
     ]
    },
    {
     "name": "stdout",
     "output_type": "stream",
     "text": [
      "Training accuracy (epoch 7): 0.985\n"
     ]
    },
    {
     "name": "stderr",
     "output_type": "stream",
     "text": [
      "Evaluation Valid (loss 0.00) epoch 7: 100%|██████████| 68/68 [00:04<00:00, 16.22it/s]\n",
      "Train epoch 8:   0%|          | 0/615 [00:00<?, ?it/s]"
     ]
    },
    {
     "name": "stdout",
     "output_type": "stream",
     "text": [
      "Validation accuracy (epoch 7): 0.970\n"
     ]
    },
    {
     "name": "stderr",
     "output_type": "stream",
     "text": [
      "Train (loss 0.012) epoch 8: 100%|██████████| 615/615 [02:55<00:00,  3.50it/s]\n",
      "Evaluation train (loss 0.02) epoch 8: 100%|██████████| 615/615 [00:35<00:00, 17.20it/s]\n",
      "Eval epoch 8:   0%|          | 0/68 [00:00<?, ?it/s]"
     ]
    },
    {
     "name": "stdout",
     "output_type": "stream",
     "text": [
      "Training accuracy (epoch 8): 0.981\n"
     ]
    },
    {
     "name": "stderr",
     "output_type": "stream",
     "text": [
      "Evaluation Valid (loss 0.00) epoch 8: 100%|██████████| 68/68 [00:04<00:00, 16.16it/s]\n",
      "Train epoch 9:   0%|          | 0/615 [00:00<?, ?it/s]"
     ]
    },
    {
     "name": "stdout",
     "output_type": "stream",
     "text": [
      "Validation accuracy (epoch 8): 0.965\n"
     ]
    },
    {
     "name": "stderr",
     "output_type": "stream",
     "text": [
      "Train (loss 0.037) epoch 9: 100%|██████████| 615/615 [02:55<00:00,  3.51it/s]\n",
      "Evaluation train (loss 0.06) epoch 9: 100%|██████████| 615/615 [00:35<00:00, 17.19it/s]\n",
      "Eval epoch 9:   0%|          | 0/68 [00:00<?, ?it/s]"
     ]
    },
    {
     "name": "stdout",
     "output_type": "stream",
     "text": [
      "Training accuracy (epoch 9): 0.984\n"
     ]
    },
    {
     "name": "stderr",
     "output_type": "stream",
     "text": [
      "Evaluation Valid (loss 0.02) epoch 9: 100%|██████████| 68/68 [00:04<00:00, 16.34it/s]\n",
      "Train epoch 10:   0%|          | 0/615 [00:00<?, ?it/s]"
     ]
    },
    {
     "name": "stdout",
     "output_type": "stream",
     "text": [
      "Validation accuracy (epoch 9): 0.972\n"
     ]
    },
    {
     "name": "stderr",
     "output_type": "stream",
     "text": [
      "Train (loss 0.000) epoch 10: 100%|██████████| 615/615 [02:55<00:00,  3.50it/s]\n",
      "Evaluation train (loss 0.13) epoch 10: 100%|██████████| 615/615 [00:35<00:00, 17.15it/s]\n",
      "Eval epoch 10:   0%|          | 0/68 [00:00<?, ?it/s]"
     ]
    },
    {
     "name": "stdout",
     "output_type": "stream",
     "text": [
      "Training accuracy (epoch 10): 0.982\n"
     ]
    },
    {
     "name": "stderr",
     "output_type": "stream",
     "text": [
      "Evaluation Valid (loss 0.18) epoch 10: 100%|██████████| 68/68 [00:04<00:00, 16.33it/s]\n",
      "Train epoch 11:   0%|          | 0/615 [00:00<?, ?it/s]"
     ]
    },
    {
     "name": "stdout",
     "output_type": "stream",
     "text": [
      "Validation accuracy (epoch 10): 0.967\n"
     ]
    },
    {
     "name": "stderr",
     "output_type": "stream",
     "text": [
      "Train (loss 0.049) epoch 11: 100%|██████████| 615/615 [02:55<00:00,  3.50it/s]\n",
      "Evaluation train (loss 0.02) epoch 11: 100%|██████████| 615/615 [00:35<00:00, 17.20it/s]\n",
      "Eval epoch 11:   0%|          | 0/68 [00:00<?, ?it/s]"
     ]
    },
    {
     "name": "stdout",
     "output_type": "stream",
     "text": [
      "Training accuracy (epoch 11): 0.984\n"
     ]
    },
    {
     "name": "stderr",
     "output_type": "stream",
     "text": [
      "Evaluation Valid (loss 0.00) epoch 11: 100%|██████████| 68/68 [00:04<00:00, 16.12it/s]\n",
      "Train epoch 12:   0%|          | 0/615 [00:00<?, ?it/s]"
     ]
    },
    {
     "name": "stdout",
     "output_type": "stream",
     "text": [
      "Validation accuracy (epoch 11): 0.966\n"
     ]
    },
    {
     "name": "stderr",
     "output_type": "stream",
     "text": [
      "Train (loss 0.155) epoch 12: 100%|██████████| 615/615 [02:55<00:00,  3.50it/s]\n",
      "Evaluation train (loss 0.23) epoch 12: 100%|██████████| 615/615 [00:35<00:00, 17.16it/s]\n",
      "Eval epoch 12:   0%|          | 0/68 [00:00<?, ?it/s]"
     ]
    },
    {
     "name": "stdout",
     "output_type": "stream",
     "text": [
      "Training accuracy (epoch 12): 0.987\n"
     ]
    },
    {
     "name": "stderr",
     "output_type": "stream",
     "text": [
      "Evaluation Valid (loss 0.00) epoch 12: 100%|██████████| 68/68 [00:04<00:00, 16.18it/s]\n",
      "Train epoch 13:   0%|          | 0/615 [00:00<?, ?it/s]"
     ]
    },
    {
     "name": "stdout",
     "output_type": "stream",
     "text": [
      "Validation accuracy (epoch 12): 0.968\n"
     ]
    },
    {
     "name": "stderr",
     "output_type": "stream",
     "text": [
      "Train (loss 0.015) epoch 13: 100%|██████████| 615/615 [02:55<00:00,  3.50it/s]\n",
      "Evaluation train (loss 0.00) epoch 13: 100%|██████████| 615/615 [00:35<00:00, 17.20it/s]\n",
      "Eval epoch 13:   0%|          | 0/68 [00:00<?, ?it/s]"
     ]
    },
    {
     "name": "stdout",
     "output_type": "stream",
     "text": [
      "Training accuracy (epoch 13): 0.991\n"
     ]
    },
    {
     "name": "stderr",
     "output_type": "stream",
     "text": [
      "Evaluation Valid (loss 0.00) epoch 13: 100%|██████████| 68/68 [00:04<00:00, 16.32it/s]\n",
      "Train epoch 14:   0%|          | 0/615 [00:00<?, ?it/s]"
     ]
    },
    {
     "name": "stdout",
     "output_type": "stream",
     "text": [
      "Validation accuracy (epoch 13): 0.972\n"
     ]
    },
    {
     "name": "stderr",
     "output_type": "stream",
     "text": [
      "Train (loss 0.010) epoch 14: 100%|██████████| 615/615 [02:55<00:00,  3.50it/s]\n",
      "Evaluation train (loss 0.00) epoch 14: 100%|██████████| 615/615 [00:35<00:00, 17.18it/s]\n",
      "Eval epoch 14:   0%|          | 0/68 [00:00<?, ?it/s]"
     ]
    },
    {
     "name": "stdout",
     "output_type": "stream",
     "text": [
      "Training accuracy (epoch 14): 0.973\n"
     ]
    },
    {
     "name": "stderr",
     "output_type": "stream",
     "text": [
      "Evaluation Valid (loss 0.29) epoch 14: 100%|██████████| 68/68 [00:04<00:00, 16.12it/s]\n",
      "Train epoch 15:   0%|          | 0/615 [00:00<?, ?it/s]"
     ]
    },
    {
     "name": "stdout",
     "output_type": "stream",
     "text": [
      "Validation accuracy (epoch 14): 0.959\n"
     ]
    },
    {
     "name": "stderr",
     "output_type": "stream",
     "text": [
      "Train (loss 0.071) epoch 15: 100%|██████████| 615/615 [02:55<00:00,  3.50it/s]\n",
      "Evaluation train (loss 0.00) epoch 15: 100%|██████████| 615/615 [00:35<00:00, 17.19it/s]\n",
      "Eval epoch 15:   0%|          | 0/68 [00:00<?, ?it/s]"
     ]
    },
    {
     "name": "stdout",
     "output_type": "stream",
     "text": [
      "Training accuracy (epoch 15): 0.987\n"
     ]
    },
    {
     "name": "stderr",
     "output_type": "stream",
     "text": [
      "Evaluation Valid (loss 0.00) epoch 15: 100%|██████████| 68/68 [00:04<00:00, 16.12it/s]\n",
      "Train epoch 16:   0%|          | 0/615 [00:00<?, ?it/s]"
     ]
    },
    {
     "name": "stdout",
     "output_type": "stream",
     "text": [
      "Validation accuracy (epoch 15): 0.971\n"
     ]
    },
    {
     "name": "stderr",
     "output_type": "stream",
     "text": [
      "Train (loss 0.001) epoch 16: 100%|██████████| 615/615 [02:55<00:00,  3.50it/s]\n",
      "Evaluation train (loss 0.04) epoch 16: 100%|██████████| 615/615 [00:35<00:00, 17.17it/s]\n",
      "Eval epoch 16:   0%|          | 0/68 [00:00<?, ?it/s]"
     ]
    },
    {
     "name": "stdout",
     "output_type": "stream",
     "text": [
      "Training accuracy (epoch 16): 0.985\n"
     ]
    },
    {
     "name": "stderr",
     "output_type": "stream",
     "text": [
      "Evaluation Valid (loss 0.28) epoch 16: 100%|██████████| 68/68 [00:04<00:00, 16.14it/s]\n",
      "Train epoch 17:   0%|          | 0/615 [00:00<?, ?it/s]"
     ]
    },
    {
     "name": "stdout",
     "output_type": "stream",
     "text": [
      "Validation accuracy (epoch 16): 0.968\n"
     ]
    },
    {
     "name": "stderr",
     "output_type": "stream",
     "text": [
      "Train (loss 0.000) epoch 17: 100%|██████████| 615/615 [02:55<00:00,  3.50it/s]\n",
      "Evaluation train (loss 0.00) epoch 17: 100%|██████████| 615/615 [00:35<00:00, 17.18it/s]\n",
      "Eval epoch 17:   0%|          | 0/68 [00:00<?, ?it/s]"
     ]
    },
    {
     "name": "stdout",
     "output_type": "stream",
     "text": [
      "Training accuracy (epoch 17): 0.985\n"
     ]
    },
    {
     "name": "stderr",
     "output_type": "stream",
     "text": [
      "Evaluation Valid (loss 0.01) epoch 17: 100%|██████████| 68/68 [00:04<00:00, 16.17it/s]\n",
      "Train epoch 18:   0%|          | 0/615 [00:00<?, ?it/s]"
     ]
    },
    {
     "name": "stdout",
     "output_type": "stream",
     "text": [
      "Validation accuracy (epoch 17): 0.969\n"
     ]
    },
    {
     "name": "stderr",
     "output_type": "stream",
     "text": [
      "Train (loss 0.000) epoch 18: 100%|██████████| 615/615 [02:55<00:00,  3.50it/s]\n",
      "Evaluation train (loss 0.00) epoch 18: 100%|██████████| 615/615 [00:35<00:00, 17.18it/s]\n",
      "Eval epoch 18:   0%|          | 0/68 [00:00<?, ?it/s]"
     ]
    },
    {
     "name": "stdout",
     "output_type": "stream",
     "text": [
      "Training accuracy (epoch 18): 0.991\n"
     ]
    },
    {
     "name": "stderr",
     "output_type": "stream",
     "text": [
      "Evaluation Valid (loss 0.04) epoch 18: 100%|██████████| 68/68 [00:04<00:00, 16.22it/s]\n",
      "Train epoch 19:   0%|          | 0/615 [00:00<?, ?it/s]"
     ]
    },
    {
     "name": "stdout",
     "output_type": "stream",
     "text": [
      "Validation accuracy (epoch 18): 0.980\n"
     ]
    },
    {
     "name": "stderr",
     "output_type": "stream",
     "text": [
      "Train (loss 0.000) epoch 19: 100%|██████████| 615/615 [02:55<00:00,  3.50it/s]\n",
      "Evaluation train (loss 0.02) epoch 19: 100%|██████████| 615/615 [00:35<00:00, 17.20it/s]\n",
      "Eval epoch 19:   0%|          | 0/68 [00:00<?, ?it/s]"
     ]
    },
    {
     "name": "stdout",
     "output_type": "stream",
     "text": [
      "Training accuracy (epoch 19): 0.988\n"
     ]
    },
    {
     "name": "stderr",
     "output_type": "stream",
     "text": [
      "Evaluation Valid (loss 0.30) epoch 19: 100%|██████████| 68/68 [00:04<00:00, 16.25it/s]\n",
      "Train epoch 20:   0%|          | 0/615 [00:00<?, ?it/s]"
     ]
    },
    {
     "name": "stdout",
     "output_type": "stream",
     "text": [
      "Validation accuracy (epoch 19): 0.969\n"
     ]
    },
    {
     "name": "stderr",
     "output_type": "stream",
     "text": [
      "Train (loss 0.001) epoch 20: 100%|██████████| 615/615 [02:55<00:00,  3.50it/s]\n",
      "Evaluation train (loss 0.00) epoch 20: 100%|██████████| 615/615 [00:35<00:00, 17.19it/s]\n",
      "Eval epoch 20:   0%|          | 0/68 [00:00<?, ?it/s]"
     ]
    },
    {
     "name": "stdout",
     "output_type": "stream",
     "text": [
      "Training accuracy (epoch 20): 0.986\n"
     ]
    },
    {
     "name": "stderr",
     "output_type": "stream",
     "text": [
      "Evaluation Valid (loss 0.00) epoch 20: 100%|██████████| 68/68 [00:04<00:00, 16.25it/s]\n",
      "Eval epoch 1:   0%|          | 0/615 [00:00<?, ?it/s]"
     ]
    },
    {
     "name": "stdout",
     "output_type": "stream",
     "text": [
      "Validation accuracy (epoch 20): 0.969\n"
     ]
    },
    {
     "name": "stderr",
     "output_type": "stream",
     "text": [
      "Evaluation Valid (loss 0.00) epoch 1: 100%|██████████| 615/615 [00:35<00:00, 17.18it/s]\n",
      "Evaluation Valid (loss 0.00) epoch 1: 100%|██████████| 68/68 [00:04<00:00, 16.18it/s]\n"
     ]
    }
   ],
   "source": [
    "eval_dict = speaker_recog.train(num_epochs=20)"
   ]
  },
  {
   "cell_type": "code",
   "execution_count": 42,
   "metadata": {},
   "outputs": [
    {
     "name": "stderr",
     "output_type": "stream",
     "text": [
      "Evaluation Valid (loss 0.00) epoch 1: 100%|██████████| 68/68 [00:04<00:00, 16.38it/s]\n"
     ]
    }
   ],
   "source": [
    "out = speaker_recog.evaluate()"
   ]
  },
  {
   "cell_type": "code",
   "execution_count": 43,
   "metadata": {},
   "outputs": [
    {
     "data": {
      "text/plain": [
       "0.9685398655139289"
      ]
     },
     "execution_count": 43,
     "metadata": {},
     "output_type": "execute_result"
    }
   ],
   "source": [
    "out[1]"
   ]
  },
  {
   "cell_type": "code",
   "execution_count": null,
   "metadata": {},
   "outputs": [],
   "source": []
  },
  {
   "cell_type": "code",
   "execution_count": 44,
   "metadata": {},
   "outputs": [],
   "source": [
    "speaker_recog_load = sr.SpeakerRecognition(data_path='/home/ubuntu/loop/data/vctk-16khz-cmu-no-boundaries-all',\n",
    "                        checkpoint='checkpoints/speaker_recognition_vctk_all/bestmodel.pth',\n",
    "                        seq_len=300,\n",
    "                        nspk=107,\n",
    "                        max_seq_len=1000,\n",
    "                        batch_size=64,\n",
    "                        gpu=gpu,\n",
    "                        exp_name='notebook_test')"
   ]
  },
  {
   "cell_type": "code",
   "execution_count": 45,
   "metadata": {},
   "outputs": [],
   "source": [
    "speaker_recog_load.reload_checkpoint()"
   ]
  },
  {
   "cell_type": "code",
   "execution_count": 46,
   "metadata": {},
   "outputs": [
    {
     "name": "stderr",
     "output_type": "stream",
     "text": [
      "Evaluation Valid (loss 0.04) epoch 1: 100%|██████████| 68/68 [00:04<00:00, 16.31it/s]\n"
     ]
    }
   ],
   "source": [
    "out = speaker_recog_load.evaluate()"
   ]
  },
  {
   "cell_type": "code",
   "execution_count": 47,
   "metadata": {},
   "outputs": [
    {
     "data": {
      "text/plain": [
       "0.9798270893371758"
      ]
     },
     "execution_count": 47,
     "metadata": {},
     "output_type": "execute_result"
    }
   ],
   "source": [
    "out[1]"
   ]
  },
  {
   "cell_type": "code",
   "execution_count": 52,
   "metadata": {},
   "outputs": [
    {
     "data": {
      "text/plain": [
       "0.12572997153470436"
      ]
     },
     "execution_count": 52,
     "metadata": {},
     "output_type": "execute_result"
    }
   ],
   "source": [
    "eval_dict['valid_loss']"
   ]
  },
  {
   "cell_type": "code",
   "execution_count": 53,
   "metadata": {},
   "outputs": [
    {
     "data": {
      "image/png": "[encoded data removed]",
      "text/plain": [
       "<matplotlib.figure.Figure at 0x7f96b9c4b2d0>"
      ]
     },
     "metadata": {},
     "output_type": "display_data"
    }
   ],
   "source": [
    "speaker_recog.training_monitor.plot()"
   ]
  },
  {
   "cell_type": "code",
   "execution_count": 57,
   "metadata": {},
   "outputs": [
    {
     "data": {
      "image/png": "[encoded data removed]",
      "text/plain": [
       "<matplotlib.figure.Figure at 0x7f97048d4d50>"
      ]
     },
     "metadata": {},
     "output_type": "display_data"
    }
   ],
   "source": [
    "speaker_recog.training_monitor.data['valid_acc'].plot()\n",
    "plt.grid(True)"
   ]
  },
  {
   "cell_type": "code",
   "execution_count": 60,
   "metadata": {},
   "outputs": [
    {
     "data": {
      "text/plain": [
       "array([17, 14, 22, ..., 21, 62, 30])"
      ]
     },
     "execution_count": 60,
     "metadata": {},
     "output_type": "execute_result"
    }
   ],
   "source": [
    "eval_dict['valid_gt']"
   ]
  },
  {
   "cell_type": "code",
   "execution_count": 61,
   "metadata": {},
   "outputs": [
    {
     "data": {
      "text/plain": [
       "array([17, 14, 22, ..., 21, 62, 30])"
      ]
     },
     "execution_count": 61,
     "metadata": {},
     "output_type": "execute_result"
    }
   ],
   "source": [
    "eval_dict['valid_pred']"
   ]
  },
  {
   "cell_type": "markdown",
   "metadata": {},
   "source": [
    "Look at some examples of errors. What is top 2 accuracy? Does the incorrectly-predicted speaker have a speaker embedding that is very close in terms of cosine similarity?"
   ]
  },
  {
   "cell_type": "markdown",
   "metadata": {},
   "source": [
    "### Try evaluating the trained speaker model on some synthesized samples"
   ]
  },
  {
   "cell_type": "code",
   "execution_count": null,
   "metadata": {},
   "outputs": [],
   "source": []
  }
 ],
 "metadata": {
  "kernelspec": {
   "display_name": "Python 2",
   "language": "python",
   "name": "python2"
  },
  "language_info": {
   "codemirror_mode": {
    "name": "ipython",
    "version": 2
   },
   "file_extension": ".py",
   "mimetype": "text/x-python",
   "name": "python",
   "nbconvert_exporter": "python",
   "pygments_lexer": "ipython2",
   "version": "2.7.12"
  }
 },
 "nbformat": 4,
 "nbformat_minor": 2
}
