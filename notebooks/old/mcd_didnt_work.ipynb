{
 "cells": [
  {
   "cell_type": "code",
   "execution_count": 35,
   "metadata": {},
   "outputs": [],
   "source": [
    "import mcd as m\n",
    "import cython"
   ]
  },
  {
   "cell_type": "code",
   "execution_count": 55,
   "metadata": {},
   "outputs": [],
   "source": [
    "import os, sys\n",
    "sys.path.append('/home/ubuntu/mcd/bin/')"
   ]
  },
  {
   "cell_type": "code",
   "execution_count": 54,
   "metadata": {},
   "outputs": [
    {
     "data": {
      "text/plain": [
       "'/home/ubuntu/mcd'"
      ]
     },
     "execution_count": 54,
     "metadata": {},
     "output_type": "execute_result"
    }
   ],
   "source": [
    "os.getcwd()\n",
    "#os.chdir(\"/home/ubuntu/mcd\")"
   ]
  },
  {
   "cell_type": "code",
   "execution_count": 32,
   "metadata": {},
   "outputs": [
    {
     "name": "stdout",
     "output_type": "stream",
     "text": [
      "processing cmu_us_arctic_slt_a0003\r\n",
      "processing cmu_us_arctic_slt_a0044\r\n",
      "overall MCD = 5.308880 (1254 frames)\r\n"
     ]
    }
   ],
   "source": [
    "cat test_data/corpus.lst | xargs bin/get_mcd_plain test_data/ref-examples test_data/aligned-synth-examples"
   ]
  },
  {
   "cell_type": "code",
   "execution_count": 57,
   "metadata": {},
   "outputs": [
    {
     "data": {
      "text/plain": [
       "['',\n",
       " '/usr/local/lib/python2.7/dist-packages/phonemizer-0.3.1-py2.7.egg',\n",
       " '/usr/local/lib/python2.7/dist-packages/joblib-0.11-py2.7.egg',\n",
       " '/home/ubuntu/loop/notebooks',\n",
       " '/home/ubuntu/loop',\n",
       " '/usr/lib/python2.7',\n",
       " '/usr/lib/python2.7/plat-x86_64-linux-gnu',\n",
       " '/usr/lib/python2.7/lib-tk',\n",
       " '/usr/lib/python2.7/lib-old',\n",
       " '/usr/lib/python2.7/lib-dynload',\n",
       " '/usr/local/lib/python2.7/dist-packages',\n",
       " '/usr/lib/python2.7/dist-packages',\n",
       " '/usr/local/lib/python2.7/dist-packages/IPython/extensions',\n",
       " '/home/ubuntu/.ipython',\n",
       " 'bin',\n",
       " 'bin',\n",
       " '..bin',\n",
       " '\\x08in',\n",
       " '../bin',\n",
       " '../bin/',\n",
       " '/home/ubuntu/mcd/bin/']"
      ]
     },
     "execution_count": 57,
     "metadata": {},
     "output_type": "execute_result"
    }
   ],
   "source": [
    "sys.path\n"
   ]
  },
  {
   "cell_type": "code",
   "execution_count": 61,
   "metadata": {},
   "outputs": [],
   "source": [
    "os.chdir('bin')"
   ]
  },
  {
   "cell_type": "code",
   "execution_count": 66,
   "metadata": {},
   "outputs": [
    {
     "name": "stderr",
     "output_type": "stream",
     "text": [
      "usage: get_mcd_plain [-h] [--ext EXT] [--param_order ORDER]\n",
      "                     [--remove_segments LABELREGEX]\n",
      "                     [--alignment_dir ALIGNMENTDIR]\n",
      "                     [--frame_period FRAMEPERIOD]\n",
      "                     NATDIR SYNTHDIR UTTID [UTTID ...]\n",
      "get_mcd_plain: error: too few arguments\n"
     ]
    },
    {
     "ename": "SystemExit",
     "evalue": "2",
     "output_type": "error",
     "traceback": [
      "An exception has occurred, use %tb to see the full traceback.\n",
      "\u001b[0;31mSystemExit\u001b[0m\u001b[0;31m:\u001b[0m 2\n"
     ]
    }
   ],
   "source": [
    "%run get_mcd_plain test_data/ref-examples test_data/aligned-synth-examples"
   ]
  }
 ],
 "metadata": {
  "kernelspec": {
   "display_name": "Python 2",
   "language": "python",
   "name": "python2"
  },
  "language_info": {
   "codemirror_mode": {
    "name": "ipython",
    "version": 2
   },
   "file_extension": ".py",
   "mimetype": "text/x-python",
   "name": "python",
   "nbconvert_exporter": "python",
   "pygments_lexer": "ipython2",
   "version": "2.7.12"
  }
 },
 "nbformat": 4,
 "nbformat_minor": 2
}
