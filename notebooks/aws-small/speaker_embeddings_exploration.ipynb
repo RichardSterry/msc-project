{
 "cells": [
  {
   "cell_type": "code",
   "execution_count": 1,
   "metadata": {},
   "outputs": [],
   "source": [
    "from __future__ import print_function\n",
    "\n",
    "import os\n",
    "import numpy as np\n",
    "\n",
    "import matplotlib\n",
    "import matplotlib.cm as cm\n",
    "import matplotlib.pyplot as plt\n",
    "%matplotlib inline\n",
    "\n",
    "import torch\n",
    "from model import Loop\n",
    "\n",
    "from sklearn.manifold import TSNE\n",
    "\n",
    "import pandas as pd"
   ]
  },
  {
   "cell_type": "code",
   "execution_count": 2,
   "metadata": {},
   "outputs": [],
   "source": [
    "os.chdir('/home/ubuntu/loop')\n",
    "vctk_folder = '/home/ubuntu/VCTK-Corpus/'"
   ]
  },
  {
   "cell_type": "code",
   "execution_count": 3,
   "metadata": {},
   "outputs": [],
   "source": [
    "def get_vtck_speaker_info():\n",
    "    # this is the reference data file that comes as part of VCTK\n",
    "    speaker_info_file = os.path.join(vctk_folder, 'speaker-info.txt')\n",
    "\n",
    "   # read file contents\n",
    "    f = open(speaker_info_file, 'r')\n",
    "    x = f.readlines()\n",
    "    f.close()\n",
    "\n",
    "    # extract column headers\n",
    "    cols = x[0].lower().split()\n",
    "    num_cols = len(cols)\n",
    "    del x[0]\n",
    "    num_speaker = len(x)\n",
    "\n",
    "    # parse the data line by line\n",
    "    d = dict()\n",
    "\n",
    "    for idx in range(num_speaker):\n",
    "        this_speaker_id = int(x[idx][:3])\n",
    "        this_age = int(x[idx][5:7])\n",
    "        this_gender = x[idx][9]\n",
    "        residual = x[idx][14:].split()\n",
    "        this_accent = residual[0]\n",
    "        this_region = \" \".join(residual[1:])\n",
    "\n",
    "        # add speakers to a dictionary\n",
    "        d[this_speaker_id] = (this_speaker_id, this_age, this_gender, this_accent, this_region)\n",
    "\n",
    "    # convert to Pandas datafrae\n",
    "    speaker_info = pd.DataFrame.from_dict(d, orient='index', columns=cols)\n",
    "    \n",
    "    return speaker_info"
   ]
  },
  {
   "cell_type": "code",
   "execution_count": 4,
   "metadata": {},
   "outputs": [],
   "source": [
    "# Lookup dict from VCTK speaker IDs to the IDs used inside VoiceLoop\n",
    "# should really pick this up from the checkpoints, but it's convenient to have it available before/without a checkpoint being defined\n",
    "speaker_list_vctk = [294, 297, 299, 300, 301, 305, 306, 308, 310, 311, 318, 329, 330, 333, 334, 339, 341, 345, 360, 361, 362]\n",
    "speaker_lookup = dict([(x, y) for x, y in enumerate(speaker_list_vctk)])\n",
    "\n",
    "# load VCTK speaker_info metadata\n",
    "speaker_info = get_vtck_speaker_info()\n",
    "#speaker_info[speaker_info.id.isin(speaker_lookup.values())]\n",
    "tmp = pd.DataFrame.from_dict(speaker_lookup, orient='index', columns=['id'])\n",
    "speaker_info_loop = pd.merge(speaker_info, tmp)"
   ]
  },
  {
   "cell_type": "code",
   "execution_count": 5,
   "metadata": {},
   "outputs": [
    {
     "data": {
      "text/plain": [
       "21"
      ]
     },
     "execution_count": 5,
     "metadata": {},
     "output_type": "execute_result"
    }
   ],
   "source": [
    "len(speaker_list_vctk)"
   ]
  },
  {
   "cell_type": "code",
   "execution_count": 6,
   "metadata": {},
   "outputs": [
    {
     "data": {
      "text/html": [
       "<div>\n",
       "<style scoped>\n",
       "    .dataframe tbody tr th:only-of-type {\n",
       "        vertical-align: middle;\n",
       "    }\n",
       "\n",
       "    .dataframe tbody tr th {\n",
       "        vertical-align: top;\n",
       "    }\n",
       "\n",
       "    .dataframe thead th {\n",
       "        text-align: right;\n",
       "    }\n",
       "</style>\n",
       "<table border=\"1\" class=\"dataframe\">\n",
       "  <thead>\n",
       "    <tr style=\"text-align: right;\">\n",
       "      <th></th>\n",
       "      <th>id</th>\n",
       "      <th>age</th>\n",
       "      <th>gender</th>\n",
       "      <th>accents</th>\n",
       "      <th>region</th>\n",
       "    </tr>\n",
       "  </thead>\n",
       "  <tbody>\n",
       "    <tr>\n",
       "      <th>0</th>\n",
       "      <td>294</td>\n",
       "      <td>33</td>\n",
       "      <td>F</td>\n",
       "      <td>American</td>\n",
       "      <td>San Francisco</td>\n",
       "    </tr>\n",
       "    <tr>\n",
       "      <th>1</th>\n",
       "      <td>297</td>\n",
       "      <td>20</td>\n",
       "      <td>F</td>\n",
       "      <td>American</td>\n",
       "      <td>New York</td>\n",
       "    </tr>\n",
       "    <tr>\n",
       "      <th>2</th>\n",
       "      <td>299</td>\n",
       "      <td>25</td>\n",
       "      <td>F</td>\n",
       "      <td>American</td>\n",
       "      <td>California</td>\n",
       "    </tr>\n",
       "    <tr>\n",
       "      <th>3</th>\n",
       "      <td>300</td>\n",
       "      <td>23</td>\n",
       "      <td>F</td>\n",
       "      <td>American</td>\n",
       "      <td>California</td>\n",
       "    </tr>\n",
       "    <tr>\n",
       "      <th>4</th>\n",
       "      <td>301</td>\n",
       "      <td>23</td>\n",
       "      <td>F</td>\n",
       "      <td>American</td>\n",
       "      <td>North Carolina</td>\n",
       "    </tr>\n",
       "    <tr>\n",
       "      <th>5</th>\n",
       "      <td>305</td>\n",
       "      <td>19</td>\n",
       "      <td>F</td>\n",
       "      <td>American</td>\n",
       "      <td>Philadelphia</td>\n",
       "    </tr>\n",
       "    <tr>\n",
       "      <th>6</th>\n",
       "      <td>306</td>\n",
       "      <td>21</td>\n",
       "      <td>F</td>\n",
       "      <td>American</td>\n",
       "      <td>New York</td>\n",
       "    </tr>\n",
       "    <tr>\n",
       "      <th>7</th>\n",
       "      <td>308</td>\n",
       "      <td>18</td>\n",
       "      <td>F</td>\n",
       "      <td>American</td>\n",
       "      <td>Alabama</td>\n",
       "    </tr>\n",
       "    <tr>\n",
       "      <th>8</th>\n",
       "      <td>310</td>\n",
       "      <td>21</td>\n",
       "      <td>F</td>\n",
       "      <td>American</td>\n",
       "      <td>Tennessee</td>\n",
       "    </tr>\n",
       "    <tr>\n",
       "      <th>9</th>\n",
       "      <td>311</td>\n",
       "      <td>21</td>\n",
       "      <td>M</td>\n",
       "      <td>American</td>\n",
       "      <td>Iowa</td>\n",
       "    </tr>\n",
       "    <tr>\n",
       "      <th>10</th>\n",
       "      <td>318</td>\n",
       "      <td>32</td>\n",
       "      <td>F</td>\n",
       "      <td>American</td>\n",
       "      <td>Napa</td>\n",
       "    </tr>\n",
       "    <tr>\n",
       "      <th>11</th>\n",
       "      <td>329</td>\n",
       "      <td>23</td>\n",
       "      <td>F</td>\n",
       "      <td>American</td>\n",
       "      <td></td>\n",
       "    </tr>\n",
       "    <tr>\n",
       "      <th>12</th>\n",
       "      <td>330</td>\n",
       "      <td>26</td>\n",
       "      <td>F</td>\n",
       "      <td>American</td>\n",
       "      <td></td>\n",
       "    </tr>\n",
       "    <tr>\n",
       "      <th>13</th>\n",
       "      <td>333</td>\n",
       "      <td>19</td>\n",
       "      <td>F</td>\n",
       "      <td>American</td>\n",
       "      <td>Indiana</td>\n",
       "    </tr>\n",
       "    <tr>\n",
       "      <th>14</th>\n",
       "      <td>334</td>\n",
       "      <td>18</td>\n",
       "      <td>M</td>\n",
       "      <td>American</td>\n",
       "      <td>Chicago</td>\n",
       "    </tr>\n",
       "    <tr>\n",
       "      <th>15</th>\n",
       "      <td>339</td>\n",
       "      <td>21</td>\n",
       "      <td>F</td>\n",
       "      <td>American</td>\n",
       "      <td>Pennsylvania</td>\n",
       "    </tr>\n",
       "    <tr>\n",
       "      <th>16</th>\n",
       "      <td>341</td>\n",
       "      <td>26</td>\n",
       "      <td>F</td>\n",
       "      <td>American</td>\n",
       "      <td>Ohio</td>\n",
       "    </tr>\n",
       "    <tr>\n",
       "      <th>17</th>\n",
       "      <td>345</td>\n",
       "      <td>22</td>\n",
       "      <td>M</td>\n",
       "      <td>American</td>\n",
       "      <td>Florida</td>\n",
       "    </tr>\n",
       "    <tr>\n",
       "      <th>18</th>\n",
       "      <td>360</td>\n",
       "      <td>19</td>\n",
       "      <td>M</td>\n",
       "      <td>American</td>\n",
       "      <td>New Jersey</td>\n",
       "    </tr>\n",
       "    <tr>\n",
       "      <th>19</th>\n",
       "      <td>361</td>\n",
       "      <td>19</td>\n",
       "      <td>F</td>\n",
       "      <td>American</td>\n",
       "      <td>New Jersey</td>\n",
       "    </tr>\n",
       "    <tr>\n",
       "      <th>20</th>\n",
       "      <td>362</td>\n",
       "      <td>29</td>\n",
       "      <td>F</td>\n",
       "      <td>American</td>\n",
       "      <td></td>\n",
       "    </tr>\n",
       "  </tbody>\n",
       "</table>\n",
       "</div>"
      ],
      "text/plain": [
       "     id  age gender   accents          region\n",
       "0   294   33      F  American   San Francisco\n",
       "1   297   20      F  American        New York\n",
       "2   299   25      F  American      California\n",
       "3   300   23      F  American      California\n",
       "4   301   23      F  American  North Carolina\n",
       "5   305   19      F  American    Philadelphia\n",
       "6   306   21      F  American        New York\n",
       "7   308   18      F  American         Alabama\n",
       "8   310   21      F  American       Tennessee\n",
       "9   311   21      M  American            Iowa\n",
       "10  318   32      F  American            Napa\n",
       "11  329   23      F  American                \n",
       "12  330   26      F  American                \n",
       "13  333   19      F  American         Indiana\n",
       "14  334   18      M  American         Chicago\n",
       "15  339   21      F  American    Pennsylvania\n",
       "16  341   26      F  American            Ohio\n",
       "17  345   22      M  American         Florida\n",
       "18  360   19      M  American      New Jersey\n",
       "19  361   19      F  American      New Jersey\n",
       "20  362   29      F  American                "
      ]
     },
     "execution_count": 6,
     "metadata": {},
     "output_type": "execute_result"
    }
   ],
   "source": [
    "speaker_info_loop"
   ]
  },
  {
   "cell_type": "code",
   "execution_count": 7,
   "metadata": {},
   "outputs": [],
   "source": [
    "idx_east_coast = [1, 4, 5, 6, 15, 18, 19, 20]\n",
    "idx_other = list(set(range(21)) - set(idx_east_coast))"
   ]
  },
  {
   "cell_type": "code",
   "execution_count": 8,
   "metadata": {},
   "outputs": [
    {
     "data": {
      "text/plain": [
       "[0, 2, 3, 7, 8, 9, 10, 11, 12, 13, 14, 16, 17]"
      ]
     },
     "execution_count": 8,
     "metadata": {},
     "output_type": "execute_result"
    }
   ],
   "source": [
    "idx_other"
   ]
  },
  {
   "cell_type": "code",
   "execution_count": 9,
   "metadata": {},
   "outputs": [
    {
     "data": {
      "text/plain": [
       "[1, 4, 5, 6, 15, 18, 19, 20]"
      ]
     },
     "execution_count": 9,
     "metadata": {},
     "output_type": "execute_result"
    }
   ],
   "source": [
    "idx_east_coast"
   ]
  },
  {
   "cell_type": "code",
   "execution_count": 10,
   "metadata": {},
   "outputs": [],
   "source": [
    "checkpoint = 'models/vctk/bestmodel.pth'\n",
    "\n",
    "checkpoint = 'checkpoints/vctk-deleteme/lastmodel.pth'\n",
    "#checkpoint = '/home/ubuntu/original-loop/checkpoints/vctk-original/lastmodel.pth'\n",
    "\n",
    "checkpoint = 'checkpoints/vctk-nspk-21/bestmodel.pth'\n",
    "\n",
    "checkpoint = 'checkpoints/vctk-nspk-21-hiddenspkr-64/bestmodel.pth'\n",
    "\n",
    "#checkpoint = 'models/vctk/bestmodel.pth'\n",
    "\n",
    "\n",
    "norm_path = '/home/ubuntu/loop/data/vctk/norm_info/norm.dat'\n",
    "\n",
    "output_file = '/tmp/embedding_file.npy'\n",
    "\n",
    "checkpoint_args_path = os.path.join(os.path.dirname(checkpoint), 'args.pth')\n",
    "checkpoint_args = torch.load(checkpoint_args_path)\n",
    "\n",
    "#start_epoch = checkpoint_args[3]\n",
    "checkpoint = torch.load(checkpoint,\n",
    "                     map_location=lambda storage, loc: storage)\n",
    "\n",
    "model = Loop(checkpoint_args[0])\n",
    "\n",
    "model.load_state_dict(checkpoint)\n",
    "#model.load_my_state_dict(checkpoint)\n",
    "\n",
    "embeddings = model.encoder.lut_s.weight.data.numpy()\n",
    "np.save(output_file, embeddings)"
   ]
  },
  {
   "cell_type": "code",
   "execution_count": 11,
   "metadata": {},
   "outputs": [],
   "source": [
    "model = Loop(checkpoint_args[0])"
   ]
  },
  {
   "cell_type": "code",
   "execution_count": 12,
   "metadata": {},
   "outputs": [
    {
     "data": {
      "text/plain": [
       "Namespace(K=10, attention_alignment=0.05, batch_size=64, checkpoint='', clip_grad=0.5, data='data/vctk', epochs=90, expName='checkpoints/vctk-nspk-21-hiddenspkr-64', gpu=0, hidden_size=256, hidden_size_speakers=64, ignore_grad=10000.0, lr=0.0001, max_seq_len=1000, mem_size=20, noise=4, nspk=21, output_size=63, seed=1, seq_len=100, visualize=False, vocabulary_size=44)"
      ]
     },
     "execution_count": 12,
     "metadata": {},
     "output_type": "execute_result"
    }
   ],
   "source": [
    "checkpoint_args[0]"
   ]
  },
  {
   "cell_type": "code",
   "execution_count": 13,
   "metadata": {},
   "outputs": [
    {
     "data": {
      "text/plain": [
       "Loop (\n",
       "  (encoder): Encoder (\n",
       "    (lut_p): Embedding(44, 256, max_norm=1.0)\n",
       "    (lut_s): Embedding(21, 64, max_norm=1.0)\n",
       "  )\n",
       "  (decoder): Decoder (\n",
       "    (attn): GravesAttention (\n",
       "      (sm): Softmax ()\n",
       "      (N_a): Sequential (\n",
       "        (0): Linear (6380 -> 638)\n",
       "        (1): ReLU ()\n",
       "        (2): Linear (638 -> 30)\n",
       "      )\n",
       "    )\n",
       "    (N_o): Sequential (\n",
       "      (0): Linear (6380 -> 638)\n",
       "      (1): ReLU ()\n",
       "      (2): Linear (638 -> 256)\n",
       "    )\n",
       "    (output): Linear (256 -> 63)\n",
       "    (N_u): Sequential (\n",
       "      (0): Linear (6380 -> 638)\n",
       "      (1): ReLU ()\n",
       "      (2): Linear (638 -> 319)\n",
       "    )\n",
       "    (F_u): Linear (64 -> 256)\n",
       "    (F_o): Linear (64 -> 256)\n",
       "  )\n",
       ")"
      ]
     },
     "execution_count": 13,
     "metadata": {},
     "output_type": "execute_result"
    }
   ],
   "source": [
    "model"
   ]
  },
  {
   "cell_type": "code",
   "execution_count": 14,
   "metadata": {},
   "outputs": [
    {
     "data": {
      "text/plain": [
       "Namespace(K=10, attention_alignment=0.05, batch_size=64, checkpoint='', clip_grad=0.5, data='data/vctk', epochs=90, expName='checkpoints/vctk-nspk-21-hiddenspkr-64', gpu=0, hidden_size=256, hidden_size_speakers=64, ignore_grad=10000.0, lr=0.0001, max_seq_len=1000, mem_size=20, noise=4, nspk=21, output_size=63, seed=1, seq_len=100, visualize=False, vocabulary_size=44)"
      ]
     },
     "execution_count": 14,
     "metadata": {},
     "output_type": "execute_result"
    }
   ],
   "source": [
    "checkpoint_args[0]"
   ]
  },
  {
   "cell_type": "code",
   "execution_count": 15,
   "metadata": {},
   "outputs": [
    {
     "data": {
      "text/plain": [
       "50"
      ]
     },
     "execution_count": 15,
     "metadata": {},
     "output_type": "execute_result"
    }
   ],
   "source": [
    "len(checkpoint_args[1])"
   ]
  },
  {
   "cell_type": "code",
   "execution_count": 16,
   "metadata": {},
   "outputs": [
    {
     "data": {
      "text/plain": [
       "50"
      ]
     },
     "execution_count": 16,
     "metadata": {},
     "output_type": "execute_result"
    }
   ],
   "source": [
    "len(checkpoint_args[2])"
   ]
  },
  {
   "cell_type": "code",
   "execution_count": 17,
   "metadata": {},
   "outputs": [
    {
     "data": {
      "text/plain": [
       "int"
      ]
     },
     "execution_count": 17,
     "metadata": {},
     "output_type": "execute_result"
    }
   ],
   "source": [
    "type(checkpoint_args[3])"
   ]
  },
  {
   "cell_type": "code",
   "execution_count": 18,
   "metadata": {},
   "outputs": [
    {
     "data": {
      "text/plain": [
       "50"
      ]
     },
     "execution_count": 18,
     "metadata": {},
     "output_type": "execute_result"
    }
   ],
   "source": [
    "checkpoint_args[3]"
   ]
  },
  {
   "cell_type": "code",
   "execution_count": 19,
   "metadata": {},
   "outputs": [
    {
     "data": {
      "text/plain": [
       "Loop (\n",
       "  (encoder): Encoder (\n",
       "    (lut_p): Embedding(44, 256, max_norm=1.0)\n",
       "    (lut_s): Embedding(21, 64, max_norm=1.0)\n",
       "  )\n",
       "  (decoder): Decoder (\n",
       "    (attn): GravesAttention (\n",
       "      (sm): Softmax ()\n",
       "      (N_a): Sequential (\n",
       "        (0): Linear (6380 -> 638)\n",
       "        (1): ReLU ()\n",
       "        (2): Linear (638 -> 30)\n",
       "      )\n",
       "    )\n",
       "    (N_o): Sequential (\n",
       "      (0): Linear (6380 -> 638)\n",
       "      (1): ReLU ()\n",
       "      (2): Linear (638 -> 256)\n",
       "    )\n",
       "    (output): Linear (256 -> 63)\n",
       "    (N_u): Sequential (\n",
       "      (0): Linear (6380 -> 638)\n",
       "      (1): ReLU ()\n",
       "      (2): Linear (638 -> 319)\n",
       "    )\n",
       "    (F_u): Linear (64 -> 256)\n",
       "    (F_o): Linear (64 -> 256)\n",
       "  )\n",
       ")"
      ]
     },
     "execution_count": 19,
     "metadata": {},
     "output_type": "execute_result"
    }
   ],
   "source": [
    "model"
   ]
  },
  {
   "cell_type": "code",
   "execution_count": 20,
   "metadata": {},
   "outputs": [
    {
     "data": {
      "text/plain": [
       "torch.Size([21, 64])"
      ]
     },
     "execution_count": 20,
     "metadata": {},
     "output_type": "execute_result"
    }
   ],
   "source": [
    "model.encoder.lut_s.weight.size()"
   ]
  },
  {
   "cell_type": "code",
   "execution_count": 21,
   "metadata": {},
   "outputs": [
    {
     "data": {
      "image/png": "[encoded data removed]",
      "text/plain": [
       "<matplotlib.figure.Figure at 0x7f97e1a7b990>"
      ]
     },
     "metadata": {},
     "output_type": "display_data"
    }
   ],
   "source": [
    "plt.barh(range(embeddings.shape[0]), np.sum(np.abs(embeddings), 1))\n",
    "plt.grid(True)"
   ]
  },
  {
   "cell_type": "code",
   "execution_count": 122,
   "metadata": {},
   "outputs": [
    {
     "data": {
      "text/plain": [
       "(22, 256)"
      ]
     },
     "execution_count": 122,
     "metadata": {},
     "output_type": "execute_result"
    }
   ],
   "source": [
    "embeddings.shape"
   ]
  },
  {
   "cell_type": "code",
   "execution_count": 123,
   "metadata": {},
   "outputs": [
    {
     "data": {
      "text/plain": [
       "2.0444486"
      ]
     },
     "execution_count": 123,
     "metadata": {},
     "output_type": "execute_result"
    }
   ],
   "source": [
    "embeddings[:,0].sum()"
   ]
  },
  {
   "cell_type": "code",
   "execution_count": 176,
   "metadata": {},
   "outputs": [],
   "source": [
    "embeddings = np.delete(embeddings, -1, axis=0)"
   ]
  },
  {
   "cell_type": "code",
   "execution_count": 125,
   "metadata": {},
   "outputs": [
    {
     "data": {
      "text/plain": [
       "(21, 256)"
      ]
     },
     "execution_count": 125,
     "metadata": {},
     "output_type": "execute_result"
    }
   ],
   "source": [
    "embeddings.shape"
   ]
  },
  {
   "cell_type": "code",
   "execution_count": 198,
   "metadata": {},
   "outputs": [
    {
     "data": {
      "text/plain": [
       "Loop (\n",
       "  (encoder): Encoder (\n",
       "    (lut_p): Embedding(44, 256, max_norm=1.0)\n",
       "    (lut_s): Embedding(21, 256, max_norm=1.0)\n",
       "  )\n",
       "  (decoder): Decoder (\n",
       "    (attn): GravesAttention (\n",
       "      (sm): Softmax ()\n",
       "      (N_a): Sequential (\n",
       "        (0): Linear (6380 -> 638)\n",
       "        (1): ReLU ()\n",
       "        (2): Linear (638 -> 30)\n",
       "      )\n",
       "    )\n",
       "    (N_o): Sequential (\n",
       "      (0): Linear (6380 -> 638)\n",
       "      (1): ReLU ()\n",
       "      (2): Linear (638 -> 256)\n",
       "    )\n",
       "    (output): Linear (256 -> 63)\n",
       "    (N_u): Sequential (\n",
       "      (0): Linear (6380 -> 638)\n",
       "      (1): ReLU ()\n",
       "      (2): Linear (638 -> 319)\n",
       "    )\n",
       "    (F_u): Linear (256 -> 256)\n",
       "    (F_o): Linear (256 -> 256)\n",
       "  )\n",
       ")"
      ]
     },
     "execution_count": 198,
     "metadata": {},
     "output_type": "execute_result"
    }
   ],
   "source": [
    "model"
   ]
  },
  {
   "cell_type": "code",
   "execution_count": 22,
   "metadata": {},
   "outputs": [],
   "source": [
    "genders = speaker_info_loop['gender']\n",
    "m_idx = genders == 'M'\n",
    "f_idx = genders == 'F'\n",
    "input_tsne = [m for i, m in enumerate(embeddings) if i in m_idx or i in f_idx]"
   ]
  },
  {
   "cell_type": "code",
   "execution_count": 23,
   "metadata": {},
   "outputs": [
    {
     "data": {
      "text/plain": [
       "0     False\n",
       "1     False\n",
       "2     False\n",
       "3     False\n",
       "4     False\n",
       "5     False\n",
       "6     False\n",
       "7     False\n",
       "8     False\n",
       "9      True\n",
       "10    False\n",
       "11    False\n",
       "12    False\n",
       "13    False\n",
       "14     True\n",
       "15    False\n",
       "16    False\n",
       "17     True\n",
       "18     True\n",
       "19    False\n",
       "20    False\n",
       "Name: gender, dtype: bool"
      ]
     },
     "execution_count": 23,
     "metadata": {},
     "output_type": "execute_result"
    }
   ],
   "source": [
    "m_idx"
   ]
  },
  {
   "cell_type": "code",
   "execution_count": 24,
   "metadata": {},
   "outputs": [
    {
     "data": {
      "text/plain": [
       "21"
      ]
     },
     "execution_count": 24,
     "metadata": {},
     "output_type": "execute_result"
    }
   ],
   "source": [
    "len(input_tsne)"
   ]
  },
  {
   "cell_type": "code",
   "execution_count": 25,
   "metadata": {},
   "outputs": [
    {
     "data": {
      "text/plain": [
       "(64,)"
      ]
     },
     "execution_count": 25,
     "metadata": {},
     "output_type": "execute_result"
    }
   ],
   "source": [
    "input_tsne[2].shape"
   ]
  },
  {
   "cell_type": "code",
   "execution_count": 26,
   "metadata": {},
   "outputs": [],
   "source": [
    "input_tsne = [m for i, m in enumerate(embeddings)]"
   ]
  },
  {
   "cell_type": "code",
   "execution_count": 27,
   "metadata": {},
   "outputs": [
    {
     "data": {
      "text/plain": [
       "64"
      ]
     },
     "execution_count": 27,
     "metadata": {},
     "output_type": "execute_result"
    }
   ],
   "source": [
    "len(input_tsne[0])"
   ]
  },
  {
   "cell_type": "code",
   "execution_count": 28,
   "metadata": {},
   "outputs": [
    {
     "name": "stdout",
     "output_type": "stream",
     "text": [
      "(21, 64)\n",
      "(21, 2)\n"
     ]
    }
   ],
   "source": [
    "print(embeddings.shape)\n",
    "tsne = TSNE(n_components=2)\n",
    "S_tsne = tsne.fit_transform(embeddings)\n",
    "\n",
    "print(S_tsne.shape)"
   ]
  },
  {
   "cell_type": "code",
   "execution_count": 29,
   "metadata": {},
   "outputs": [
    {
     "data": {
      "text/plain": [
       "array([ -35.50378036,  155.37445068,  -92.49354553,   30.04406929,\n",
       "         23.47151947,  -68.53360748,   80.60135651, -137.35650635,\n",
       "        -92.0561676 ,   83.73049164,  150.73893738,  -30.70377922,\n",
       "         42.48396301,  107.8965683 , -160.53491211, -110.75747681,\n",
       "         87.64492035], dtype=float32)"
      ]
     },
     "execution_count": 29,
     "metadata": {},
     "output_type": "execute_result"
    }
   ],
   "source": [
    "S_tsne[f_idx,0]"
   ]
  },
  {
   "cell_type": "code",
   "execution_count": 30,
   "metadata": {},
   "outputs": [
    {
     "data": {
      "image/png": "[encoded data removed]",
      "text/plain": [
       "<matplotlib.figure.Figure at 0x7f97e1a3bd50>"
      ]
     },
     "metadata": {},
     "output_type": "display_data"
    }
   ],
   "source": [
    "m_plot = plt.scatter(S_tsne[m_idx, 0], S_tsne[m_idx, 1], c='b', label='m')\n",
    "f_plot = plt.scatter(S_tsne[f_idx, 0], S_tsne[f_idx, 1], c='r', label='f')\n",
    "leg = plt.legend(handles=[m_plot, f_plot])"
   ]
  },
  {
   "cell_type": "code",
   "execution_count": 31,
   "metadata": {},
   "outputs": [
    {
     "data": {
      "image/png": "[encoded data removed]",
      "text/plain": [
       "<matplotlib.figure.Figure at 0x7f97de9f3b10>"
      ]
     },
     "metadata": {},
     "output_type": "display_data"
    }
   ],
   "source": [
    "m_plot = plt.scatter(S_tsne[idx_east_coast, 0], S_tsne[idx_east_coast, 1], c='b', label='ec')\n",
    "f_plot = plt.scatter(S_tsne[idx_other, 0], S_tsne[idx_other, 1], c='r', label='other')\n",
    "leg = plt.legend(handles=[m_plot, f_plot])"
   ]
  },
  {
   "cell_type": "code",
   "execution_count": 32,
   "metadata": {},
   "outputs": [],
   "source": [
    "from sklearn.decomposition import PCA"
   ]
  },
  {
   "cell_type": "code",
   "execution_count": 33,
   "metadata": {},
   "outputs": [],
   "source": [
    "pca = PCA(n_components=2)\n",
    "x2d = pca.fit_transform(embeddings)"
   ]
  },
  {
   "cell_type": "code",
   "execution_count": 34,
   "metadata": {},
   "outputs": [
    {
     "data": {
      "image/png": "[encoded data removed]",
      "text/plain": [
       "<matplotlib.figure.Figure at 0x7f97dea76ed0>"
      ]
     },
     "metadata": {},
     "output_type": "display_data"
    }
   ],
   "source": [
    "m_plot = plt.scatter(x2d[m_idx, 0], x2d[m_idx, 1], c='b', label='m')\n",
    "f_plot = plt.scatter(x2d[f_idx, 0], x2d[f_idx, 1], c='r', label='f')\n",
    "leg = plt.legend(handles=[m_plot, f_plot])"
   ]
  },
  {
   "cell_type": "code",
   "execution_count": 35,
   "metadata": {},
   "outputs": [
    {
     "data": {
      "image/png": "[encoded data removed]",
      "text/plain": [
       "<matplotlib.figure.Figure at 0x7f97dea76ad0>"
      ]
     },
     "metadata": {},
     "output_type": "display_data"
    }
   ],
   "source": [
    "m_plot = plt.scatter(x2d[idx_east_coast, 0], x2d[idx_east_coast, 1], c='b', label='m')\n",
    "f_plot = plt.scatter(x2d[idx_other, 0], x2d[idx_other, 1], c='r', label='f')\n",
    "leg = plt.legend(handles=[m_plot, f_plot])"
   ]
  },
  {
   "cell_type": "code",
   "execution_count": 36,
   "metadata": {},
   "outputs": [
    {
     "data": {
      "text/plain": [
       "[<matplotlib.lines.Line2D at 0x7f985358b690>]"
      ]
     },
     "execution_count": 36,
     "metadata": {},
     "output_type": "execute_result"
    },
    {
     "data": {
      "image/png": "[encoded data removed]",
      "text/plain": [
       "<matplotlib.figure.Figure at 0x7f985371e190>"
      ]
     },
     "metadata": {},
     "output_type": "display_data"
    }
   ],
   "source": [
    "plt.plot(pca.components_[0, :])"
   ]
  },
  {
   "cell_type": "code",
   "execution_count": 37,
   "metadata": {},
   "outputs": [
    {
     "data": {
      "text/plain": [
       "array([ 0.11748701,  0.09909551], dtype=float32)"
      ]
     },
     "execution_count": 37,
     "metadata": {},
     "output_type": "execute_result"
    }
   ],
   "source": [
    "pca.explained_variance_ratio_"
   ]
  },
  {
   "cell_type": "code",
   "execution_count": null,
   "metadata": {},
   "outputs": [],
   "source": []
  }
 ],
 "metadata": {
  "kernelspec": {
   "display_name": "Python 2",
   "language": "python",
   "name": "python2"
  },
  "language_info": {
   "codemirror_mode": {
    "name": "ipython",
    "version": 2
   },
   "file_extension": ".py",
   "mimetype": "text/x-python",
   "name": "python",
   "nbconvert_exporter": "python",
   "pygments_lexer": "ipython2",
   "version": "2.7.12"
  }
 },
 "nbformat": 4,
 "nbformat_minor": 2
}
