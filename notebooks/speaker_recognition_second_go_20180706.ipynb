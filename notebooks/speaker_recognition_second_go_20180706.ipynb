{
 "cells": [
  {
   "cell_type": "markdown",
   "metadata": {},
   "source": [
    "### Notes"
   ]
  },
  {
   "cell_type": "markdown",
   "metadata": {},
   "source": [
    "* Script for developing the speaker recognition model\n",
    "* I built it up as I went along, training in the notebook\n",
    "* Then switched the code to a function and ran it from the notebook\n",
    "\n",
    "29-Jun-18: Last used it today to prepare for Mark Herbster meeting\n",
    "\n",
    "06-Jul-18: Took a copy so I can work on improving the network. I want to get it 'finished' so I can train it and incorporate into the evaluation metrics in the run over the weekend. Then, I'll be able to use it for the next stage of the project.\n",
    "\n",
    "Run in '/home/ubuntu/msc-project-speaker-recognition/msc-project'\n",
    "on aws-big"
   ]
  },
  {
   "cell_type": "markdown",
   "metadata": {},
   "source": [
    "### TODO\n",
    "* Check that everything still runs...\n",
    "* Tweak the issue with the randomizing of samples\n",
    "* Look at Jiameng's code for the next phase\n",
    "* Finalize the architecture...\n",
    "* Check into GitHub etc., move to master branch\n",
    "* Build final trained model within master\n",
    "* Incorporate into the evaluation metrics"
   ]
  },
  {
   "cell_type": "code",
   "execution_count": 1,
   "metadata": {},
   "outputs": [
    {
     "data": {
      "text/plain": [
       "'/home/ubuntu/msc-project-speaker-recognition/msc-project'"
      ]
     },
     "execution_count": 1,
     "metadata": {},
     "output_type": "execute_result"
    }
   ],
   "source": [
    "import os\n",
    "import sys\n",
    "\n",
    "os.chdir('/home/ubuntu/msc-project-speaker-recognition/msc-project')\n",
    "os.getcwd()"
   ]
  },
  {
   "cell_type": "code",
   "execution_count": 2,
   "metadata": {},
   "outputs": [
    {
     "name": "stderr",
     "output_type": "stream",
     "text": [
      "/usr/local/lib/python2.7/dist-packages/pydub/utils.py:165: RuntimeWarning: Couldn't find ffmpeg or avconv - defaulting to ffmpeg, but may not work\n",
      "  warn(\"Couldn't find ffmpeg or avconv - defaulting to ffmpeg, but may not work\", RuntimeWarning)\n"
     ]
    }
   ],
   "source": [
    "import argparse\n",
    "import visdom\n",
    "import numpy as np\n",
    "from tqdm import tqdm\n",
    "\n",
    "import torch\n",
    "import torch.optim as optim\n",
    "import torch.nn as nn\n",
    "from torch.autograd import Variable\n",
    "import torch.nn.functional as F\n",
    "\n",
    "from data import NpzFolder, NpzLoader, TBPTTIter\n",
    "from model import Loop, MaskedMSE\n",
    "from utils import create_output_dir, wrap, check_grad\n",
    "\n",
    "import matplotlib.pyplot as plt\n",
    "\n",
    "import pandas as pd\n",
    "\n",
    "import notebook_utils as nu\n",
    "\n",
    "import speaker_recognition as sr\n",
    "\n",
    "%load_ext autoreload\n",
    "%autoreload 2"
   ]
  },
  {
   "cell_type": "markdown",
   "metadata": {},
   "source": [
    "### How long are the sequences in reality?"
   ]
  },
  {
   "cell_type": "code",
   "execution_count": 3,
   "metadata": {},
   "outputs": [],
   "source": [
    "train_dataset = NpzFolder('/home/ubuntu/loop/data/vctk' + '/numpy_features', False)\n",
    "train_loader = NpzLoader(train_dataset,\n",
    "                         max_seq_len=1000,\n",
    "                         batch_size=1e5,\n",
    "                         num_workers=4,\n",
    "                         pin_memory=True,\n",
    "                         shuffle=True)"
   ]
  },
  {
   "cell_type": "code",
   "execution_count": 50,
   "metadata": {},
   "outputs": [
    {
     "name": "stderr",
     "output_type": "stream",
     "text": [
      "\n",
      "\n",
      "Valid epoch 1:   0%|          | 0/1 [00:00<?, ?it/s]\u001b[A\u001b[A\n",
      "\u001b[A"
     ]
    }
   ],
   "source": [
    "epoch = 1\n",
    "valid_enum = tqdm(train_loader, desc='Valid epoch %d' % epoch)\n",
    "for txt, feat, spkr in valid_enum:\n",
    "    #input = wrap(txt, volatile=True)\n",
    "    #target = wrap(feat, volatile=True)\n",
    "    #spkr = wrap(spkr, volatile=True)\n",
    "    \n",
    "    break"
   ]
  },
  {
   "cell_type": "code",
   "execution_count": 66,
   "metadata": {},
   "outputs": [
    {
     "data": {
      "image/png": "[encoded data removed]",
      "text/plain": [
       "<matplotlib.figure.Figure at 0x7fa767c4e910>"
      ]
     },
     "metadata": {},
     "output_type": "display_data"
    }
   ],
   "source": [
    "plt.hist(feat[1].numpy(), bins=100)\n",
    "plt.grid(True)\n",
    "plt.show()"
   ]
  },
  {
   "cell_type": "code",
   "execution_count": 77,
   "metadata": {},
   "outputs": [
    {
     "data": {
      "text/plain": [
       "300.0"
      ]
     },
     "execution_count": 77,
     "metadata": {},
     "output_type": "execute_result"
    }
   ],
   "source": [
    "np.percentile(feat[1].numpy(), 37)"
   ]
  },
  {
   "cell_type": "code",
   "execution_count": 78,
   "metadata": {},
   "outputs": [],
   "source": [
    "sample_lens = feat[1].numpy()"
   ]
  },
  {
   "cell_type": "code",
   "execution_count": 194,
   "metadata": {},
   "outputs": [],
   "source": [
    "start_idx = np.zeros_like(sample_lens)"
   ]
  },
  {
   "cell_type": "code",
   "execution_count": 190,
   "metadata": {},
   "outputs": [],
   "source": [
    "start_idx = [np.random.randint(i+1) for i in np.maximum(0, sample_lens - 300)]"
   ]
  },
  {
   "cell_type": "code",
   "execution_count": 199,
   "metadata": {},
   "outputs": [
    {
     "ename": "KeyboardInterrupt",
     "evalue": "",
     "output_type": "error",
     "traceback": [
      "\u001b[0;31m---------------------------------------------------------------------------\u001b[0m",
      "\u001b[0;31mKeyboardInterrupt\u001b[0m                         Traceback (most recent call last)",
      "\u001b[0;32m<ipython-input-199-61685e2f47f2>\u001b[0m in \u001b[0;36m<module>\u001b[0;34m()\u001b[0m\n\u001b[0;32m----> 1\u001b[0;31m \u001b[0mfeat\u001b[0m\u001b[0;34m[\u001b[0m\u001b[0;36m0\u001b[0m\u001b[0;34m]\u001b[0m\u001b[0;34m[\u001b[0m\u001b[0mstart_idx\u001b[0m\u001b[0;34m,\u001b[0m \u001b[0;34m:\u001b[0m\u001b[0;34m,\u001b[0m \u001b[0;34m:\u001b[0m\u001b[0;34m]\u001b[0m\u001b[0;34m.\u001b[0m\u001b[0msize\u001b[0m\u001b[0;34m(\u001b[0m\u001b[0;34m)\u001b[0m\u001b[0;34m\u001b[0m\u001b[0m\n\u001b[0m",
      "\u001b[0;31mKeyboardInterrupt\u001b[0m: "
     ]
    }
   ],
   "source": [
    "feat[0][start_idx, :, :].size()"
   ]
  },
  {
   "cell_type": "code",
   "execution_count": 204,
   "metadata": {},
   "outputs": [
    {
     "data": {
      "text/plain": [
       "8015"
      ]
     },
     "execution_count": 204,
     "metadata": {},
     "output_type": "execute_result"
    }
   ],
   "source": [
    "len(train_dataset)"
   ]
  },
  {
   "cell_type": "code",
   "execution_count": 205,
   "metadata": {},
   "outputs": [
    {
     "data": {
      "text/plain": [
       "52"
      ]
     },
     "execution_count": 205,
     "metadata": {},
     "output_type": "execute_result"
    }
   ],
   "source": [
    "feat[1].min()"
   ]
  },
  {
   "cell_type": "code",
   "execution_count": 206,
   "metadata": {},
   "outputs": [
    {
     "data": {
      "text/plain": [
       "torch.Size([997, 7839, 63])"
      ]
     },
     "execution_count": 206,
     "metadata": {},
     "output_type": "execute_result"
    }
   ],
   "source": [
    "feat[0].size()"
   ]
  },
  {
   "cell_type": "markdown",
   "metadata": {},
   "source": [
    "### Train on 22 US speaker dataset\n",
    "Smaller and quicker for evaluation purposes"
   ]
  },
  {
   "cell_type": "code",
   "execution_count": null,
   "metadata": {},
   "outputs": [],
   "source": []
  },
  {
   "cell_type": "code",
   "execution_count": 4,
   "metadata": {},
   "outputs": [
    {
     "name": "stderr",
     "output_type": "stream",
     "text": [
      "Train (loss 0.073) epoch 0: 100%|██████████| 126/126 [00:45<00:00,  2.75it/s]\n",
      "Evaluation (loss 0.20) epoch 1: 100%|██████████| 126/126 [00:11<00:00, 10.93it/s]\n",
      "Valid epoch 1:   0%|          | 0/11 [00:00<?, ?it/s]"
     ]
    },
    {
     "name": "stdout",
     "output_type": "stream",
     "text": [
      "Training accuracy: 0.964\n"
     ]
    },
    {
     "name": "stderr",
     "output_type": "stream",
     "text": [
      "Evaluation (loss 0.05) epoch 1: 100%|██████████| 11/11 [00:01<00:00,  8.78it/s]\n",
      "Train epoch 1:   0%|          | 0/126 [00:00<?, ?it/s]"
     ]
    },
    {
     "name": "stdout",
     "output_type": "stream",
     "text": [
      "Validation accuracy: 0.962\n"
     ]
    },
    {
     "name": "stderr",
     "output_type": "stream",
     "text": [
      "Train (loss 0.227) epoch 1: 100%|██████████| 126/126 [00:45<00:00,  2.75it/s]\n",
      "Evaluation (loss 0.00) epoch 1: 100%|██████████| 126/126 [00:11<00:00, 10.94it/s]\n",
      "Valid epoch 1:   0%|          | 0/11 [00:00<?, ?it/s]"
     ]
    },
    {
     "name": "stdout",
     "output_type": "stream",
     "text": [
      "Training accuracy: 0.988\n"
     ]
    },
    {
     "name": "stderr",
     "output_type": "stream",
     "text": [
      "Evaluation (loss 0.02) epoch 1: 100%|██████████| 11/11 [00:01<00:00,  8.50it/s]\n",
      "Train epoch 2:   0%|          | 0/126 [00:00<?, ?it/s]"
     ]
    },
    {
     "name": "stdout",
     "output_type": "stream",
     "text": [
      "Validation accuracy: 0.983\n"
     ]
    },
    {
     "name": "stderr",
     "output_type": "stream",
     "text": [
      "Train (loss 0.017) epoch 2:  25%|██▍       | 31/126 [00:11<00:35,  2.69it/s]Process Process-154:\n",
      "Process Process-153:\n",
      "Process Process-155:\n",
      "Process Process-156:\n",
      "Traceback (most recent call last):\n",
      "Traceback (most recent call last):\n",
      "Traceback (most recent call last):\n",
      "  File \"/usr/lib/python2.7/multiprocessing/process.py\", line 258, in _bootstrap\n",
      "Traceback (most recent call last):\n",
      "  File \"/usr/lib/python2.7/multiprocessing/process.py\", line 258, in _bootstrap\n",
      "  File \"/usr/lib/python2.7/multiprocessing/process.py\", line 258, in _bootstrap\n",
      "  File \"/usr/lib/python2.7/multiprocessing/process.py\", line 258, in _bootstrap\n",
      "    self.run()\n",
      "    self.run()\n",
      "    self.run()\n",
      "    self.run()\n",
      "  File \"/usr/lib/python2.7/multiprocessing/process.py\", line 114, in run\n",
      "  File \"/usr/lib/python2.7/multiprocessing/process.py\", line 114, in run\n",
      "  File \"/usr/lib/python2.7/multiprocessing/process.py\", line 114, in run\n",
      "  File \"/usr/lib/python2.7/multiprocessing/process.py\", line 114, in run\n",
      "    self._target(*self._args, **self._kwargs)\n",
      "    self._target(*self._args, **self._kwargs)\n",
      "    self._target(*self._args, **self._kwargs)\n",
      "  File \"/usr/local/lib/python2.7/dist-packages/torch/utils/data/dataloader.py\", line 50, in _worker_loop\n",
      "    self._target(*self._args, **self._kwargs)\n",
      "  File \"/usr/local/lib/python2.7/dist-packages/torch/utils/data/dataloader.py\", line 55, in _worker_loop\n",
      "  File \"/usr/local/lib/python2.7/dist-packages/torch/utils/data/dataloader.py\", line 50, in _worker_loop\n",
      "    r = index_queue.get()\n",
      "  File \"/usr/lib/python2.7/multiprocessing/queues.py\", line 376, in get\n",
      "    samples = collate_fn([dataset[i] for i in batch_indices])\n",
      "    r = index_queue.get()\n",
      "  File \"data.py\", line 101, in __getitem__\n",
      "  File \"/usr/local/lib/python2.7/dist-packages/torch/utils/data/dataloader.py\", line 50, in _worker_loop\n",
      "    racquire()\n",
      "  File \"/usr/lib/python2.7/multiprocessing/queues.py\", line 376, in get\n",
      "    txt, feat, spkr = self.loader(path)\n",
      "    r = index_queue.get()\n",
      "    racquire()\n",
      "  File \"/usr/lib/python2.7/multiprocessing/queues.py\", line 378, in get\n",
      "KeyboardInterrupt\n",
      "  File \"data.py\", line 125, in loader\n",
      "    return recv()\n",
      "    audio = feat['audio_features']\n",
      "  File \"/usr/local/lib/python2.7/dist-packages/torch/multiprocessing/queue.py\", line 21, in recv\n",
      "  File \"/usr/local/lib/python2.7/dist-packages/numpy/lib/npyio.py\", line 233, in __getitem__\n",
      "    buf = self.recv_bytes()\n",
      "KeyboardInterrupt\n",
      "    pickle_kwargs=self.pickle_kwargs)\n",
      "  File \"/usr/local/lib/python2.7/dist-packages/numpy/lib/format.py\", line 673, in read_array\n",
      "    data = _read_bytes(fp, read_size, \"array data\")\n",
      "  File \"/usr/local/lib/python2.7/dist-packages/numpy/lib/format.py\", line 812, in _read_bytes\n",
      "    r = fp.read(size - len(data))\n",
      "  File \"/usr/lib/python2.7/zipfile.py\", line 632, in read\n",
      "    data = self.read1(n - len(buf))\n",
      "  File \"/usr/lib/python2.7/zipfile.py\", line 692, in read1\n",
      "    self._update_crc(data, eof=eof)\n",
      "  File \"/usr/lib/python2.7/zipfile.py\", line 644, in _update_crc\n",
      "    self._running_crc = crc32(newdata, self._running_crc) & 0xffffffff\n",
      "KeyboardInterrupt\n",
      "KeyboardInterrupt\n"
     ]
    },
    {
     "ename": "KeyboardInterrupt",
     "evalue": "",
     "output_type": "error",
     "traceback": [
      "\u001b[0;31m---------------------------------------------------------------------------\u001b[0m",
      "\u001b[0;31mKeyboardInterrupt\u001b[0m                         Traceback (most recent call last)",
      "\u001b[0;32m<ipython-input-4-b56e441243e0>\u001b[0m in \u001b[0;36m<module>\u001b[0;34m()\u001b[0m\n\u001b[1;32m      4\u001b[0m                                                                 \u001b[0mbatch_size\u001b[0m \u001b[0;34m=\u001b[0m \u001b[0;36m64\u001b[0m\u001b[0;34m,\u001b[0m\u001b[0;34m\u001b[0m\u001b[0m\n\u001b[1;32m      5\u001b[0m                                                                 \u001b[0mnum_epochs\u001b[0m \u001b[0;34m=\u001b[0m \u001b[0;36m10\u001b[0m\u001b[0;34m,\u001b[0m\u001b[0;34m\u001b[0m\u001b[0m\n\u001b[0;32m----> 6\u001b[0;31m                                                                 \u001b[0mexp_name\u001b[0m \u001b[0;34m=\u001b[0m \u001b[0;34m'20180709_us_22'\u001b[0m\u001b[0;34m\u001b[0m\u001b[0m\n\u001b[0m\u001b[1;32m      7\u001b[0m                                                                   )\n",
      "\u001b[0;32m/home/ubuntu/msc-project-speaker-recognition/msc-project/speaker_recognition.pyc\u001b[0m in \u001b[0;36mtrain_speaker_recognition\u001b[0;34m(gpu, seed, data_path, nspk, max_seq_len, seq_len, batch_size, num_epochs, exp_name)\u001b[0m\n\u001b[1;32m    518\u001b[0m                                                     \u001b[0mbatch_size\u001b[0m\u001b[0;34m=\u001b[0m\u001b[0mbatch_size\u001b[0m\u001b[0;34m,\u001b[0m\u001b[0;34m\u001b[0m\u001b[0m\n\u001b[1;32m    519\u001b[0m                                                     \u001b[0mexp_name\u001b[0m\u001b[0;34m=\u001b[0m\u001b[0mexp_name\u001b[0m\u001b[0;34m,\u001b[0m\u001b[0;34m\u001b[0m\u001b[0m\n\u001b[0;32m--> 520\u001b[0;31m                                                     gpu=gpu)\n\u001b[0m\u001b[1;32m    521\u001b[0m \u001b[0;34m\u001b[0m\u001b[0m\n\u001b[1;32m    522\u001b[0m     \u001b[0mexp_name\u001b[0m \u001b[0;34m=\u001b[0m \u001b[0mos\u001b[0m\u001b[0;34m.\u001b[0m\u001b[0mpath\u001b[0m\u001b[0;34m.\u001b[0m\u001b[0mjoin\u001b[0m\u001b[0;34m(\u001b[0m\u001b[0;34m'checkpoints'\u001b[0m\u001b[0;34m,\u001b[0m \u001b[0mexp_name\u001b[0m\u001b[0;34m)\u001b[0m\u001b[0;34m\u001b[0m\u001b[0m\n",
      "\u001b[0;32m/home/ubuntu/msc-project-speaker-recognition/msc-project/speaker_recognition.pyc\u001b[0m in \u001b[0;36mtrain\u001b[0;34m(data_path, seq_len, nspk, num_epochs, batch_size, max_seq_len, exp_name, gpu)\u001b[0m\n\u001b[1;32m    441\u001b[0m \u001b[0;34m\u001b[0m\u001b[0m\n\u001b[1;32m    442\u001b[0m                 \u001b[0;31m# Backward\u001b[0m\u001b[0;34m\u001b[0m\u001b[0;34m\u001b[0m\u001b[0m\n\u001b[0;32m--> 443\u001b[0;31m                 \u001b[0mloss\u001b[0m\u001b[0;34m.\u001b[0m\u001b[0mbackward\u001b[0m\u001b[0;34m(\u001b[0m\u001b[0;34m)\u001b[0m\u001b[0;34m\u001b[0m\u001b[0m\n\u001b[0m\u001b[1;32m    444\u001b[0m                 \u001b[0;31m#if check_grad(model.parameters(), args.clip_grad, args.ignore_grad):\u001b[0m\u001b[0;34m\u001b[0m\u001b[0;34m\u001b[0m\u001b[0m\n\u001b[1;32m    445\u001b[0m                 \u001b[0;31m#    logging.info('Not a finite gradient or too big, ignoring.')\u001b[0m\u001b[0;34m\u001b[0m\u001b[0;34m\u001b[0m\u001b[0m\n",
      "\u001b[0;32m/usr/local/lib/python2.7/dist-packages/torch/autograd/variable.pyc\u001b[0m in \u001b[0;36mbackward\u001b[0;34m(self, gradient, retain_graph, create_graph, retain_variables)\u001b[0m\n\u001b[1;32m    165\u001b[0m                 \u001b[0mVariable\u001b[0m\u001b[0;34m.\u001b[0m\u001b[0;34m\u001b[0m\u001b[0m\n\u001b[1;32m    166\u001b[0m         \"\"\"\n\u001b[0;32m--> 167\u001b[0;31m         \u001b[0mtorch\u001b[0m\u001b[0;34m.\u001b[0m\u001b[0mautograd\u001b[0m\u001b[0;34m.\u001b[0m\u001b[0mbackward\u001b[0m\u001b[0;34m(\u001b[0m\u001b[0mself\u001b[0m\u001b[0;34m,\u001b[0m \u001b[0mgradient\u001b[0m\u001b[0;34m,\u001b[0m \u001b[0mretain_graph\u001b[0m\u001b[0;34m,\u001b[0m \u001b[0mcreate_graph\u001b[0m\u001b[0;34m,\u001b[0m \u001b[0mretain_variables\u001b[0m\u001b[0;34m)\u001b[0m\u001b[0;34m\u001b[0m\u001b[0m\n\u001b[0m\u001b[1;32m    168\u001b[0m \u001b[0;34m\u001b[0m\u001b[0m\n\u001b[1;32m    169\u001b[0m     \u001b[0;32mdef\u001b[0m \u001b[0mregister_hook\u001b[0m\u001b[0;34m(\u001b[0m\u001b[0mself\u001b[0m\u001b[0;34m,\u001b[0m \u001b[0mhook\u001b[0m\u001b[0;34m)\u001b[0m\u001b[0;34m:\u001b[0m\u001b[0;34m\u001b[0m\u001b[0m\n",
      "\u001b[0;32m/usr/local/lib/python2.7/dist-packages/torch/autograd/__init__.pyc\u001b[0m in \u001b[0;36mbackward\u001b[0;34m(variables, grad_variables, retain_graph, create_graph, retain_variables)\u001b[0m\n\u001b[1;32m     97\u001b[0m \u001b[0;34m\u001b[0m\u001b[0m\n\u001b[1;32m     98\u001b[0m     Variable._execution_engine.run_backward(\n\u001b[0;32m---> 99\u001b[0;31m         variables, grad_variables, retain_graph)\n\u001b[0m\u001b[1;32m    100\u001b[0m \u001b[0;34m\u001b[0m\u001b[0m\n\u001b[1;32m    101\u001b[0m \u001b[0;34m\u001b[0m\u001b[0m\n",
      "\u001b[0;31mKeyboardInterrupt\u001b[0m: "
     ]
    }
   ],
   "source": [
    "net, criterion, train_losses, eval_dict = sr.train_speaker_recognition(data_path = '/home/ubuntu/loop/data/vctk',\n",
    "                                                                nspk = 22,\n",
    "                                                                seq_len = 300,\n",
    "                                                                batch_size = 64,\n",
    "                                                                num_epochs = 10,\n",
    "                                                                exp_name = '20180709_us_22'\n",
    "                                                                  )"
   ]
  },
  {
   "cell_type": "code",
   "execution_count": 4,
   "metadata": {},
   "outputs": [
    {
     "name": "stdout",
     "output_type": "stream",
     "text": [
      "0.991580558745\n",
      "0.982532751092\n"
     ]
    }
   ],
   "source": [
    "print eval_dict['train_accuracy']\n",
    "print eval_dict['valid_accuracy']"
   ]
  },
  {
   "cell_type": "markdown",
   "metadata": {},
   "source": [
    "### Train on full VCTK-all dataset\n",
    "This is the one that matters"
   ]
  },
  {
   "cell_type": "code",
   "execution_count": 3,
   "metadata": {},
   "outputs": [
    {
     "name": "stderr",
     "output_type": "stream",
     "text": [
      "/usr/local/lib/python2.7/dist-packages/torch/backends/cudnn/__init__.py:48: UserWarning: PyTorch was compiled without cuDNN support. To use cuDNN, rebuild PyTorch making sure the library is visible to the build system.\n",
      "  \"PyTorch was compiled without cuDNN support. To use cuDNN, rebuild \"\n",
      "Train (loss 0.905) epoch 0: 100%|██████████| 615/615 [02:55<00:00,  3.50it/s]\n",
      "Evaluation (loss 0.91) epoch 1: 100%|██████████| 615/615 [00:35<00:00, 17.16it/s]\n",
      "Valid epoch 1:   0%|          | 0/68 [00:00<?, ?it/s]"
     ]
    },
    {
     "name": "stdout",
     "output_type": "stream",
     "text": [
      "Training accuracy: 0.830\n"
     ]
    },
    {
     "name": "stderr",
     "output_type": "stream",
     "text": [
      "Evaluation (loss 0.60) epoch 1: 100%|██████████| 68/68 [00:04<00:00, 16.40it/s]\n",
      "Train epoch 1:   0%|          | 0/615 [00:00<?, ?it/s]"
     ]
    },
    {
     "name": "stdout",
     "output_type": "stream",
     "text": [
      "Validation accuracy: 0.812\n"
     ]
    },
    {
     "name": "stderr",
     "output_type": "stream",
     "text": [
      "Train (loss 0.059) epoch 1: 100%|██████████| 615/615 [02:55<00:00,  3.50it/s]\n",
      "Evaluation (loss 0.03) epoch 1: 100%|██████████| 615/615 [00:35<00:00, 17.20it/s]\n",
      "Valid epoch 1:   0%|          | 0/68 [00:00<?, ?it/s]"
     ]
    },
    {
     "name": "stdout",
     "output_type": "stream",
     "text": [
      "Training accuracy: 0.924\n"
     ]
    },
    {
     "name": "stderr",
     "output_type": "stream",
     "text": [
      "Evaluation (loss 0.19) epoch 1: 100%|██████████| 68/68 [00:04<00:00, 16.38it/s]\n",
      "Train epoch 2:   0%|          | 0/615 [00:00<?, ?it/s]"
     ]
    },
    {
     "name": "stdout",
     "output_type": "stream",
     "text": [
      "Validation accuracy: 0.909\n"
     ]
    },
    {
     "name": "stderr",
     "output_type": "stream",
     "text": [
      "Train (loss 0.059) epoch 2: 100%|██████████| 615/615 [02:55<00:00,  3.51it/s]\n",
      "Evaluation (loss 0.22) epoch 1: 100%|██████████| 615/615 [00:35<00:00, 17.20it/s]\n",
      "Valid epoch 1:   0%|          | 0/68 [00:00<?, ?it/s]"
     ]
    },
    {
     "name": "stdout",
     "output_type": "stream",
     "text": [
      "Training accuracy: 0.959\n"
     ]
    },
    {
     "name": "stderr",
     "output_type": "stream",
     "text": [
      "Evaluation (loss 0.11) epoch 1: 100%|██████████| 68/68 [00:04<00:00, 16.15it/s]\n",
      "Train epoch 3:   0%|          | 0/615 [00:00<?, ?it/s]"
     ]
    },
    {
     "name": "stdout",
     "output_type": "stream",
     "text": [
      "Validation accuracy: 0.945\n"
     ]
    },
    {
     "name": "stderr",
     "output_type": "stream",
     "text": [
      "Train (loss 0.069) epoch 3: 100%|██████████| 615/615 [02:55<00:00,  3.50it/s]\n",
      "Evaluation (loss 0.16) epoch 1: 100%|██████████| 615/615 [00:35<00:00, 17.23it/s]\n",
      "Valid epoch 1:   0%|          | 0/68 [00:00<?, ?it/s]"
     ]
    },
    {
     "name": "stdout",
     "output_type": "stream",
     "text": [
      "Training accuracy: 0.956\n"
     ]
    },
    {
     "name": "stderr",
     "output_type": "stream",
     "text": [
      "Evaluation (loss 0.02) epoch 1: 100%|██████████| 68/68 [00:04<00:00, 16.34it/s]\n",
      "Train epoch 4:   0%|          | 0/615 [00:00<?, ?it/s]"
     ]
    },
    {
     "name": "stdout",
     "output_type": "stream",
     "text": [
      "Validation accuracy: 0.939\n"
     ]
    },
    {
     "name": "stderr",
     "output_type": "stream",
     "text": [
      "Train (loss 0.009) epoch 4: 100%|██████████| 615/615 [02:55<00:00,  3.50it/s]\n",
      "Evaluation (loss 0.16) epoch 1: 100%|██████████| 615/615 [00:35<00:00, 17.20it/s]\n",
      "Valid epoch 1:   0%|          | 0/68 [00:00<?, ?it/s]"
     ]
    },
    {
     "name": "stdout",
     "output_type": "stream",
     "text": [
      "Training accuracy: 0.969\n"
     ]
    },
    {
     "name": "stderr",
     "output_type": "stream",
     "text": [
      "Evaluation (loss 0.08) epoch 1: 100%|██████████| 68/68 [00:04<00:00, 16.31it/s]\n",
      "Train epoch 5:   0%|          | 0/615 [00:00<?, ?it/s]"
     ]
    },
    {
     "name": "stdout",
     "output_type": "stream",
     "text": [
      "Validation accuracy: 0.954\n"
     ]
    },
    {
     "name": "stderr",
     "output_type": "stream",
     "text": [
      "Train (loss 0.177) epoch 5: 100%|██████████| 615/615 [02:55<00:00,  3.50it/s]\n",
      "Evaluation (loss 0.01) epoch 1: 100%|██████████| 615/615 [00:35<00:00, 17.20it/s]\n",
      "Valid epoch 1:   0%|          | 0/68 [00:00<?, ?it/s]"
     ]
    },
    {
     "name": "stdout",
     "output_type": "stream",
     "text": [
      "Training accuracy: 0.976\n"
     ]
    },
    {
     "name": "stderr",
     "output_type": "stream",
     "text": [
      "Evaluation (loss 0.05) epoch 1: 100%|██████████| 68/68 [00:04<00:00, 16.18it/s]\n",
      "Train epoch 6:   0%|          | 0/615 [00:00<?, ?it/s]"
     ]
    },
    {
     "name": "stdout",
     "output_type": "stream",
     "text": [
      "Validation accuracy: 0.958\n"
     ]
    },
    {
     "name": "stderr",
     "output_type": "stream",
     "text": [
      "Train (loss 0.000) epoch 6: 100%|██████████| 615/615 [02:55<00:00,  3.50it/s]\n",
      "Evaluation (loss 0.03) epoch 1: 100%|██████████| 615/615 [00:35<00:00, 17.17it/s]\n",
      "Valid epoch 1:   0%|          | 0/68 [00:00<?, ?it/s]"
     ]
    },
    {
     "name": "stdout",
     "output_type": "stream",
     "text": [
      "Training accuracy: 0.975\n"
     ]
    },
    {
     "name": "stderr",
     "output_type": "stream",
     "text": [
      "Evaluation (loss 0.02) epoch 1: 100%|██████████| 68/68 [00:04<00:00, 16.30it/s]\n",
      "Train epoch 7:   0%|          | 0/615 [00:00<?, ?it/s]"
     ]
    },
    {
     "name": "stdout",
     "output_type": "stream",
     "text": [
      "Validation accuracy: 0.957\n"
     ]
    },
    {
     "name": "stderr",
     "output_type": "stream",
     "text": [
      "Train (loss 0.023) epoch 7: 100%|██████████| 615/615 [02:55<00:00,  3.51it/s]\n",
      "Evaluation (loss 0.16) epoch 1: 100%|██████████| 615/615 [00:35<00:00, 17.19it/s]\n",
      "Valid epoch 1:   0%|          | 0/68 [00:00<?, ?it/s]"
     ]
    },
    {
     "name": "stdout",
     "output_type": "stream",
     "text": [
      "Training accuracy: 0.984\n"
     ]
    },
    {
     "name": "stderr",
     "output_type": "stream",
     "text": [
      "Evaluation (loss 0.00) epoch 1: 100%|██████████| 68/68 [00:04<00:00, 16.23it/s]\n",
      "Train epoch 8:   0%|          | 0/615 [00:00<?, ?it/s]"
     ]
    },
    {
     "name": "stdout",
     "output_type": "stream",
     "text": [
      "Validation accuracy: 0.970\n"
     ]
    },
    {
     "name": "stderr",
     "output_type": "stream",
     "text": [
      "Train (loss 0.121) epoch 8: 100%|██████████| 615/615 [02:55<00:00,  3.50it/s]\n",
      "Evaluation (loss 0.00) epoch 1: 100%|██████████| 615/615 [00:35<00:00, 17.15it/s]\n",
      "Valid epoch 1:   0%|          | 0/68 [00:00<?, ?it/s]"
     ]
    },
    {
     "name": "stdout",
     "output_type": "stream",
     "text": [
      "Training accuracy: 0.986\n"
     ]
    },
    {
     "name": "stderr",
     "output_type": "stream",
     "text": [
      "Evaluation (loss 0.01) epoch 1: 100%|██████████| 68/68 [00:04<00:00, 16.17it/s]\n",
      "Train epoch 9:   0%|          | 0/615 [00:00<?, ?it/s]"
     ]
    },
    {
     "name": "stdout",
     "output_type": "stream",
     "text": [
      "Validation accuracy: 0.971\n"
     ]
    },
    {
     "name": "stderr",
     "output_type": "stream",
     "text": [
      "Train (loss 0.010) epoch 9: 100%|██████████| 615/615 [02:55<00:00,  3.50it/s]\n",
      "Evaluation (loss 0.01) epoch 1: 100%|██████████| 615/615 [00:35<00:00, 17.21it/s]\n",
      "Valid epoch 1:   0%|          | 0/68 [00:00<?, ?it/s]"
     ]
    },
    {
     "name": "stdout",
     "output_type": "stream",
     "text": [
      "Training accuracy: 0.980\n"
     ]
    },
    {
     "name": "stderr",
     "output_type": "stream",
     "text": [
      "Evaluation (loss 0.01) epoch 1: 100%|██████████| 68/68 [00:04<00:00, 16.41it/s]\n",
      "Train epoch 10:   0%|          | 0/615 [00:00<?, ?it/s]"
     ]
    },
    {
     "name": "stdout",
     "output_type": "stream",
     "text": [
      "Validation accuracy: 0.965\n"
     ]
    },
    {
     "name": "stderr",
     "output_type": "stream",
     "text": [
      "Train (loss 0.003) epoch 10: 100%|██████████| 615/615 [02:55<00:00,  3.51it/s]\n",
      "Evaluation (loss 0.03) epoch 1: 100%|██████████| 615/615 [00:35<00:00, 17.15it/s]\n",
      "Valid epoch 1:   0%|          | 0/68 [00:00<?, ?it/s]"
     ]
    },
    {
     "name": "stdout",
     "output_type": "stream",
     "text": [
      "Training accuracy: 0.985\n"
     ]
    },
    {
     "name": "stderr",
     "output_type": "stream",
     "text": [
      "Evaluation (loss 0.14) epoch 1: 100%|██████████| 68/68 [00:04<00:00, 16.16it/s]\n",
      "Train epoch 11:   0%|          | 0/615 [00:00<?, ?it/s]"
     ]
    },
    {
     "name": "stdout",
     "output_type": "stream",
     "text": [
      "Validation accuracy: 0.968\n"
     ]
    },
    {
     "name": "stderr",
     "output_type": "stream",
     "text": [
      "Train (loss 0.335) epoch 11: 100%|██████████| 615/615 [02:55<00:00,  3.51it/s]\n",
      "Evaluation (loss 0.00) epoch 1: 100%|██████████| 615/615 [00:35<00:00, 17.18it/s]\n",
      "Valid epoch 1:   0%|          | 0/68 [00:00<?, ?it/s]"
     ]
    },
    {
     "name": "stdout",
     "output_type": "stream",
     "text": [
      "Training accuracy: 0.988\n"
     ]
    },
    {
     "name": "stderr",
     "output_type": "stream",
     "text": [
      "Evaluation (loss 0.00) epoch 1: 100%|██████████| 68/68 [00:04<00:00, 16.22it/s]\n",
      "Train epoch 12:   0%|          | 0/615 [00:00<?, ?it/s]"
     ]
    },
    {
     "name": "stdout",
     "output_type": "stream",
     "text": [
      "Validation accuracy: 0.972\n"
     ]
    },
    {
     "name": "stderr",
     "output_type": "stream",
     "text": [
      "Train (loss 0.148) epoch 12: 100%|██████████| 615/615 [02:55<00:00,  3.51it/s]\n",
      "Evaluation (loss 0.14) epoch 1: 100%|██████████| 615/615 [00:35<00:00, 17.16it/s]\n",
      "Valid epoch 1:   0%|          | 0/68 [00:00<?, ?it/s]"
     ]
    },
    {
     "name": "stdout",
     "output_type": "stream",
     "text": [
      "Training accuracy: 0.987\n"
     ]
    },
    {
     "name": "stderr",
     "output_type": "stream",
     "text": [
      "Evaluation (loss 0.00) epoch 1: 100%|██████████| 68/68 [00:04<00:00, 16.21it/s]\n",
      "Train epoch 13:   0%|          | 0/615 [00:00<?, ?it/s]"
     ]
    },
    {
     "name": "stdout",
     "output_type": "stream",
     "text": [
      "Validation accuracy: 0.970\n"
     ]
    },
    {
     "name": "stderr",
     "output_type": "stream",
     "text": [
      "Train (loss 0.000) epoch 13: 100%|██████████| 615/615 [02:55<00:00,  3.50it/s]\n",
      "Evaluation (loss 0.07) epoch 1: 100%|██████████| 615/615 [00:35<00:00, 17.18it/s]\n",
      "Valid epoch 1:   0%|          | 0/68 [00:00<?, ?it/s]"
     ]
    },
    {
     "name": "stdout",
     "output_type": "stream",
     "text": [
      "Training accuracy: 0.984\n"
     ]
    },
    {
     "name": "stderr",
     "output_type": "stream",
     "text": [
      "Evaluation (loss 0.00) epoch 1: 100%|██████████| 68/68 [00:04<00:00, 16.34it/s]\n",
      "Train epoch 14:   0%|          | 0/615 [00:00<?, ?it/s]"
     ]
    },
    {
     "name": "stdout",
     "output_type": "stream",
     "text": [
      "Validation accuracy: 0.969\n"
     ]
    },
    {
     "name": "stderr",
     "output_type": "stream",
     "text": [
      "Train (loss 0.035) epoch 14: 100%|██████████| 615/615 [02:55<00:00,  3.50it/s]\n",
      "Evaluation (loss 0.00) epoch 1: 100%|██████████| 615/615 [00:35<00:00, 17.20it/s]\n",
      "Valid epoch 1:   0%|          | 0/68 [00:00<?, ?it/s]"
     ]
    },
    {
     "name": "stdout",
     "output_type": "stream",
     "text": [
      "Training accuracy: 0.989\n"
     ]
    },
    {
     "name": "stderr",
     "output_type": "stream",
     "text": [
      "Evaluation (loss 0.00) epoch 1: 100%|██████████| 68/68 [00:04<00:00, 16.24it/s]\n",
      "Train epoch 15:   0%|          | 0/615 [00:00<?, ?it/s]"
     ]
    },
    {
     "name": "stdout",
     "output_type": "stream",
     "text": [
      "Validation accuracy: 0.972\n"
     ]
    },
    {
     "name": "stderr",
     "output_type": "stream",
     "text": [
      "Train (loss 0.000) epoch 15: 100%|██████████| 615/615 [02:55<00:00,  3.51it/s]\n",
      "Evaluation (loss 0.09) epoch 1: 100%|██████████| 615/615 [00:35<00:00, 17.17it/s]\n",
      "Valid epoch 1:   0%|          | 0/68 [00:00<?, ?it/s]"
     ]
    },
    {
     "name": "stdout",
     "output_type": "stream",
     "text": [
      "Training accuracy: 0.991\n"
     ]
    },
    {
     "name": "stderr",
     "output_type": "stream",
     "text": [
      "Evaluation (loss 0.02) epoch 1: 100%|██████████| 68/68 [00:04<00:00, 16.16it/s]\n",
      "Train epoch 16:   0%|          | 0/615 [00:00<?, ?it/s]"
     ]
    },
    {
     "name": "stdout",
     "output_type": "stream",
     "text": [
      "Validation accuracy: 0.978\n"
     ]
    },
    {
     "name": "stderr",
     "output_type": "stream",
     "text": [
      "Train (loss 0.000) epoch 16: 100%|██████████| 615/615 [02:55<00:00,  3.50it/s]\n",
      "Evaluation (loss 0.07) epoch 1: 100%|██████████| 615/615 [00:35<00:00, 17.15it/s]\n",
      "Valid epoch 1:   0%|          | 0/68 [00:00<?, ?it/s]"
     ]
    },
    {
     "name": "stdout",
     "output_type": "stream",
     "text": [
      "Training accuracy: 0.987\n"
     ]
    },
    {
     "name": "stderr",
     "output_type": "stream",
     "text": [
      "Evaluation (loss 0.00) epoch 1: 100%|██████████| 68/68 [00:04<00:00, 16.42it/s]\n",
      "Train epoch 17:   0%|          | 0/615 [00:00<?, ?it/s]"
     ]
    },
    {
     "name": "stdout",
     "output_type": "stream",
     "text": [
      "Validation accuracy: 0.972\n"
     ]
    },
    {
     "name": "stderr",
     "output_type": "stream",
     "text": [
      "Train (loss 0.000) epoch 17: 100%|██████████| 615/615 [02:55<00:00,  3.50it/s]\n",
      "Evaluation (loss 0.00) epoch 1: 100%|██████████| 615/615 [00:35<00:00, 17.19it/s]\n",
      "Valid epoch 1:   0%|          | 0/68 [00:00<?, ?it/s]"
     ]
    },
    {
     "name": "stdout",
     "output_type": "stream",
     "text": [
      "Training accuracy: 0.987\n"
     ]
    },
    {
     "name": "stderr",
     "output_type": "stream",
     "text": [
      "Evaluation (loss 0.01) epoch 1: 100%|██████████| 68/68 [00:04<00:00, 16.19it/s]\n",
      "Train epoch 18:   0%|          | 0/615 [00:00<?, ?it/s]"
     ]
    },
    {
     "name": "stdout",
     "output_type": "stream",
     "text": [
      "Validation accuracy: 0.970\n"
     ]
    },
    {
     "name": "stderr",
     "output_type": "stream",
     "text": [
      "Train (loss 0.000) epoch 18: 100%|██████████| 615/615 [02:55<00:00,  3.50it/s]\n",
      "Evaluation (loss 0.01) epoch 1: 100%|██████████| 615/615 [00:35<00:00, 17.19it/s]\n",
      "Valid epoch 1:   0%|          | 0/68 [00:00<?, ?it/s]"
     ]
    },
    {
     "name": "stdout",
     "output_type": "stream",
     "text": [
      "Training accuracy: 0.987\n"
     ]
    },
    {
     "name": "stderr",
     "output_type": "stream",
     "text": [
      "Evaluation (loss 0.00) epoch 1: 100%|██████████| 68/68 [00:04<00:00, 16.17it/s]\n",
      "Train epoch 19:   0%|          | 0/615 [00:00<?, ?it/s]"
     ]
    },
    {
     "name": "stdout",
     "output_type": "stream",
     "text": [
      "Validation accuracy: 0.975\n"
     ]
    },
    {
     "name": "stderr",
     "output_type": "stream",
     "text": [
      "Train (loss 0.033) epoch 19: 100%|██████████| 615/615 [02:55<00:00,  3.50it/s]\n",
      "Evaluation (loss 0.10) epoch 1: 100%|██████████| 615/615 [00:35<00:00, 17.15it/s]\n",
      "Valid epoch 1:   0%|          | 0/68 [00:00<?, ?it/s]"
     ]
    },
    {
     "name": "stdout",
     "output_type": "stream",
     "text": [
      "Training accuracy: 0.992\n"
     ]
    },
    {
     "name": "stderr",
     "output_type": "stream",
     "text": [
      "Evaluation (loss 0.03) epoch 1: 100%|██████████| 68/68 [00:04<00:00, 16.16it/s]\n",
      "Valid epoch 19:   0%|          | 0/615 [00:00<?, ?it/s]"
     ]
    },
    {
     "name": "stdout",
     "output_type": "stream",
     "text": [
      "Validation accuracy: 0.980\n"
     ]
    },
    {
     "name": "stderr",
     "output_type": "stream",
     "text": [
      "Evaluation (loss 0.00) epoch 19: 100%|██████████| 615/615 [00:35<00:00, 17.17it/s]\n",
      "Evaluation (loss 0.03) epoch 19: 100%|██████████| 68/68 [00:04<00:00, 16.39it/s]\n"
     ]
    }
   ],
   "source": [
    "net, criterion, train_losses, eval_dict = sr.train_speaker_recognition(data_path = '/home/ubuntu/loop/data/vctk-16khz-cmu-no-boundaries-all',\n",
    "                                                                    nspk = 108,\n",
    "                                                                    seq_len = 300,\n",
    "                                                                    batch_size = 64,\n",
    "                                                                    num_epochs = 20,\n",
    "                                                                    exp_name = '20180706')"
   ]
  },
  {
   "cell_type": "code",
   "execution_count": 4,
   "metadata": {},
   "outputs": [
    {
     "data": {
      "text/plain": [
       "['train_loss',\n",
       " 'valid_accuracy',\n",
       " 'valid_gt',\n",
       " 'valid_loss',\n",
       " 'train_accuracy',\n",
       " 'valid_correct',\n",
       " 'valid_pred']"
      ]
     },
     "execution_count": 4,
     "metadata": {},
     "output_type": "execute_result"
    }
   ],
   "source": [
    "eval_dict.keys()"
   ]
  },
  {
   "cell_type": "code",
   "execution_count": 5,
   "metadata": {},
   "outputs": [
    {
     "data": {
      "text/plain": [
       "0.9798270893371758"
      ]
     },
     "execution_count": 5,
     "metadata": {},
     "output_type": "execute_result"
    }
   ],
   "source": [
    "eval_dict['valid_accuracy']"
   ]
  },
  {
   "cell_type": "code",
   "execution_count": 6,
   "metadata": {},
   "outputs": [
    {
     "data": {
      "text/plain": [
       "0.9919871372466328"
      ]
     },
     "execution_count": 6,
     "metadata": {},
     "output_type": "execute_result"
    }
   ],
   "source": [
    "eval_dict['train_accuracy']"
   ]
  },
  {
   "cell_type": "markdown",
   "metadata": {},
   "source": [
    "#### Error analysis"
   ]
  },
  {
   "cell_type": "code",
   "execution_count": 7,
   "metadata": {},
   "outputs": [],
   "source": [
    "acc_detail = pd.DataFrame(zip(eval_dict['valid_gt'], eval_dict['valid_correct']), columns=('spkr', 'correct'))"
   ]
  },
  {
   "cell_type": "code",
   "execution_count": 8,
   "metadata": {},
   "outputs": [
    {
     "name": "stdout",
     "output_type": "stream",
     "text": [
      "Num errors: 84/4164\n"
     ]
    }
   ],
   "source": [
    "print \"Num errors: %d/%d\" % (np.sum(eval_dict['valid_correct']==False), len(eval_dict['valid_correct']))"
   ]
  },
  {
   "cell_type": "code",
   "execution_count": 9,
   "metadata": {},
   "outputs": [],
   "source": [
    "df = acc_detail.groupby('spkr').aggregate(('count', 'sum', 'mean'))"
   ]
  },
  {
   "cell_type": "code",
   "execution_count": 10,
   "metadata": {},
   "outputs": [
    {
     "data": {
      "text/html": [
       "<div>\n",
       "<style scoped>\n",
       "    .dataframe tbody tr th:only-of-type {\n",
       "        vertical-align: middle;\n",
       "    }\n",
       "\n",
       "    .dataframe tbody tr th {\n",
       "        vertical-align: top;\n",
       "    }\n",
       "\n",
       "    .dataframe thead th {\n",
       "        text-align: right;\n",
       "    }\n",
       "</style>\n",
       "<table border=\"1\" class=\"dataframe\">\n",
       "  <thead>\n",
       "    <tr style=\"text-align: right;\">\n",
       "      <th></th>\n",
       "      <th>count</th>\n",
       "      <th>sum</th>\n",
       "      <th>mean</th>\n",
       "    </tr>\n",
       "    <tr>\n",
       "      <th>spkr</th>\n",
       "      <th></th>\n",
       "      <th></th>\n",
       "      <th></th>\n",
       "    </tr>\n",
       "  </thead>\n",
       "  <tbody>\n",
       "    <tr>\n",
       "      <th>98</th>\n",
       "      <td>42</td>\n",
       "      <td>36.0</td>\n",
       "      <td>0.857143</td>\n",
       "    </tr>\n",
       "    <tr>\n",
       "      <th>76</th>\n",
       "      <td>41</td>\n",
       "      <td>36.0</td>\n",
       "      <td>0.878049</td>\n",
       "    </tr>\n",
       "    <tr>\n",
       "      <th>57</th>\n",
       "      <td>39</td>\n",
       "      <td>35.0</td>\n",
       "      <td>0.897436</td>\n",
       "    </tr>\n",
       "    <tr>\n",
       "      <th>86</th>\n",
       "      <td>39</td>\n",
       "      <td>35.0</td>\n",
       "      <td>0.897436</td>\n",
       "    </tr>\n",
       "    <tr>\n",
       "      <th>38</th>\n",
       "      <td>34</td>\n",
       "      <td>31.0</td>\n",
       "      <td>0.911765</td>\n",
       "    </tr>\n",
       "  </tbody>\n",
       "</table>\n",
       "</div>"
      ],
      "text/plain": [
       "      count   sum      mean\n",
       "spkr                       \n",
       "98       42  36.0  0.857143\n",
       "76       41  36.0  0.878049\n",
       "57       39  35.0  0.897436\n",
       "86       39  35.0  0.897436\n",
       "38       34  31.0  0.911765"
      ]
     },
     "execution_count": 10,
     "metadata": {},
     "output_type": "execute_result"
    }
   ],
   "source": [
    "df['correct'].sort_values('mean', ascending=True).head()"
   ]
  },
  {
   "cell_type": "code",
   "execution_count": 24,
   "metadata": {},
   "outputs": [],
   "source": [
    "train_loss=np.zeros((10,1))\n",
    "valid_loss=np.zeros((10,1))\n",
    "mcd=np.zeros((10,1))\n",
    "train_acc=np.zeros((10,1))\n",
    "valid_acc=np.zeros((10,1))"
   ]
  },
  {
   "cell_type": "code",
   "execution_count": 35,
   "metadata": {},
   "outputs": [],
   "source": [
    "columns=( 'train_loss', 'valid_loss', 'mcd')"
   ]
  },
  {
   "cell_type": "code",
   "execution_count": 36,
   "metadata": {},
   "outputs": [],
   "source": [
    "y = np.hstack([vars()[x] for x in columns])"
   ]
  },
  {
   "cell_type": "code",
   "execution_count": 37,
   "metadata": {},
   "outputs": [
    {
     "data": {
      "text/plain": [
       "array([[ 0.,  0.,  0.],\n",
       "       [ 0.,  0.,  0.],\n",
       "       [ 0.,  0.,  0.],\n",
       "       [ 0.,  0.,  0.],\n",
       "       [ 0.,  0.,  0.],\n",
       "       [ 0.,  0.,  0.],\n",
       "       [ 0.,  0.,  0.],\n",
       "       [ 0.,  0.,  0.],\n",
       "       [ 0.,  0.,  0.],\n",
       "       [ 0.,  0.,  0.]])"
      ]
     },
     "execution_count": 37,
     "metadata": {},
     "output_type": "execute_result"
    }
   ],
   "source": [
    "y"
   ]
  },
  {
   "cell_type": "code",
   "execution_count": null,
   "metadata": {},
   "outputs": [],
   "source": []
  },
  {
   "cell_type": "markdown",
   "metadata": {},
   "source": [
    "### Notes 20180706\n",
    "* Implemented randomized segment during training\n",
    "    * Seems to work okay on us-22\n",
    "    * Now running on vctk-all with maxpool, 300\n",
    "        * Got to 98.3% on the valid set after 12 epochs and then fell back a touch in the next two (may have done better if trained for longer)\n",
    "    * vctk-all with 200\n",
    "        * Got to 98.4% after around 11 epochs, may have got a bit more out if trained further?\n",
    "        \n",
    "    * added weight_norm at the end\n",
    "        * bit worse, but hard to be 100% sure\n",
    "        \n",
    "    * double number of conv filters in layers 3 and 4\n",
    "        * Got to 100% on us-22, but was worse on vctk-all (no higher than 96%)\n",
    "        \n",
    "    * added dropout to all the conv layers\n",
    "        * okay for us-22: slower to train, but by 10 epoch validation was 99.7%\n",
    "        * for vctk-all, never gets much above 97%...\n",
    "       "
   ]
  },
  {
   "cell_type": "code",
   "execution_count": null,
   "metadata": {},
   "outputs": [],
   "source": []
  },
  {
   "cell_type": "markdown",
   "metadata": {},
   "source": [
    "### TODO\n",
    "* Increase epochs - any improvement? *yes, gets up to 99.9%. Didn't get rid of the last error though*\n",
    "* Vary seq_len. How sensitive? *much faster on seq_len=100. Results similar in the end.*\n",
    "* Run on full dataset... does it work?\n",
    "* Try using random 500 step chunk of non-padded part of each sample -> much more robust?\n",
    "* Then try using mean or rms rather than max, seeing as padding less of an issue?\n",
    "* Then look at whether there's a relationship between the classes than come 2nd/3rd and which speaker embeddings are close based on cosine similarity"
   ]
  },
  {
   "cell_type": "markdown",
   "metadata": {},
   "source": [
    "# OLD CODE\n",
    "From the first iteration"
   ]
  },
  {
   "cell_type": "markdown",
   "metadata": {},
   "source": [
    "## Develop the speaker recognition model"
   ]
  },
  {
   "cell_type": "code",
   "execution_count": 2,
   "metadata": {},
   "outputs": [],
   "source": [
    "gpu = 0\n",
    "seed = 1\n",
    "data = '/home/ubuntu/loop/data/vctk'\n",
    "nspk = 22\n",
    "max_seq_len = 1000\n",
    "seq_len = 100\n",
    "batch_size = 64"
   ]
  },
  {
   "cell_type": "code",
   "execution_count": 3,
   "metadata": {},
   "outputs": [],
   "source": [
    "torch.cuda.set_device(gpu)\n",
    "torch.manual_seed(seed)\n",
    "torch.cuda.manual_seed(seed)"
   ]
  },
  {
   "cell_type": "code",
   "execution_count": 4,
   "metadata": {},
   "outputs": [],
   "source": [
    "# wrap train dataset\n",
    "train_dataset = NpzFolder(data + '/numpy_features', nspk == 1)\n",
    "train_loader = NpzLoader(train_dataset,\n",
    "                         max_seq_len=max_seq_len,\n",
    "                         batch_size=batch_size,\n",
    "                         num_workers=4,\n",
    "                         pin_memory=True,\n",
    "                         shuffle=True)"
   ]
  },
  {
   "cell_type": "code",
   "execution_count": 5,
   "metadata": {},
   "outputs": [],
   "source": [
    "# wrap validation dataset\n",
    "valid_dataset = NpzFolder(data + '/numpy_features_valid', nspk == 1)\n",
    "valid_loader = NpzLoader(valid_dataset,\n",
    "                         max_seq_len=max_seq_len,\n",
    "                         batch_size=batch_size,\n",
    "                         num_workers=4,\n",
    "                         pin_memory=True,\n",
    "                         shuffle=True)"
   ]
  },
  {
   "cell_type": "code",
   "execution_count": 7,
   "metadata": {},
   "outputs": [],
   "source": [
    "class RecognitionNet(nn.Module):\n",
    "    def __init__(self, seq_len):\n",
    "        super(RecognitionNet, self).__init__()\n",
    "        self.conv1 = nn.Conv2d(1, 32, 3) # 1 input channel, 32 output channels, 3x3 square convolution\n",
    "        self.bn1 = nn.BatchNorm2d(32)\n",
    "                \n",
    "        self.conv2 = nn.Conv2d(32, 32, 3)\n",
    "        self.bn2 = nn.BatchNorm2d(32)\n",
    "        \n",
    "        self.conv3 = nn.Conv2d(32, 32, 3)\n",
    "        self.bn3 = nn.BatchNorm2d(32)\n",
    "        \n",
    "        self.conv4 = nn.Conv2d(32, 32, 3)\n",
    "        self.bn4 = nn.BatchNorm2d(32)\n",
    "        \n",
    "        self.conv5 = nn.Conv2d(32, 32, 3)\n",
    "        self.bn5 = nn.BatchNorm2d(32)\n",
    "        \n",
    "        self.pool = nn.MaxPool1d(2, 2)\n",
    "        \n",
    "        self.fc1 = nn.Linear(1 * 32 * 53, 256)\n",
    "        self.fc2 = nn.Linear(256, 256)\n",
    "        self.fc3 = nn.Linear(256, nspk)\n",
    "\n",
    "    def forward(self, x):\n",
    "        #x = self.pool(F.relu(self.conv1(x)))\n",
    "        #print x.size()\n",
    "        #print type(x)\n",
    "        x = self.conv1(x)\n",
    "        x = self.bn1(x)\n",
    "        x = F.relu(x)\n",
    "        #print x.size()\n",
    "        x = F.relu(self.bn2(self.conv2(x)))\n",
    "        #print x.size()\n",
    "        x = F.relu(self.bn3(self.conv3(x)))\n",
    "        x = F.relu(self.bn4(self.conv4(x)))\n",
    "        x = F.relu(self.bn5(self.conv5(x)))\n",
    "        #print x.size()\n",
    "        \n",
    "        # ave pooling over time\n",
    "        #x = self.pool(x)\n",
    "        x = torch.max(x, dim=2)[0]\n",
    "        #print x.size()\n",
    "        \n",
    "        x = x.view(-1, self.num_flat_features(x))\n",
    "        #print x.size()\n",
    "        x = F.relu(self.fc1(x))\n",
    "        x = F.relu(self.fc2(x))\n",
    "        x = self.fc3(x)\n",
    "        return x\n",
    "    \n",
    "    def num_flat_features(self, x):\n",
    "        size = x.size()[1:]  # all dimensions except the batch dimension\n",
    "        num_features = 1\n",
    "        for s in size:\n",
    "            num_features *= s\n",
    "        return num_features\n",
    "    \n",
    "    def cuda(self, device_id=None):\n",
    "        nn.Module.cuda(self, device_id)"
   ]
  },
  {
   "cell_type": "code",
   "execution_count": 8,
   "metadata": {},
   "outputs": [],
   "source": [
    "def evaluate(net, criterion, epoch=1, eval_losses=[], loader=valid_loader):\n",
    "    total = 0\n",
    "    valid_enum = tqdm(loader, desc='Valid epoch %d' % epoch)\n",
    "    #valid_enum = loader\n",
    "\n",
    "    total_correct = 0.\n",
    "    total_samples = 0.\n",
    "    \n",
    "    num_samples = len(loader.dataset)\n",
    "    all_pred = []\n",
    "    all_gt = []\n",
    "    all_correct = []\n",
    "    \n",
    "    for txt, feat, spkr in valid_enum:\n",
    "        input = wrap(txt, volatile=True)\n",
    "        target = wrap(feat, volatile=True)\n",
    "        spkr = wrap(spkr, volatile=True)\n",
    "\n",
    "        # TODO: run with gradients turned off?\n",
    "        output = net(target[0].transpose(0,1).unsqueeze(1))\n",
    "        loss = criterion(output, spkr.view(-1))\n",
    "        \n",
    "        #output, _ = model([input, spkr], target[0])\n",
    "        #loss = criterion(output, target[0], target[1])\n",
    "\n",
    "        total += loss.data[0]\n",
    "\n",
    "        valid_enum.set_description('Valid (loss %.2f) epoch %d' %\n",
    "                                   (loss.data[0], epoch))\n",
    "        \n",
    "        total_samples += len(spkr)\n",
    "        \n",
    "        spkr_gt = spkr.cpu().view(-1).data.numpy()\n",
    "        spkr_pred = output.cpu().data.numpy().argmax(1)\n",
    "        \n",
    "        correct_pred = spkr_gt == spkr_pred\n",
    "        num_correct_pred = np.sum(correct_pred)\n",
    "        total_correct += num_correct_pred\n",
    "        \n",
    "        all_pred.append(spkr_pred)\n",
    "        all_gt.append(spkr_gt)\n",
    "        all_correct.append(correct_pred)\n",
    "        \n",
    "\n",
    "    accuracy = total_correct / total_samples\n",
    "            \n",
    "    avg = total / len(valid_loader)\n",
    "    eval_losses.append(avg)\n",
    "   \n",
    "    all_pred = np.concatenate(all_pred)\n",
    "    all_gt = np.concatenate(all_gt)\n",
    "    all_correct = np.concatenate(all_correct)\n",
    "    \n",
    "    return avg, accuracy, all_pred, all_gt, all_correct"
   ]
  },
  {
   "cell_type": "code",
   "execution_count": 83,
   "metadata": {},
   "outputs": [],
   "source": [
    "seq_len = 300\n",
    "epoch = 1\n",
    "num_epochs = 5"
   ]
  },
  {
   "cell_type": "code",
   "execution_count": 84,
   "metadata": {},
   "outputs": [],
   "source": [
    "net = RecognitionNet(seq_len=seq_len)\n",
    "net.cuda()\n",
    "net.train()\n",
    "\n",
    "criterion = nn.CrossEntropyLoss().cuda()\n",
    "optimizer = optim.Adam(net.parameters(), lr=0.001)"
   ]
  },
  {
   "cell_type": "code",
   "execution_count": 85,
   "metadata": {
    "scrolled": true
   },
   "outputs": [
    {
     "name": "stderr",
     "output_type": "stream",
     "text": [
      "Train (loss 0.09) epoch 0: 100%|██████████| 126/126 [00:35<00:00,  3.57it/s]\n",
      "Train (loss 0.00) epoch 1: 100%|██████████| 126/126 [00:35<00:00,  3.56it/s]\n",
      "Train (loss 0.00) epoch 2: 100%|██████████| 126/126 [00:35<00:00,  3.56it/s]\n",
      "Train (loss 0.00) epoch 3: 100%|██████████| 126/126 [00:35<00:00,  3.56it/s]\n",
      "Train (loss 0.00) epoch 4: 100%|██████████| 126/126 [00:35<00:00,  3.56it/s]\n"
     ]
    }
   ],
   "source": [
    "train_losses = []\n",
    "for epoch in range(num_epochs):\n",
    "    train_enum = tqdm(train_loader, desc='Train epoch %d' % epoch)\n",
    "\n",
    "    total = 0\n",
    "    for full_txt, full_feat, spkr in train_enum:\n",
    "        batch_iter = TBPTTIter(full_txt, full_feat, spkr, seq_len)\n",
    "        batch_total = 0\n",
    "\n",
    "        counter = 1\n",
    "        for txt, feat, spkr, start in batch_iter:\n",
    "            input = wrap(txt)\n",
    "            target = wrap(feat)\n",
    "            spkr = wrap(spkr)\n",
    "\n",
    "            # Zero gradients\n",
    "            if start:\n",
    "                optimizer.zero_grad()\n",
    "\n",
    "            # Forward\n",
    "            #output = net(target[0].transpose(0,1).unsqueeze(1).cpu())\n",
    "            output = net(target[0].transpose(0,1).unsqueeze(1))\n",
    "            #print output.size()\n",
    "            #print spkr.size()\n",
    "            loss = criterion(output, spkr.view(-1))\n",
    "            #print \"Iteration %d: loss %.2f\" %(counter, loss.data[0])\n",
    "\n",
    "            # Backward\n",
    "            loss.backward()\n",
    "            #if check_grad(model.parameters(), args.clip_grad, args.ignore_grad):\n",
    "            #    logging.info('Not a finite gradient or too big, ignoring.')\n",
    "            #    optimizer.zero_grad()\n",
    "            #    continue\n",
    "            optimizer.step()\n",
    "\n",
    "\n",
    "            # Keep track of loss\n",
    "            batch_total += loss.data[0]\n",
    "            counter += 1\n",
    "\n",
    "            break\n",
    "\n",
    "        batch_total = batch_total / len(batch_iter)\n",
    "        total += batch_total\n",
    "        train_enum.set_description('Train (loss %.3f) epoch %d' %\n",
    "                                   (batch_total, epoch))\n",
    "        #print \"Train (loss %.2f)\" % (batch_total)\n",
    "\n",
    "        #break\n",
    "    avg = total / len(train_loader)\n",
    "    train_losses.append(avg)\n",
    "\n",
    "\n",
    "#logging.info('====> Train set loss: {:.4f}'.format(avg))"
   ]
  },
  {
   "cell_type": "code",
   "execution_count": 86,
   "metadata": {},
   "outputs": [
    {
     "data": {
      "text/plain": [
       "[0.3126998151943244,\n",
       " 0.012177846507506843,\n",
       " 0.005214821041109552,\n",
       " 0.0028364011609218315,\n",
       " 0.005955733493753958]"
      ]
     },
     "execution_count": 86,
     "metadata": {},
     "output_type": "execute_result"
    }
   ],
   "source": [
    "train_losses"
   ]
  },
  {
   "cell_type": "code",
   "execution_count": 89,
   "metadata": {},
   "outputs": [
    {
     "name": "stderr",
     "output_type": "stream",
     "text": [
      "Valid (loss 0.00) epoch 1: 100%|██████████| 11/11 [00:01<00:00,  6.89it/s]"
     ]
    },
    {
     "name": "stdout",
     "output_type": "stream",
     "text": [
      "Average Loss: 0.009\n",
      "Accuracy: 0.997\n",
      "Num errors: 2/687\n"
     ]
    },
    {
     "name": "stderr",
     "output_type": "stream",
     "text": [
      "\n"
     ]
    }
   ],
   "source": [
    "avg, accuracy, all_pred, all_gt, all_correct = evaluate(net, criterion, loader=valid_loader)\n",
    "print \"Average Loss: %.3f\" % avg\n",
    "print \"Accuracy: %.3f\" % accuracy\n",
    "print \"Num errors: %d/%d\" % (np.sum(all_correct==False), len(all_correct))"
   ]
  },
  {
   "cell_type": "markdown",
   "metadata": {},
   "source": [
    "Quick check on the softmax outputs"
   ]
  },
  {
   "cell_type": "code",
   "execution_count": 57,
   "metadata": {},
   "outputs": [],
   "source": [
    "sm = F.softmax(output, dim=1)"
   ]
  },
  {
   "cell_type": "code",
   "execution_count": 58,
   "metadata": {},
   "outputs": [
    {
     "name": "stdout",
     "output_type": "stream",
     "text": [
      "CORRECT\n",
      "Ground truth speaker: 6\n",
      "Predicted speaker: 6\n",
      "Probability of predicted speaker: 0.559\n",
      "Probability of correct speaker: 0.559\n"
     ]
    },
    {
     "data": {
      "image/png": "[encoded data removed]",
      "text/plain": [
       "<matplotlib.figure.Figure at 0x7f11b85b1350>"
      ]
     },
     "metadata": {},
     "output_type": "display_data"
    }
   ],
   "source": [
    "idx = 2\n",
    "\n",
    "spkr_gt = spkr.cpu().view(-1).data[idx]\n",
    "spkr_pred = sm[idx, :].cpu().data.numpy().argmax()\n",
    "\n",
    "if spkr_gt == spkr_pred:\n",
    "    print \"CORRECT\"\n",
    "else:\n",
    "    print \"*** MISTAKE ***\"\n",
    "        \n",
    "print \"Ground truth speaker: %d\" % spkr_gt\n",
    "print \"Predicted speaker: %d\" % spkr_pred\n",
    "print \"Probability of predicted speaker: %0.3f\" % sm[idx, :].cpu().data.numpy().max()\n",
    "print \"Probability of correct speaker: %0.3f\" % sm[idx, spkr.cpu().view(-1).data[idx]]\n",
    "\n",
    "plt.bar(range(nspk), sm[idx,:].cpu().data.numpy())\n",
    "plt.grid(True)\n",
    "plt.show()"
   ]
  },
  {
   "cell_type": "code",
   "execution_count": 36,
   "metadata": {},
   "outputs": [
    {
     "data": {
      "text/plain": [
       "0.982532751091703"
      ]
     },
     "execution_count": 36,
     "metadata": {},
     "output_type": "execute_result"
    }
   ],
   "source": [
    "accuracy"
   ]
  },
  {
   "cell_type": "code",
   "execution_count": 22,
   "metadata": {},
   "outputs": [],
   "source": [
    "acc_detail = pd.DataFrame(zip(all_gt, all_correct), columns=('spkr', 'correct'))"
   ]
  },
  {
   "cell_type": "code",
   "execution_count": 116,
   "metadata": {},
   "outputs": [],
   "source": [
    "#acc_detail.groupby('spkr').mean()"
   ]
  },
  {
   "cell_type": "code",
   "execution_count": 2,
   "metadata": {
    "scrolled": true
   },
   "outputs": [],
   "source": [
    "#valid_loader.dataset.speakers"
   ]
  },
  {
   "cell_type": "code",
   "execution_count": 111,
   "metadata": {},
   "outputs": [],
   "source": [
    "speaker_info = nu.get_vctk_speaker_info()"
   ]
  },
  {
   "cell_type": "code",
   "execution_count": 113,
   "metadata": {},
   "outputs": [],
   "source": [
    "input = Variable(torch.randn(10, 1, 28, 28))"
   ]
  },
  {
   "cell_type": "code",
   "execution_count": 114,
   "metadata": {},
   "outputs": [
    {
     "name": "stdout",
     "output_type": "stream",
     "text": [
      "torch.Size([10, 1, 28, 28])\n",
      "torch.Size([10, 32, 26, 26])\n",
      "torch.Size([10, 32, 24, 24])\n",
      "torch.Size([10, 32, 22, 22])\n",
      "torch.Size([10, 22, 22])\n",
      "torch.Size([10, 484])\n"
     ]
    }
   ],
   "source": [
    "output = net(input)"
   ]
  },
  {
   "cell_type": "markdown",
   "metadata": {},
   "source": [
    "## Using speaker_recognition module\n",
    "I then moved all the code into speaker_recognition.py and trained the network from the notebook"
   ]
  },
  {
   "cell_type": "code",
   "execution_count": 7,
   "metadata": {},
   "outputs": [
    {
     "name": "stderr",
     "output_type": "stream",
     "text": [
      "Train (loss 0.048) epoch 0: 100%|██████████| 615/615 [02:49<00:00,  3.63it/s]\n",
      "Evaluation (loss 0.23) epoch 1: 100%|██████████| 68/68 [00:09<00:00,  7.35it/s]\n",
      "Train epoch 1:   0%|          | 0/615 [00:00<?, ?it/s]"
     ]
    },
    {
     "name": "stdout",
     "output_type": "stream",
     "text": [
      "Validation accuracy: 0.845\n"
     ]
    },
    {
     "name": "stderr",
     "output_type": "stream",
     "text": [
      "Train (loss 0.058) epoch 1: 100%|██████████| 615/615 [02:49<00:00,  3.63it/s]\n",
      "Evaluation (loss 0.16) epoch 1: 100%|██████████| 68/68 [00:09<00:00,  7.34it/s]\n",
      "Train epoch 2:   0%|          | 0/615 [00:00<?, ?it/s]"
     ]
    },
    {
     "name": "stdout",
     "output_type": "stream",
     "text": [
      "Validation accuracy: 0.931\n"
     ]
    },
    {
     "name": "stderr",
     "output_type": "stream",
     "text": [
      "Train (loss 0.007) epoch 2: 100%|██████████| 615/615 [02:49<00:00,  3.63it/s]\n",
      "Evaluation (loss 0.04) epoch 1: 100%|██████████| 68/68 [00:09<00:00,  7.33it/s]\n",
      "Train epoch 3:   0%|          | 0/615 [00:00<?, ?it/s]"
     ]
    },
    {
     "name": "stdout",
     "output_type": "stream",
     "text": [
      "Validation accuracy: 0.948\n"
     ]
    },
    {
     "name": "stderr",
     "output_type": "stream",
     "text": [
      "Train (loss 0.041) epoch 3: 100%|██████████| 615/615 [02:51<00:00,  3.59it/s]\n",
      "Evaluation (loss 0.05) epoch 1: 100%|██████████| 68/68 [00:09<00:00,  7.34it/s]\n",
      "Train epoch 4:   0%|          | 0/615 [00:00<?, ?it/s]"
     ]
    },
    {
     "name": "stdout",
     "output_type": "stream",
     "text": [
      "Validation accuracy: 0.955\n"
     ]
    },
    {
     "name": "stderr",
     "output_type": "stream",
     "text": [
      "Train (loss 0.000) epoch 4: 100%|██████████| 615/615 [02:49<00:00,  3.63it/s]\n",
      "Evaluation (loss 0.03) epoch 1: 100%|██████████| 68/68 [00:09<00:00,  7.35it/s]\n",
      "Train epoch 5:   0%|          | 0/615 [00:00<?, ?it/s]"
     ]
    },
    {
     "name": "stdout",
     "output_type": "stream",
     "text": [
      "Validation accuracy: 0.945\n"
     ]
    },
    {
     "name": "stderr",
     "output_type": "stream",
     "text": [
      "Train (loss 0.005) epoch 5: 100%|██████████| 615/615 [02:49<00:00,  3.63it/s]\n",
      "Evaluation (loss 0.04) epoch 1: 100%|██████████| 68/68 [00:09<00:00,  7.36it/s]\n",
      "Train epoch 6:   0%|          | 0/615 [00:00<?, ?it/s]"
     ]
    },
    {
     "name": "stdout",
     "output_type": "stream",
     "text": [
      "Validation accuracy: 0.969\n"
     ]
    },
    {
     "name": "stderr",
     "output_type": "stream",
     "text": [
      "Train (loss 0.008) epoch 6: 100%|██████████| 615/615 [02:49<00:00,  3.63it/s]\n",
      "Evaluation (loss 0.03) epoch 1: 100%|██████████| 68/68 [00:09<00:00,  7.35it/s]\n",
      "Train epoch 7:   0%|          | 0/615 [00:00<?, ?it/s]"
     ]
    },
    {
     "name": "stdout",
     "output_type": "stream",
     "text": [
      "Validation accuracy: 0.945\n"
     ]
    },
    {
     "name": "stderr",
     "output_type": "stream",
     "text": [
      "Train (loss 0.015) epoch 7: 100%|██████████| 615/615 [02:49<00:00,  3.63it/s]\n",
      "Evaluation (loss 0.44) epoch 1: 100%|██████████| 68/68 [00:09<00:00,  7.35it/s]\n",
      "Train epoch 8:   0%|          | 0/615 [00:00<?, ?it/s]"
     ]
    },
    {
     "name": "stdout",
     "output_type": "stream",
     "text": [
      "Validation accuracy: 0.965\n"
     ]
    },
    {
     "name": "stderr",
     "output_type": "stream",
     "text": [
      "Train (loss 0.046) epoch 8: 100%|██████████| 615/615 [02:49<00:00,  3.63it/s]\n",
      "Evaluation (loss 0.00) epoch 1: 100%|██████████| 68/68 [00:09<00:00,  7.33it/s]\n",
      "Train epoch 9:   0%|          | 0/615 [00:00<?, ?it/s]"
     ]
    },
    {
     "name": "stdout",
     "output_type": "stream",
     "text": [
      "Validation accuracy: 0.960\n"
     ]
    },
    {
     "name": "stderr",
     "output_type": "stream",
     "text": [
      "Train (loss 0.000) epoch 9: 100%|██████████| 615/615 [03:05<00:00,  3.31it/s]\n",
      "Evaluation (loss 0.00) epoch 1: 100%|██████████| 68/68 [00:11<00:00,  6.00it/s]\n",
      "Train epoch 10:   0%|          | 0/615 [00:00<?, ?it/s]"
     ]
    },
    {
     "name": "stdout",
     "output_type": "stream",
     "text": [
      "Validation accuracy: 0.964\n"
     ]
    },
    {
     "name": "stderr",
     "output_type": "stream",
     "text": [
      "Train (loss 0.018) epoch 10: 100%|██████████| 615/615 [03:25<00:00,  2.99it/s]\n",
      "Evaluation (loss 0.09) epoch 1: 100%|██████████| 68/68 [00:11<00:00,  6.04it/s]\n",
      "Train epoch 11:   0%|          | 0/615 [00:00<?, ?it/s]"
     ]
    },
    {
     "name": "stdout",
     "output_type": "stream",
     "text": [
      "Validation accuracy: 0.931\n"
     ]
    },
    {
     "name": "stderr",
     "output_type": "stream",
     "text": [
      "Train (loss 0.001) epoch 11: 100%|██████████| 615/615 [03:03<00:00,  3.35it/s]\n",
      "Evaluation (loss 0.16) epoch 1: 100%|██████████| 68/68 [00:09<00:00,  7.34it/s]\n",
      "Train epoch 12:   0%|          | 0/615 [00:00<?, ?it/s]"
     ]
    },
    {
     "name": "stdout",
     "output_type": "stream",
     "text": [
      "Validation accuracy: 0.977\n"
     ]
    },
    {
     "name": "stderr",
     "output_type": "stream",
     "text": [
      "Train (loss 0.002) epoch 12: 100%|██████████| 615/615 [02:50<00:00,  3.60it/s]\n",
      "Evaluation (loss 0.18) epoch 1: 100%|██████████| 68/68 [00:09<00:00,  7.36it/s]\n",
      "Train epoch 13:   0%|          | 0/615 [00:00<?, ?it/s]"
     ]
    },
    {
     "name": "stdout",
     "output_type": "stream",
     "text": [
      "Validation accuracy: 0.951\n"
     ]
    },
    {
     "name": "stderr",
     "output_type": "stream",
     "text": [
      "Train (loss 0.001) epoch 13: 100%|██████████| 615/615 [02:52<00:00,  3.57it/s]\n",
      "Evaluation (loss 0.25) epoch 1: 100%|██████████| 68/68 [00:09<00:00,  7.26it/s]\n",
      "Train epoch 14:   0%|          | 0/615 [00:00<?, ?it/s]"
     ]
    },
    {
     "name": "stdout",
     "output_type": "stream",
     "text": [
      "Validation accuracy: 0.971\n"
     ]
    },
    {
     "name": "stderr",
     "output_type": "stream",
     "text": [
      "Train (loss 0.000) epoch 14: 100%|██████████| 615/615 [02:52<00:00,  3.56it/s]\n",
      "Evaluation (loss 0.38) epoch 1: 100%|██████████| 68/68 [00:09<00:00,  7.35it/s]\n",
      "Train epoch 15:   0%|          | 0/615 [00:00<?, ?it/s]"
     ]
    },
    {
     "name": "stdout",
     "output_type": "stream",
     "text": [
      "Validation accuracy: 0.970\n"
     ]
    },
    {
     "name": "stderr",
     "output_type": "stream",
     "text": [
      "Train (loss 0.000) epoch 15: 100%|██████████| 615/615 [02:49<00:00,  3.63it/s]\n",
      "Evaluation (loss 0.06) epoch 1: 100%|██████████| 68/68 [00:09<00:00,  7.36it/s]\n",
      "Train epoch 16:   0%|          | 0/615 [00:00<?, ?it/s]"
     ]
    },
    {
     "name": "stdout",
     "output_type": "stream",
     "text": [
      "Validation accuracy: 0.970\n"
     ]
    },
    {
     "name": "stderr",
     "output_type": "stream",
     "text": [
      "Train (loss 0.000) epoch 16: 100%|██████████| 615/615 [02:58<00:00,  3.45it/s]\n",
      "Evaluation (loss 0.00) epoch 1: 100%|██████████| 68/68 [00:09<00:00,  7.30it/s]\n",
      "Train epoch 17:   0%|          | 0/615 [00:00<?, ?it/s]"
     ]
    },
    {
     "name": "stdout",
     "output_type": "stream",
     "text": [
      "Validation accuracy: 0.974\n"
     ]
    },
    {
     "name": "stderr",
     "output_type": "stream",
     "text": [
      "Train (loss 0.000) epoch 18: 100%|██████████| 615/615 [02:49<00:00,  3.63it/s]\n",
      "Evaluation (loss 0.03) epoch 1: 100%|██████████| 68/68 [00:09<00:00,  7.36it/s]\n",
      "Train epoch 19:   0%|          | 0/615 [00:00<?, ?it/s]"
     ]
    },
    {
     "name": "stdout",
     "output_type": "stream",
     "text": [
      "Validation accuracy: 0.971\n"
     ]
    },
    {
     "name": "stderr",
     "output_type": "stream",
     "text": [
      "Train (loss 0.049) epoch 19: 100%|██████████| 615/615 [02:49<00:00,  3.63it/s]\n",
      "Evaluation (loss 0.00) epoch 1: 100%|██████████| 68/68 [00:09<00:00,  7.37it/s]\n",
      "Valid epoch 19:   0%|          | 0/615 [00:00<?, ?it/s]"
     ]
    },
    {
     "name": "stdout",
     "output_type": "stream",
     "text": [
      "Validation accuracy: 0.970\n"
     ]
    },
    {
     "name": "stderr",
     "output_type": "stream",
     "text": [
      "Evaluation (loss 0.00) epoch 19: 100%|██████████| 615/615 [01:21<00:00,  7.58it/s]\n",
      "Evaluation (loss 0.00) epoch 19: 100%|██████████| 68/68 [00:09<00:00,  7.33it/s]\n"
     ]
    }
   ],
   "source": [
    "net, criterion, train_losses, eval_dict = sr.train_speaker_recognition(data_path = '/home/ubuntu/loop/data/vctk-16khz-cmu-no-boundaries-all',\n",
    "                                                                    nspk = 108,\n",
    "                                                                    seq_len = 300,\n",
    "                                                                    batch_size = 64,\n",
    "                                                                    num_epochs = 20,\n",
    "                                                                    exp_name = 'max_20180629')"
   ]
  },
  {
   "cell_type": "code",
   "execution_count": 4,
   "metadata": {},
   "outputs": [
    {
     "data": {
      "text/plain": [
       "['train_loss',\n",
       " 'valid_accuracy',\n",
       " 'valid_gt',\n",
       " 'valid_loss',\n",
       " 'train_accuracy',\n",
       " 'valid_correct',\n",
       " 'valid_pred']"
      ]
     },
     "execution_count": 4,
     "metadata": {},
     "output_type": "execute_result"
    }
   ],
   "source": [
    "eval_dict.keys()"
   ]
  },
  {
   "cell_type": "code",
   "execution_count": 5,
   "metadata": {},
   "outputs": [
    {
     "data": {
      "text/plain": [
       "0.9382804995196926"
      ]
     },
     "execution_count": 5,
     "metadata": {},
     "output_type": "execute_result"
    }
   ],
   "source": [
    "eval_dict['valid_accuracy']"
   ]
  },
  {
   "cell_type": "markdown",
   "metadata": {},
   "source": [
    "#### Error analysis"
   ]
  },
  {
   "cell_type": "code",
   "execution_count": 11,
   "metadata": {},
   "outputs": [],
   "source": [
    "acc_detail = pd.DataFrame(zip(eval_dict['valid_gt'], eval_dict['valid_correct']), columns=('spkr', 'correct'))"
   ]
  },
  {
   "cell_type": "code",
   "execution_count": 12,
   "metadata": {},
   "outputs": [
    {
     "name": "stdout",
     "output_type": "stream",
     "text": [
      "Num errors: 125/4164\n"
     ]
    }
   ],
   "source": [
    "print \"Num errors: %d/%d\" % (np.sum(eval_dict['valid_correct']==False), len(eval_dict['valid_correct']))"
   ]
  },
  {
   "cell_type": "code",
   "execution_count": 13,
   "metadata": {},
   "outputs": [],
   "source": [
    "df = acc_detail.groupby('spkr').aggregate(('count', 'sum', 'mean'))"
   ]
  },
  {
   "cell_type": "code",
   "execution_count": 14,
   "metadata": {},
   "outputs": [
    {
     "data": {
      "text/html": [
       "<div>\n",
       "<style scoped>\n",
       "    .dataframe tbody tr th:only-of-type {\n",
       "        vertical-align: middle;\n",
       "    }\n",
       "\n",
       "    .dataframe tbody tr th {\n",
       "        vertical-align: top;\n",
       "    }\n",
       "\n",
       "    .dataframe thead th {\n",
       "        text-align: right;\n",
       "    }\n",
       "</style>\n",
       "<table border=\"1\" class=\"dataframe\">\n",
       "  <thead>\n",
       "    <tr style=\"text-align: right;\">\n",
       "      <th></th>\n",
       "      <th>count</th>\n",
       "      <th>sum</th>\n",
       "      <th>mean</th>\n",
       "    </tr>\n",
       "    <tr>\n",
       "      <th>spkr</th>\n",
       "      <th></th>\n",
       "      <th></th>\n",
       "      <th></th>\n",
       "    </tr>\n",
       "  </thead>\n",
       "  <tbody>\n",
       "    <tr>\n",
       "      <th>76</th>\n",
       "      <td>41</td>\n",
       "      <td>33.0</td>\n",
       "      <td>0.804878</td>\n",
       "    </tr>\n",
       "    <tr>\n",
       "      <th>30</th>\n",
       "      <td>42</td>\n",
       "      <td>35.0</td>\n",
       "      <td>0.833333</td>\n",
       "    </tr>\n",
       "    <tr>\n",
       "      <th>64</th>\n",
       "      <td>40</td>\n",
       "      <td>34.0</td>\n",
       "      <td>0.850000</td>\n",
       "    </tr>\n",
       "    <tr>\n",
       "      <th>98</th>\n",
       "      <td>42</td>\n",
       "      <td>36.0</td>\n",
       "      <td>0.857143</td>\n",
       "    </tr>\n",
       "    <tr>\n",
       "      <th>5</th>\n",
       "      <td>39</td>\n",
       "      <td>34.0</td>\n",
       "      <td>0.871795</td>\n",
       "    </tr>\n",
       "  </tbody>\n",
       "</table>\n",
       "</div>"
      ],
      "text/plain": [
       "      count   sum      mean\n",
       "spkr                       \n",
       "76       41  33.0  0.804878\n",
       "30       42  35.0  0.833333\n",
       "64       40  34.0  0.850000\n",
       "98       42  36.0  0.857143\n",
       "5        39  34.0  0.871795"
      ]
     },
     "execution_count": 14,
     "metadata": {},
     "output_type": "execute_result"
    }
   ],
   "source": [
    "df['correct'].sort_values('mean', ascending=True).head()"
   ]
  },
  {
   "cell_type": "markdown",
   "metadata": {},
   "source": [
    "### TODO\n",
    "* Increase epochs - any improvement? *yes, gets up to 99.9%. Didn't get rid of the last error though*\n",
    "* Vary seq_len. How sensitive? *much faster on seq_len=100. Results similar in the end.*\n",
    "* Run on full dataset... does it work?\n",
    "* Try using random 500 step chunk of non-padded part of each sample -> much more robust?\n",
    "* Then try using mean or rms rather than max, seeing as padding less of an issue?\n",
    "* Then look at whether there's a relationship between the classes than come 2nd/3rd and which speaker embeddings are close based on cosine similarity"
   ]
  },
  {
   "cell_type": "markdown",
   "metadata": {},
   "source": [
    "##### 5 epochs, seq_len=300\n",
    "* 99.6% accuracy, 3 errors\n",
    "\n",
    "##### 5 epochs, seq_len=100\n",
    "* Much quicker to train!\n",
    "* 99.4% accuracy, 4 errors\n",
    "\n",
    "##### 10 epochs, seq_len=100\n",
    "* 99.9% accuracy... 1 error\n",
    "\n",
    "##### 10 epochs, seq_len=300\n",
    "* 99.9% accuracy... 1 error\n",
    "\n",
    "#### Full dataset\n",
    "\n",
    "##### 10 epochs, seq_len=300\n",
    "* 96.4% accuracy, 148 errors - not too bad as a starting point\n",
    "\n",
    "##### 10 epochs, seq_len=100\n",
    "* 90.0% accuracy - much worse for the full VCTK dataset, which makes sense\n",
    "\n",
    "##### 10 epochs, seq_len=500\n",
    "* 95.9% accuracy - no better\n",
    "\n",
    "##### 20 epochs, seq_len=400\n",
    "* best 97.8% accuracy, finished at 96%... not much better\n",
    "\n",
    "##### 20 epochs, seq_len=300\n",
    "* best 97.7% accuracy, finished at 97%... okay"
   ]
  },
  {
   "cell_type": "code",
   "execution_count": 18,
   "metadata": {},
   "outputs": [],
   "source": [
    "speaker_info = nu.get_vctk_speaker_info()"
   ]
  },
  {
   "cell_type": "code",
   "execution_count": 3,
   "metadata": {},
   "outputs": [],
   "source": [
    "#speaker_info"
   ]
  }
 ],
 "metadata": {
  "kernelspec": {
   "display_name": "Python 2",
   "language": "python",
   "name": "python2"
  },
  "language_info": {
   "codemirror_mode": {
    "name": "ipython",
    "version": 2
   },
   "file_extension": ".py",
   "mimetype": "text/x-python",
   "name": "python",
   "nbconvert_exporter": "python",
   "pygments_lexer": "ipython2",
   "version": "2.7.12"
  }
 },
 "nbformat": 4,
 "nbformat_minor": 2
}
